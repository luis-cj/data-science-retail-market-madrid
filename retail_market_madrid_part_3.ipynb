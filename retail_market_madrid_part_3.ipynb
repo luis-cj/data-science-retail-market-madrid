{
 "cells": [
  {
   "attachments": {},
   "cell_type": "markdown",
   "metadata": {},
   "source": [
    "# Analysis and insights Python script: Retail market analysis in Barcelona\n",
    "## Part 3: Data preparation"
   ]
  },
  {
   "attachments": {},
   "cell_type": "markdown",
   "metadata": {},
   "source": [
    "### In this part we are going to create new variables or transform the current ones to carry out the actual analysis in Part 4."
   ]
  },
  {
   "cell_type": "markdown",
   "metadata": {},
   "source": [
    "## Import the libraries"
   ]
  },
  {
   "cell_type": "code",
   "execution_count": 22,
   "metadata": {},
   "outputs": [],
   "source": [
    "import numpy as np\n",
    "import pandas as pd\n",
    "import matplotlib.pyplot as plt\n",
    "import seaborn as sns\n",
    "import sqlalchemy as sa\n",
    "import folium"
   ]
  },
  {
   "attachments": {},
   "cell_type": "markdown",
   "metadata": {},
   "source": [
    "## Import the data"
   ]
  },
  {
   "cell_type": "code",
   "execution_count": 23,
   "metadata": {},
   "outputs": [
    {
     "data": {
      "text/html": [
       "<div>\n",
       "<style scoped>\n",
       "    .dataframe tbody tr th:only-of-type {\n",
       "        vertical-align: middle;\n",
       "    }\n",
       "\n",
       "    .dataframe tbody tr th {\n",
       "        vertical-align: top;\n",
       "    }\n",
       "\n",
       "    .dataframe thead th {\n",
       "        text-align: right;\n",
       "    }\n",
       "</style>\n",
       "<table border=\"1\" class=\"dataframe\">\n",
       "  <thead>\n",
       "    <tr style=\"text-align: right;\">\n",
       "      <th></th>\n",
       "      <th>index</th>\n",
       "      <th>id</th>\n",
       "      <th>name</th>\n",
       "      <th>host_id</th>\n",
       "      <th>neighbourhood_group</th>\n",
       "      <th>neighbourhood</th>\n",
       "      <th>latitude</th>\n",
       "      <th>longitude</th>\n",
       "      <th>room_type</th>\n",
       "      <th>price</th>\n",
       "      <th>...</th>\n",
       "      <th>description</th>\n",
       "      <th>host_is_superhost</th>\n",
       "      <th>accommodates</th>\n",
       "      <th>bedrooms</th>\n",
       "      <th>beds</th>\n",
       "      <th>number_of_reviews</th>\n",
       "      <th>review_scores_rating</th>\n",
       "      <th>review_scores_communication</th>\n",
       "      <th>review_scores_location</th>\n",
       "      <th>price_m2</th>\n",
       "    </tr>\n",
       "  </thead>\n",
       "  <tbody>\n",
       "    <tr>\n",
       "      <th>0</th>\n",
       "      <td>0</td>\n",
       "      <td>18674</td>\n",
       "      <td>Huge flat for 8 people close to Sagrada Familia</td>\n",
       "      <td>71615</td>\n",
       "      <td>Eixample</td>\n",
       "      <td>la Sagrada Família</td>\n",
       "      <td>41.40556</td>\n",
       "      <td>2.17262</td>\n",
       "      <td>Entire home/apt</td>\n",
       "      <td>129</td>\n",
       "      <td>...</td>\n",
       "      <td>110m2 apartment to rent in Barcelona. Located ...</td>\n",
       "      <td>f</td>\n",
       "      <td>8</td>\n",
       "      <td>3.0</td>\n",
       "      <td>6.0</td>\n",
       "      <td>33</td>\n",
       "      <td>4.31</td>\n",
       "      <td>4.69</td>\n",
       "      <td>4.81</td>\n",
       "      <td>4835</td>\n",
       "    </tr>\n",
       "    <tr>\n",
       "      <th>1</th>\n",
       "      <td>1</td>\n",
       "      <td>23197</td>\n",
       "      <td>Forum CCIB DeLuxe, Spacious, Elegant ,Christmas</td>\n",
       "      <td>90417</td>\n",
       "      <td>Sant Martí</td>\n",
       "      <td>el Besòs i el Maresme</td>\n",
       "      <td>41.41243</td>\n",
       "      <td>2.21975</td>\n",
       "      <td>Entire home/apt</td>\n",
       "      <td>195</td>\n",
       "      <td>...</td>\n",
       "      <td>Beautiful spacious apartment, large terrace, 5...</td>\n",
       "      <td>t</td>\n",
       "      <td>5</td>\n",
       "      <td>3.0</td>\n",
       "      <td>4.0</td>\n",
       "      <td>65</td>\n",
       "      <td>4.75</td>\n",
       "      <td>4.98</td>\n",
       "      <td>4.58</td>\n",
       "      <td>3544</td>\n",
       "    </tr>\n",
       "    <tr>\n",
       "      <th>2</th>\n",
       "      <td>2</td>\n",
       "      <td>32711</td>\n",
       "      <td>Sagrada Familia area - Còrsega 1</td>\n",
       "      <td>135703</td>\n",
       "      <td>Gràcia</td>\n",
       "      <td>el Camp d'en Grassot i Gràcia Nova</td>\n",
       "      <td>41.40566</td>\n",
       "      <td>2.17015</td>\n",
       "      <td>Entire home/apt</td>\n",
       "      <td>73</td>\n",
       "      <td>...</td>\n",
       "      <td>A lovely two bedroom apartment only 250 m from...</td>\n",
       "      <td>f</td>\n",
       "      <td>6</td>\n",
       "      <td>2.0</td>\n",
       "      <td>3.0</td>\n",
       "      <td>83</td>\n",
       "      <td>4.40</td>\n",
       "      <td>4.84</td>\n",
       "      <td>4.86</td>\n",
       "      <td>4491</td>\n",
       "    </tr>\n",
       "    <tr>\n",
       "      <th>3</th>\n",
       "      <td>3</td>\n",
       "      <td>34981</td>\n",
       "      <td>VIDRE HOME PLAZA REAL on LAS RAMBLAS</td>\n",
       "      <td>73163</td>\n",
       "      <td>Ciutat Vella</td>\n",
       "      <td>el Barri Gòtic</td>\n",
       "      <td>41.37978</td>\n",
       "      <td>2.17623</td>\n",
       "      <td>Entire home/apt</td>\n",
       "      <td>174</td>\n",
       "      <td>...</td>\n",
       "      <td>Spacious apartment for large families or group...</td>\n",
       "      <td>f</td>\n",
       "      <td>9</td>\n",
       "      <td>4.0</td>\n",
       "      <td>6.0</td>\n",
       "      <td>190</td>\n",
       "      <td>4.51</td>\n",
       "      <td>4.68</td>\n",
       "      <td>4.69</td>\n",
       "      <td>4165</td>\n",
       "    </tr>\n",
       "    <tr>\n",
       "      <th>4</th>\n",
       "      <td>4</td>\n",
       "      <td>40983</td>\n",
       "      <td>Classical loft close to pedrera!</td>\n",
       "      <td>177617</td>\n",
       "      <td>Eixample</td>\n",
       "      <td>la Dreta de l'Eixample</td>\n",
       "      <td>41.39631</td>\n",
       "      <td>2.16832</td>\n",
       "      <td>Entire home/apt</td>\n",
       "      <td>60</td>\n",
       "      <td>...</td>\n",
       "      <td>Our cool and comfortable one bedroom apartment...</td>\n",
       "      <td>f</td>\n",
       "      <td>4</td>\n",
       "      <td>1.0</td>\n",
       "      <td>1.0</td>\n",
       "      <td>254</td>\n",
       "      <td>4.37</td>\n",
       "      <td>4.77</td>\n",
       "      <td>4.88</td>\n",
       "      <td>4835</td>\n",
       "    </tr>\n",
       "  </tbody>\n",
       "</table>\n",
       "<p>5 rows × 22 columns</p>\n",
       "</div>"
      ],
      "text/plain": [
       "   index     id                                             name  host_id  \\\n",
       "0      0  18674  Huge flat for 8 people close to Sagrada Familia    71615   \n",
       "1      1  23197  Forum CCIB DeLuxe, Spacious, Elegant ,Christmas    90417   \n",
       "2      2  32711                 Sagrada Familia area - Còrsega 1   135703   \n",
       "3      3  34981             VIDRE HOME PLAZA REAL on LAS RAMBLAS    73163   \n",
       "4      4  40983                 Classical loft close to pedrera!   177617   \n",
       "\n",
       "  neighbourhood_group                       neighbourhood  latitude  \\\n",
       "0            Eixample                  la Sagrada Família  41.40556   \n",
       "1          Sant Martí               el Besòs i el Maresme  41.41243   \n",
       "2              Gràcia  el Camp d'en Grassot i Gràcia Nova  41.40566   \n",
       "3        Ciutat Vella                      el Barri Gòtic  41.37978   \n",
       "4            Eixample              la Dreta de l'Eixample  41.39631   \n",
       "\n",
       "   longitude        room_type  price  ...  \\\n",
       "0    2.17262  Entire home/apt    129  ...   \n",
       "1    2.21975  Entire home/apt    195  ...   \n",
       "2    2.17015  Entire home/apt     73  ...   \n",
       "3    2.17623  Entire home/apt    174  ...   \n",
       "4    2.16832  Entire home/apt     60  ...   \n",
       "\n",
       "                                         description  host_is_superhost  \\\n",
       "0  110m2 apartment to rent in Barcelona. Located ...                  f   \n",
       "1  Beautiful spacious apartment, large terrace, 5...                  t   \n",
       "2  A lovely two bedroom apartment only 250 m from...                  f   \n",
       "3  Spacious apartment for large families or group...                  f   \n",
       "4  Our cool and comfortable one bedroom apartment...                  f   \n",
       "\n",
       "  accommodates bedrooms  beds  number_of_reviews  review_scores_rating  \\\n",
       "0            8      3.0   6.0                 33                  4.31   \n",
       "1            5      3.0   4.0                 65                  4.75   \n",
       "2            6      2.0   3.0                 83                  4.40   \n",
       "3            9      4.0   6.0                190                  4.51   \n",
       "4            4      1.0   1.0                254                  4.37   \n",
       "\n",
       "   review_scores_communication  review_scores_location  price_m2  \n",
       "0                         4.69                    4.81      4835  \n",
       "1                         4.98                    4.58      3544  \n",
       "2                         4.84                    4.86      4491  \n",
       "3                         4.68                    4.69      4165  \n",
       "4                         4.77                    4.88      4835  \n",
       "\n",
       "[5 rows x 22 columns]"
      ]
     },
     "execution_count": 23,
     "metadata": {},
     "output_type": "execute_result"
    }
   ],
   "source": [
    "con = sa.create_engine('sqlite:///data/airbnb.db')\n",
    "\n",
    "df = pd.read_sql(\"df\", con = con)\n",
    "\n",
    "df.head()"
   ]
  },
  {
   "attachments": {},
   "cell_type": "markdown",
   "metadata": {},
   "source": [
    "## Preparing the variables"
   ]
  },
  {
   "attachments": {},
   "cell_type": "markdown",
   "metadata": {},
   "source": [
    "### Create the KPIs variables"
   ]
  },
  {
   "attachments": {},
   "cell_type": "markdown",
   "metadata": {},
   "source": [
    "First we are going to create the analysis variables, the ones we identified as KPIs and we are going to use as levers which affect the business.\n",
    "\n",
    "These were 3:\n",
    "- **Renting price**: we already have this one under the variable \"price\". But we are going to check it to make sure we understand it.\n",
    "- **Availability**: we have \"availability_365\" but we need to transform it.\n",
    "- **Property price**: we will have to create this one with external variables. It's going to be the last variable to be considered."
   ]
  },
  {
   "attachments": {},
   "cell_type": "markdown",
   "metadata": {},
   "source": [
    "**Let's start with the renting price**\n",
    "\n",
    "The dataset does not say if this price is for the whole property or if it is the renting price for a bedroom in case of a bedroom.\n",
    "\n",
    "This is very important, so we are going to analyse the average renting price by type of renting property.\n",
    "\n",
    "Let's look at the district with more data to make that analysis."
   ]
  },
  {
   "cell_type": "code",
   "execution_count": 24,
   "metadata": {},
   "outputs": [
    {
     "data": {
      "text/plain": [
       "Eixample               4340\n",
       "Ciutat Vella           2031\n",
       "Sants-Montjuïc         1205\n",
       "Sant Martí             1021\n",
       "Gràcia                  967\n",
       "Sarrià-Sant Gervasi     448\n",
       "Horta-Guinardó          254\n",
       "Les Corts               240\n",
       "Sant Andreu             115\n",
       "Nou Barris              102\n",
       "Name: neighbourhood_group, dtype: int64"
      ]
     },
     "execution_count": 24,
     "metadata": {},
     "output_type": "execute_result"
    }
   ],
   "source": [
    "df[\"neighbourhood_group\"].value_counts().head(10)"
   ]
  },
  {
   "cell_type": "code",
   "execution_count": 25,
   "metadata": {},
   "outputs": [
    {
     "data": {
      "text/plain": [
       "room_type\n",
       "Entire home/apt    196.941322\n",
       "Private room       167.653343\n",
       "Shared room         41.933333\n",
       "Name: price, dtype: float64"
      ]
     },
     "execution_count": 25,
     "metadata": {},
     "output_type": "execute_result"
    }
   ],
   "source": [
    "df.query('neighbourhood_group == \"Eixample\"').groupby(\"room_type\")[\"price\"].agg(\"mean\")"
   ]
  },
  {
   "attachments": {},
   "cell_type": "markdown",
   "metadata": {},
   "source": [
    "Conclusions:\n",
    "- Renting an entire apartment in Eixample (centric district of Barcelona) average price is 198€.\n",
    "- Renting a private room or a shared room has an average price of 194€ and 42€, respectively.\n",
    "- It is clear that to compute the income of a property we need to take into account the number of bedrooms when the room type is Private or Shared room."
   ]
  },
  {
   "attachments": {},
   "cell_type": "markdown",
   "metadata": {},
   "source": [
    "Multiplying the renting price by the number of bedrooms would not be accurate. You can have a property with more than one bedroom, but not being able to rent them all 100% of the time.\n",
    "\n",
    "We should take into account the average number of bedrooms rented for each property. But we don't know it!\n",
    "\n",
    "We are going to assume that we talked to the business owner and we have been told that such value is around 70%.\n",
    "\n",
    "Let's create the variable total_price applying a custom function."
   ]
  },
  {
   "cell_type": "code",
   "execution_count": 26,
   "metadata": {},
   "outputs": [],
   "source": [
    "def create_total_price(record):\n",
    "    if (record[\"beds\"] > 1) & ((record[\"room_type\"] == 'Private room') | (record[\"room_type\"] == 'Shared room')):\n",
    "        output = record[\"price\"] * record[\"beds\"] * 0.7\n",
    "    else:\n",
    "        output = record[\"price\"]\n",
    "    return(output)\n",
    "\n",
    "df['total_price'] = df.apply(create_total_price, axis = 1)"
   ]
  },
  {
   "attachments": {},
   "cell_type": "markdown",
   "metadata": {},
   "source": [
    "Check that it worked correctly."
   ]
  },
  {
   "cell_type": "code",
   "execution_count": 27,
   "metadata": {},
   "outputs": [
    {
     "data": {
      "text/html": [
       "<div>\n",
       "<style scoped>\n",
       "    .dataframe tbody tr th:only-of-type {\n",
       "        vertical-align: middle;\n",
       "    }\n",
       "\n",
       "    .dataframe tbody tr th {\n",
       "        vertical-align: top;\n",
       "    }\n",
       "\n",
       "    .dataframe thead th {\n",
       "        text-align: right;\n",
       "    }\n",
       "</style>\n",
       "<table border=\"1\" class=\"dataframe\">\n",
       "  <thead>\n",
       "    <tr style=\"text-align: right;\">\n",
       "      <th></th>\n",
       "      <th>room_type</th>\n",
       "      <th>price</th>\n",
       "      <th>beds</th>\n",
       "      <th>total_price</th>\n",
       "    </tr>\n",
       "  </thead>\n",
       "  <tbody>\n",
       "    <tr>\n",
       "      <th>37</th>\n",
       "      <td>Private room</td>\n",
       "      <td>23</td>\n",
       "      <td>2.0</td>\n",
       "      <td>32.2</td>\n",
       "    </tr>\n",
       "    <tr>\n",
       "      <th>87</th>\n",
       "      <td>Private room</td>\n",
       "      <td>50</td>\n",
       "      <td>2.0</td>\n",
       "      <td>70.0</td>\n",
       "    </tr>\n",
       "    <tr>\n",
       "      <th>126</th>\n",
       "      <td>Private room</td>\n",
       "      <td>30</td>\n",
       "      <td>2.0</td>\n",
       "      <td>42.0</td>\n",
       "    </tr>\n",
       "    <tr>\n",
       "      <th>145</th>\n",
       "      <td>Private room</td>\n",
       "      <td>30</td>\n",
       "      <td>2.0</td>\n",
       "      <td>42.0</td>\n",
       "    </tr>\n",
       "    <tr>\n",
       "      <th>168</th>\n",
       "      <td>Private room</td>\n",
       "      <td>30</td>\n",
       "      <td>2.0</td>\n",
       "      <td>42.0</td>\n",
       "    </tr>\n",
       "    <tr>\n",
       "      <th>...</th>\n",
       "      <td>...</td>\n",
       "      <td>...</td>\n",
       "      <td>...</td>\n",
       "      <td>...</td>\n",
       "    </tr>\n",
       "    <tr>\n",
       "      <th>10662</th>\n",
       "      <td>Private room</td>\n",
       "      <td>39</td>\n",
       "      <td>2.0</td>\n",
       "      <td>54.6</td>\n",
       "    </tr>\n",
       "    <tr>\n",
       "      <th>10663</th>\n",
       "      <td>Private room</td>\n",
       "      <td>211</td>\n",
       "      <td>3.0</td>\n",
       "      <td>443.1</td>\n",
       "    </tr>\n",
       "    <tr>\n",
       "      <th>10677</th>\n",
       "      <td>Private room</td>\n",
       "      <td>24</td>\n",
       "      <td>2.0</td>\n",
       "      <td>33.6</td>\n",
       "    </tr>\n",
       "    <tr>\n",
       "      <th>10688</th>\n",
       "      <td>Private room</td>\n",
       "      <td>308</td>\n",
       "      <td>2.0</td>\n",
       "      <td>431.2</td>\n",
       "    </tr>\n",
       "    <tr>\n",
       "      <th>10718</th>\n",
       "      <td>Private room</td>\n",
       "      <td>262</td>\n",
       "      <td>2.0</td>\n",
       "      <td>366.8</td>\n",
       "    </tr>\n",
       "  </tbody>\n",
       "</table>\n",
       "<p>882 rows × 4 columns</p>\n",
       "</div>"
      ],
      "text/plain": [
       "          room_type  price  beds  total_price\n",
       "37     Private room     23   2.0         32.2\n",
       "87     Private room     50   2.0         70.0\n",
       "126    Private room     30   2.0         42.0\n",
       "145    Private room     30   2.0         42.0\n",
       "168    Private room     30   2.0         42.0\n",
       "...             ...    ...   ...          ...\n",
       "10662  Private room     39   2.0         54.6\n",
       "10663  Private room    211   3.0        443.1\n",
       "10677  Private room     24   2.0         33.6\n",
       "10688  Private room    308   2.0        431.2\n",
       "10718  Private room    262   2.0        366.8\n",
       "\n",
       "[882 rows x 4 columns]"
      ]
     },
     "execution_count": 27,
     "metadata": {},
     "output_type": "execute_result"
    }
   ],
   "source": [
    "df[(df[\"room_type\"] == \"Private room\") & (df[\"beds\"] > 1)][[\"room_type\",\"price\",\"beds\",\"total_price\"]]"
   ]
  },
  {
   "attachments": {},
   "cell_type": "markdown",
   "metadata": {},
   "source": [
    "**Let's check the availability**\n",
    "\n",
    "The variable we use for that is availability_365. It says how many days in a year time the property is NOT occupied.\n",
    "\n",
    "We are going to transform it to the % of the year that it actually is occupied."
   ]
  },
  {
   "cell_type": "code",
   "execution_count": 28,
   "metadata": {},
   "outputs": [
    {
     "data": {
      "text/html": [
       "<div>\n",
       "<style scoped>\n",
       "    .dataframe tbody tr th:only-of-type {\n",
       "        vertical-align: middle;\n",
       "    }\n",
       "\n",
       "    .dataframe tbody tr th {\n",
       "        vertical-align: top;\n",
       "    }\n",
       "\n",
       "    .dataframe thead th {\n",
       "        text-align: right;\n",
       "    }\n",
       "</style>\n",
       "<table border=\"1\" class=\"dataframe\">\n",
       "  <thead>\n",
       "    <tr style=\"text-align: right;\">\n",
       "      <th></th>\n",
       "      <th>index</th>\n",
       "      <th>id</th>\n",
       "      <th>name</th>\n",
       "      <th>host_id</th>\n",
       "      <th>neighbourhood_group</th>\n",
       "      <th>neighbourhood</th>\n",
       "      <th>latitude</th>\n",
       "      <th>longitude</th>\n",
       "      <th>room_type</th>\n",
       "      <th>price</th>\n",
       "      <th>...</th>\n",
       "      <th>accommodates</th>\n",
       "      <th>bedrooms</th>\n",
       "      <th>beds</th>\n",
       "      <th>number_of_reviews</th>\n",
       "      <th>review_scores_rating</th>\n",
       "      <th>review_scores_communication</th>\n",
       "      <th>review_scores_location</th>\n",
       "      <th>price_m2</th>\n",
       "      <th>total_price</th>\n",
       "      <th>occupancy_rate</th>\n",
       "    </tr>\n",
       "  </thead>\n",
       "  <tbody>\n",
       "    <tr>\n",
       "      <th>0</th>\n",
       "      <td>0</td>\n",
       "      <td>18674</td>\n",
       "      <td>Huge flat for 8 people close to Sagrada Familia</td>\n",
       "      <td>71615</td>\n",
       "      <td>Eixample</td>\n",
       "      <td>la Sagrada Família</td>\n",
       "      <td>41.40556</td>\n",
       "      <td>2.17262</td>\n",
       "      <td>Entire home/apt</td>\n",
       "      <td>129</td>\n",
       "      <td>...</td>\n",
       "      <td>8</td>\n",
       "      <td>3.0</td>\n",
       "      <td>6.0</td>\n",
       "      <td>33</td>\n",
       "      <td>4.31</td>\n",
       "      <td>4.69</td>\n",
       "      <td>4.81</td>\n",
       "      <td>4835</td>\n",
       "      <td>129.0</td>\n",
       "      <td>27</td>\n",
       "    </tr>\n",
       "    <tr>\n",
       "      <th>1</th>\n",
       "      <td>1</td>\n",
       "      <td>23197</td>\n",
       "      <td>Forum CCIB DeLuxe, Spacious, Elegant ,Christmas</td>\n",
       "      <td>90417</td>\n",
       "      <td>Sant Martí</td>\n",
       "      <td>el Besòs i el Maresme</td>\n",
       "      <td>41.41243</td>\n",
       "      <td>2.21975</td>\n",
       "      <td>Entire home/apt</td>\n",
       "      <td>195</td>\n",
       "      <td>...</td>\n",
       "      <td>5</td>\n",
       "      <td>3.0</td>\n",
       "      <td>4.0</td>\n",
       "      <td>65</td>\n",
       "      <td>4.75</td>\n",
       "      <td>4.98</td>\n",
       "      <td>4.58</td>\n",
       "      <td>3544</td>\n",
       "      <td>195.0</td>\n",
       "      <td>30</td>\n",
       "    </tr>\n",
       "    <tr>\n",
       "      <th>2</th>\n",
       "      <td>2</td>\n",
       "      <td>32711</td>\n",
       "      <td>Sagrada Familia area - Còrsega 1</td>\n",
       "      <td>135703</td>\n",
       "      <td>Gràcia</td>\n",
       "      <td>el Camp d'en Grassot i Gràcia Nova</td>\n",
       "      <td>41.40566</td>\n",
       "      <td>2.17015</td>\n",
       "      <td>Entire home/apt</td>\n",
       "      <td>73</td>\n",
       "      <td>...</td>\n",
       "      <td>6</td>\n",
       "      <td>2.0</td>\n",
       "      <td>3.0</td>\n",
       "      <td>83</td>\n",
       "      <td>4.40</td>\n",
       "      <td>4.84</td>\n",
       "      <td>4.86</td>\n",
       "      <td>4491</td>\n",
       "      <td>73.0</td>\n",
       "      <td>24</td>\n",
       "    </tr>\n",
       "    <tr>\n",
       "      <th>3</th>\n",
       "      <td>3</td>\n",
       "      <td>34981</td>\n",
       "      <td>VIDRE HOME PLAZA REAL on LAS RAMBLAS</td>\n",
       "      <td>73163</td>\n",
       "      <td>Ciutat Vella</td>\n",
       "      <td>el Barri Gòtic</td>\n",
       "      <td>41.37978</td>\n",
       "      <td>2.17623</td>\n",
       "      <td>Entire home/apt</td>\n",
       "      <td>174</td>\n",
       "      <td>...</td>\n",
       "      <td>9</td>\n",
       "      <td>4.0</td>\n",
       "      <td>6.0</td>\n",
       "      <td>190</td>\n",
       "      <td>4.51</td>\n",
       "      <td>4.68</td>\n",
       "      <td>4.69</td>\n",
       "      <td>4165</td>\n",
       "      <td>174.0</td>\n",
       "      <td>61</td>\n",
       "    </tr>\n",
       "    <tr>\n",
       "      <th>4</th>\n",
       "      <td>4</td>\n",
       "      <td>40983</td>\n",
       "      <td>Classical loft close to pedrera!</td>\n",
       "      <td>177617</td>\n",
       "      <td>Eixample</td>\n",
       "      <td>la Dreta de l'Eixample</td>\n",
       "      <td>41.39631</td>\n",
       "      <td>2.16832</td>\n",
       "      <td>Entire home/apt</td>\n",
       "      <td>60</td>\n",
       "      <td>...</td>\n",
       "      <td>4</td>\n",
       "      <td>1.0</td>\n",
       "      <td>1.0</td>\n",
       "      <td>254</td>\n",
       "      <td>4.37</td>\n",
       "      <td>4.77</td>\n",
       "      <td>4.88</td>\n",
       "      <td>4835</td>\n",
       "      <td>60.0</td>\n",
       "      <td>26</td>\n",
       "    </tr>\n",
       "  </tbody>\n",
       "</table>\n",
       "<p>5 rows × 24 columns</p>\n",
       "</div>"
      ],
      "text/plain": [
       "   index     id                                             name  host_id  \\\n",
       "0      0  18674  Huge flat for 8 people close to Sagrada Familia    71615   \n",
       "1      1  23197  Forum CCIB DeLuxe, Spacious, Elegant ,Christmas    90417   \n",
       "2      2  32711                 Sagrada Familia area - Còrsega 1   135703   \n",
       "3      3  34981             VIDRE HOME PLAZA REAL on LAS RAMBLAS    73163   \n",
       "4      4  40983                 Classical loft close to pedrera!   177617   \n",
       "\n",
       "  neighbourhood_group                       neighbourhood  latitude  \\\n",
       "0            Eixample                  la Sagrada Família  41.40556   \n",
       "1          Sant Martí               el Besòs i el Maresme  41.41243   \n",
       "2              Gràcia  el Camp d'en Grassot i Gràcia Nova  41.40566   \n",
       "3        Ciutat Vella                      el Barri Gòtic  41.37978   \n",
       "4            Eixample              la Dreta de l'Eixample  41.39631   \n",
       "\n",
       "   longitude        room_type  price  ...  accommodates  bedrooms beds  \\\n",
       "0    2.17262  Entire home/apt    129  ...             8       3.0  6.0   \n",
       "1    2.21975  Entire home/apt    195  ...             5       3.0  4.0   \n",
       "2    2.17015  Entire home/apt     73  ...             6       2.0  3.0   \n",
       "3    2.17623  Entire home/apt    174  ...             9       4.0  6.0   \n",
       "4    2.16832  Entire home/apt     60  ...             4       1.0  1.0   \n",
       "\n",
       "  number_of_reviews  review_scores_rating  review_scores_communication  \\\n",
       "0                33                  4.31                         4.69   \n",
       "1                65                  4.75                         4.98   \n",
       "2                83                  4.40                         4.84   \n",
       "3               190                  4.51                         4.68   \n",
       "4               254                  4.37                         4.77   \n",
       "\n",
       "   review_scores_location  price_m2  total_price  occupancy_rate  \n",
       "0                    4.81      4835        129.0              27  \n",
       "1                    4.58      3544        195.0              30  \n",
       "2                    4.86      4491         73.0              24  \n",
       "3                    4.69      4165        174.0              61  \n",
       "4                    4.88      4835         60.0              26  \n",
       "\n",
       "[5 rows x 24 columns]"
      ]
     },
     "execution_count": 28,
     "metadata": {},
     "output_type": "execute_result"
    }
   ],
   "source": [
    "df[\"occupancy_rate\"] = ((365 - df[\"availability_365\"]) / 365 * 100).astype(\"int\")\n",
    "df.head()"
   ]
  },
  {
   "attachments": {},
   "cell_type": "markdown",
   "metadata": {},
   "source": [
    "### Tranformation of analysis variables"
   ]
  },
  {
   "attachments": {},
   "cell_type": "markdown",
   "metadata": {},
   "source": [
    "Some seed questions directly relate the renting price or the ocupancy rate with other variables such as the number of bedrooms, the average review score, etc.\n",
    "\n",
    "It is better to carry out these analyses with discretised variables. Then, we are going to discretise:\n",
    "\n",
    "- Accommodates\n",
    "- Bedrooms\n",
    "- Beds\n",
    "- Number of reviews"
   ]
  },
  {
   "attachments": {},
   "cell_type": "markdown",
   "metadata": {},
   "source": [
    "**Discretise bedrooms**\n",
    "\n",
    "First we evaluate the data distribution"
   ]
  },
  {
   "cell_type": "code",
   "execution_count": 29,
   "metadata": {},
   "outputs": [
    {
     "data": {
      "text/plain": [
       "<AxesSubplot:>"
      ]
     },
     "execution_count": 29,
     "metadata": {},
     "output_type": "execute_result"
    },
    {
     "data": {
      "image/png": "[encoded data removed]",
      "text/plain": [
       "<Figure size 432x288 with 1 Axes>"
      ]
     },
     "metadata": {
      "needs_background": "light"
     },
     "output_type": "display_data"
    }
   ],
   "source": [
    "df[\"bedrooms\"].value_counts().sort_values(ascending=False).plot.bar()"
   ]
  },
  {
   "attachments": {},
   "cell_type": "markdown",
   "metadata": {},
   "source": [
    "We are going to discretise for 1,2,3 and more than 3."
   ]
  },
  {
   "cell_type": "code",
   "execution_count": 30,
   "metadata": {},
   "outputs": [],
   "source": [
    "conditions = [df[\"bedrooms\"] == 1,\n",
    "                df[\"bedrooms\"] == 2,\n",
    "                df[\"bedrooms\"] == 3,\n",
    "                df[\"bedrooms\"] > 3]\n",
    "\n",
    "results = [\"01_One\", \"02_Two\", \"03_Three\", \"04_Four or more\"]\n",
    "\n",
    "df[\"bedrooms_disc\"] = np.select(conditions, results, default=-999)"
   ]
  },
  {
   "attachments": {},
   "cell_type": "markdown",
   "metadata": {},
   "source": [
    "Check it worked correctly"
   ]
  },
  {
   "cell_type": "code",
   "execution_count": 31,
   "metadata": {},
   "outputs": [
    {
     "data": {
      "image/png": "[encoded data removed]",
      "text/plain": [
       "<Figure size 432x288 with 1 Axes>"
      ]
     },
     "metadata": {
      "needs_background": "light"
     },
     "output_type": "display_data"
    }
   ],
   "source": [
    "df[\"bedrooms_disc\"].value_counts().plot.bar();"
   ]
  },
  {
   "attachments": {},
   "cell_type": "markdown",
   "metadata": {},
   "source": [
    "**Discretise accommodates, beds and number_of_reviews**\n",
    "\n",
    "We are going to automatically discretise these variables with qcut with percentiles 0.5, 0.8 and 1."
   ]
  },
  {
   "cell_type": "code",
   "execution_count": 32,
   "metadata": {},
   "outputs": [
    {
     "data": {
      "image/png": "[encoded data removed]",
      "text/plain": [
       "<Figure size 432x288 with 1 Axes>"
      ]
     },
     "metadata": {
      "needs_background": "light"
     },
     "output_type": "display_data"
    }
   ],
   "source": [
    "df[\"accommodates_disc\"] = pd.qcut(df[\"accommodates\"],[0, 0.5, 0.8, 1],\n",
    "                                 labels = ['0-3','4','5-16'])\n",
    "\n",
    "df[\"accommodates_disc\"].value_counts().sort_index(ascending = False).plot.barh();"
   ]
  },
  {
   "cell_type": "code",
   "execution_count": 33,
   "metadata": {},
   "outputs": [
    {
     "data": {
      "image/png": "[encoded data removed]",
      "text/plain": [
       "<Figure size 432x288 with 1 Axes>"
      ]
     },
     "metadata": {
      "needs_background": "light"
     },
     "output_type": "display_data"
    }
   ],
   "source": [
    "df[\"beds_disc\"] = pd.qcut(df[\"beds\"],[0, 0.5, 0.8, 1],\n",
    "                         labels = ['1','2','3-24'])\n",
    "\n",
    "df[\"beds_disc\"].value_counts().sort_index(ascending = False).plot.barh();"
   ]
  },
  {
   "cell_type": "code",
   "execution_count": 34,
   "metadata": {},
   "outputs": [
    {
     "data": {
      "image/png": "[encoded data removed]",
      "text/plain": [
       "<Figure size 432x288 with 1 Axes>"
      ]
     },
     "metadata": {
      "needs_background": "light"
     },
     "output_type": "display_data"
    }
   ],
   "source": [
    "df[\"number_of_reviews_disc\"] = pd.qcut(df[\"number_of_reviews\"],[0, 0.5, 0.8, 1],\n",
    "                                      labels = ['1-4','5-48','48-744'])\n",
    "\n",
    "df[\"number_of_reviews_disc\"].value_counts().sort_index(ascending = False).plot.barh();"
   ]
  },
  {
   "attachments": {},
   "cell_type": "markdown",
   "metadata": {},
   "source": [
    "### Create variables with external data"
   ]
  },
  {
   "attachments": {},
   "cell_type": "markdown",
   "metadata": {},
   "source": [
    "Here we are going to:\n",
    "- Estimate the property size in m<sup>2</sup>.\n",
    "- Compute the distance from each property to the city center."
   ]
  },
  {
   "attachments": {},
   "cell_type": "markdown",
   "metadata": {},
   "source": [
    "**Proerty size in m<sup>2</sup>**\n",
    "\n",
    "We already know the price per m<sup>2</sup>. Now we need to know the property size so we can compute the property price.\n",
    "\n",
    "A good approximation will be to estimate the property size for some given number of bedrooms.\n",
    "\n",
    "In this case:\n",
    "- 1 bedroom: 50m<sup>2</sup>\n",
    "- 2 bedroom: 70m<sup>2</sup>\n",
    "- 3 bedroom: 90m<sup>2</sup>\n",
    "- 4 bedroom: 120m<sup>2</sup>\n",
    "- 5 or more bedrooms: 150m<sup>2</sup>"
   ]
  },
  {
   "cell_type": "code",
   "execution_count": 35,
   "metadata": {},
   "outputs": [],
   "source": [
    "conditions = [df[\"bedrooms\"] == 1,\n",
    "                df[\"bedrooms\"] == 2,\n",
    "                df[\"bedrooms\"] == 3,\n",
    "                df[\"bedrooms\"] == 4,\n",
    "                df[\"bedrooms\"] >= 5]\n",
    "\n",
    "results = [50,70,90,120,150]\n",
    "\n",
    "df[\"m2\"] = np.select(conditions, results, default=-999)"
   ]
  },
  {
   "attachments": {},
   "cell_type": "markdown",
   "metadata": {},
   "source": [
    "Check it worked correctly:"
   ]
  },
  {
   "cell_type": "code",
   "execution_count": 36,
   "metadata": {},
   "outputs": [
    {
     "data": {
      "text/plain": [
       "50     5811\n",
       "70     2587\n",
       "90     1626\n",
       "120     500\n",
       "150     199\n",
       "Name: m2, dtype: int64"
      ]
     },
     "execution_count": 36,
     "metadata": {},
     "output_type": "execute_result"
    }
   ],
   "source": [
    "df[\"m2\"].value_counts().sort_index()"
   ]
  },
  {
   "attachments": {},
   "cell_type": "markdown",
   "metadata": {},
   "source": [
    "We can now estimate the property purchase price.\n",
    "\n",
    "Also note that we assumed a 25% discount to the final price since the business managers can negotiate and lower that price."
   ]
  },
  {
   "cell_type": "code",
   "execution_count": 37,
   "metadata": {},
   "outputs": [],
   "source": [
    "df[\"purchase_price\"] = df[\"price_m2\"] * df[\"m2\"] * 0.75"
   ]
  },
  {
   "cell_type": "code",
   "execution_count": 38,
   "metadata": {},
   "outputs": [
    {
     "data": {
      "text/html": [
       "<div>\n",
       "<style scoped>\n",
       "    .dataframe tbody tr th:only-of-type {\n",
       "        vertical-align: middle;\n",
       "    }\n",
       "\n",
       "    .dataframe tbody tr th {\n",
       "        vertical-align: top;\n",
       "    }\n",
       "\n",
       "    .dataframe thead th {\n",
       "        text-align: right;\n",
       "    }\n",
       "</style>\n",
       "<table border=\"1\" class=\"dataframe\">\n",
       "  <thead>\n",
       "    <tr style=\"text-align: right;\">\n",
       "      <th></th>\n",
       "      <th>bedrooms</th>\n",
       "      <th>m2</th>\n",
       "      <th>neighbourhood_group</th>\n",
       "      <th>price_m2</th>\n",
       "      <th>purchase_price</th>\n",
       "    </tr>\n",
       "  </thead>\n",
       "  <tbody>\n",
       "    <tr>\n",
       "      <th>0</th>\n",
       "      <td>3.0</td>\n",
       "      <td>90</td>\n",
       "      <td>Eixample</td>\n",
       "      <td>4835</td>\n",
       "      <td>326362.5</td>\n",
       "    </tr>\n",
       "    <tr>\n",
       "      <th>1</th>\n",
       "      <td>3.0</td>\n",
       "      <td>90</td>\n",
       "      <td>Sant Martí</td>\n",
       "      <td>3544</td>\n",
       "      <td>239220.0</td>\n",
       "    </tr>\n",
       "    <tr>\n",
       "      <th>2</th>\n",
       "      <td>2.0</td>\n",
       "      <td>70</td>\n",
       "      <td>Gràcia</td>\n",
       "      <td>4491</td>\n",
       "      <td>235777.5</td>\n",
       "    </tr>\n",
       "    <tr>\n",
       "      <th>3</th>\n",
       "      <td>4.0</td>\n",
       "      <td>120</td>\n",
       "      <td>Ciutat Vella</td>\n",
       "      <td>4165</td>\n",
       "      <td>374850.0</td>\n",
       "    </tr>\n",
       "    <tr>\n",
       "      <th>4</th>\n",
       "      <td>1.0</td>\n",
       "      <td>50</td>\n",
       "      <td>Eixample</td>\n",
       "      <td>4835</td>\n",
       "      <td>181312.5</td>\n",
       "    </tr>\n",
       "    <tr>\n",
       "      <th>5</th>\n",
       "      <td>2.0</td>\n",
       "      <td>70</td>\n",
       "      <td>Gràcia</td>\n",
       "      <td>4491</td>\n",
       "      <td>235777.5</td>\n",
       "    </tr>\n",
       "    <tr>\n",
       "      <th>6</th>\n",
       "      <td>2.0</td>\n",
       "      <td>70</td>\n",
       "      <td>Sant Martí</td>\n",
       "      <td>3544</td>\n",
       "      <td>186060.0</td>\n",
       "    </tr>\n",
       "    <tr>\n",
       "      <th>7</th>\n",
       "      <td>2.0</td>\n",
       "      <td>70</td>\n",
       "      <td>Gràcia</td>\n",
       "      <td>4491</td>\n",
       "      <td>235777.5</td>\n",
       "    </tr>\n",
       "    <tr>\n",
       "      <th>8</th>\n",
       "      <td>2.0</td>\n",
       "      <td>70</td>\n",
       "      <td>Eixample</td>\n",
       "      <td>4835</td>\n",
       "      <td>253837.5</td>\n",
       "    </tr>\n",
       "    <tr>\n",
       "      <th>9</th>\n",
       "      <td>1.0</td>\n",
       "      <td>50</td>\n",
       "      <td>Ciutat Vella</td>\n",
       "      <td>4165</td>\n",
       "      <td>156187.5</td>\n",
       "    </tr>\n",
       "    <tr>\n",
       "      <th>10</th>\n",
       "      <td>2.0</td>\n",
       "      <td>70</td>\n",
       "      <td>Eixample</td>\n",
       "      <td>4835</td>\n",
       "      <td>253837.5</td>\n",
       "    </tr>\n",
       "    <tr>\n",
       "      <th>11</th>\n",
       "      <td>1.0</td>\n",
       "      <td>50</td>\n",
       "      <td>Sants-Montjuïc</td>\n",
       "      <td>3383</td>\n",
       "      <td>126862.5</td>\n",
       "    </tr>\n",
       "    <tr>\n",
       "      <th>12</th>\n",
       "      <td>3.0</td>\n",
       "      <td>90</td>\n",
       "      <td>Eixample</td>\n",
       "      <td>4835</td>\n",
       "      <td>326362.5</td>\n",
       "    </tr>\n",
       "    <tr>\n",
       "      <th>13</th>\n",
       "      <td>2.0</td>\n",
       "      <td>70</td>\n",
       "      <td>Gràcia</td>\n",
       "      <td>4491</td>\n",
       "      <td>235777.5</td>\n",
       "    </tr>\n",
       "    <tr>\n",
       "      <th>14</th>\n",
       "      <td>3.0</td>\n",
       "      <td>90</td>\n",
       "      <td>Gràcia</td>\n",
       "      <td>4491</td>\n",
       "      <td>303142.5</td>\n",
       "    </tr>\n",
       "    <tr>\n",
       "      <th>15</th>\n",
       "      <td>1.0</td>\n",
       "      <td>50</td>\n",
       "      <td>Eixample</td>\n",
       "      <td>4835</td>\n",
       "      <td>181312.5</td>\n",
       "    </tr>\n",
       "    <tr>\n",
       "      <th>16</th>\n",
       "      <td>3.0</td>\n",
       "      <td>90</td>\n",
       "      <td>Eixample</td>\n",
       "      <td>4835</td>\n",
       "      <td>326362.5</td>\n",
       "    </tr>\n",
       "    <tr>\n",
       "      <th>17</th>\n",
       "      <td>1.0</td>\n",
       "      <td>50</td>\n",
       "      <td>Eixample</td>\n",
       "      <td>4835</td>\n",
       "      <td>181312.5</td>\n",
       "    </tr>\n",
       "    <tr>\n",
       "      <th>18</th>\n",
       "      <td>3.0</td>\n",
       "      <td>90</td>\n",
       "      <td>Eixample</td>\n",
       "      <td>4835</td>\n",
       "      <td>326362.5</td>\n",
       "    </tr>\n",
       "    <tr>\n",
       "      <th>19</th>\n",
       "      <td>1.0</td>\n",
       "      <td>50</td>\n",
       "      <td>Eixample</td>\n",
       "      <td>4835</td>\n",
       "      <td>181312.5</td>\n",
       "    </tr>\n",
       "  </tbody>\n",
       "</table>\n",
       "</div>"
      ],
      "text/plain": [
       "    bedrooms   m2 neighbourhood_group  price_m2  purchase_price\n",
       "0        3.0   90            Eixample      4835        326362.5\n",
       "1        3.0   90          Sant Martí      3544        239220.0\n",
       "2        2.0   70              Gràcia      4491        235777.5\n",
       "3        4.0  120        Ciutat Vella      4165        374850.0\n",
       "4        1.0   50            Eixample      4835        181312.5\n",
       "5        2.0   70              Gràcia      4491        235777.5\n",
       "6        2.0   70          Sant Martí      3544        186060.0\n",
       "7        2.0   70              Gràcia      4491        235777.5\n",
       "8        2.0   70            Eixample      4835        253837.5\n",
       "9        1.0   50        Ciutat Vella      4165        156187.5\n",
       "10       2.0   70            Eixample      4835        253837.5\n",
       "11       1.0   50      Sants-Montjuïc      3383        126862.5\n",
       "12       3.0   90            Eixample      4835        326362.5\n",
       "13       2.0   70              Gràcia      4491        235777.5\n",
       "14       3.0   90              Gràcia      4491        303142.5\n",
       "15       1.0   50            Eixample      4835        181312.5\n",
       "16       3.0   90            Eixample      4835        326362.5\n",
       "17       1.0   50            Eixample      4835        181312.5\n",
       "18       3.0   90            Eixample      4835        326362.5\n",
       "19       1.0   50            Eixample      4835        181312.5"
      ]
     },
     "execution_count": 38,
     "metadata": {},
     "output_type": "execute_result"
    }
   ],
   "source": [
    "df[[\"bedrooms\",\"m2\",\"neighbourhood_group\",\"price_m2\",\"purchase_price\"]].head(20)"
   ]
  },
  {
   "attachments": {},
   "cell_type": "markdown",
   "metadata": {},
   "source": [
    "**Distance from each town to the city center**\n",
    "\n"
   ]
  },
  {
   "attachments": {},
   "cell_type": "markdown",
   "metadata": {},
   "source": [
    "We are going to measure the distance of each property to the city center. The city center is going to be Plaça Catalunya.\n",
    "\n",
    "It latitude and longitude are:\n",
    "\n",
    "- Latitude: 41.3869833 \n",
    "- Longitude: 2.1713775\n",
    "\n",
    "To compute the distance we are going to use the Haversine formula, which takes into account the spherical shape of Earth to measure distances.\n",
    "\n",
    "The formula is based on the one from [this](https://stackoverflow.com/questions/4913349/haversine-formula-in-python-bearing-and-distance-between-two-gps-points) link."
   ]
  },
  {
   "cell_type": "code",
   "execution_count": 39,
   "metadata": {},
   "outputs": [],
   "source": [
    "from math import radians, cos, sin, asin, sqrt\n",
    "\n",
    "def haversine(lat1, lon1, lat2, lon2):\n",
    "\n",
    "      R = 6372.8 # Earth radius in km. If we wanted to compute the distance in miles we should use 3959.87433.\n",
    "\n",
    "      dLat = radians(lat2 - lat1)\n",
    "      dLon = radians(lon2 - lon1)\n",
    "      lat1 = radians(lat1)\n",
    "      lat2 = radians(lat2)\n",
    "\n",
    "      a = sin(dLat/2)**2 + cos(lat1)*cos(lat2)*sin(dLon/2)**2\n",
    "      c = 2*asin(sqrt(a))\n",
    "\n",
    "      return R * c"
   ]
  },
  {
   "attachments": {},
   "cell_type": "markdown",
   "metadata": {},
   "source": [
    "We can now create the new variable."
   ]
  },
  {
   "cell_type": "code",
   "execution_count": 40,
   "metadata": {},
   "outputs": [],
   "source": [
    "# Coordinates from Plaza de España will be lat1 and lon1\n",
    "lat1 = 41.3869833\n",
    "lon1 = 2.1713775\n",
    "\n",
    "df[\"distance_center\"] = df.apply(lambda record: haversine(lat1,lon1,record[\"latitude\"],record[\"longitude\"]),axis = 1)"
   ]
  },
  {
   "attachments": {},
   "cell_type": "markdown",
   "metadata": {},
   "source": [
    "Check it works."
   ]
  },
  {
   "cell_type": "code",
   "execution_count": 41,
   "metadata": {},
   "outputs": [
    {
     "data": {
      "text/plain": [
       "neighbourhood_group\n",
       "Ciutat Vella           0.842412\n",
       "Eixample               1.338215\n",
       "Gràcia                 2.212503\n",
       "Sants-Montjuïc         2.438574\n",
       "Sarrià-Sant Gervasi    2.979049\n",
       "Sant Martí             3.038146\n",
       "Les Corts              3.500973\n",
       "Horta-Guinardó         3.566981\n",
       "Sant Andreu            4.545179\n",
       "Nou Barris             5.454331\n",
       "Name: distance_center, dtype: float64"
      ]
     },
     "execution_count": 41,
     "metadata": {},
     "output_type": "execute_result"
    }
   ],
   "source": [
    "df.groupby(\"neighbourhood_group\")[\"distance_center\"].agg(\"mean\").sort_values()"
   ]
  },
  {
   "attachments": {},
   "cell_type": "markdown",
   "metadata": {},
   "source": [
    "## Save the data mart"
   ]
  },
  {
   "attachments": {},
   "cell_type": "markdown",
   "metadata": {},
   "source": [
    "We can now save the whole data set as df_final"
   ]
  },
  {
   "cell_type": "code",
   "execution_count": 42,
   "metadata": {},
   "outputs": [],
   "source": [
    "df.to_sql(\"df_final\", con = con, if_exists=\"replace\")"
   ]
  }
 ],
 "metadata": {
  "kernelspec": {
   "display_name": "Python 3",
   "language": "python",
   "name": "python3"
  },
  "language_info": {
   "codemirror_mode": {
    "name": "ipython",
    "version": 3
   },
   "file_extension": ".py",
   "mimetype": "text/x-python",
   "name": "python",
   "nbconvert_exporter": "python",
   "pygments_lexer": "ipython3",
   "version": "3.9.13"
  },
  "orig_nbformat": 4,
  "vscode": {
   "interpreter": {
    "hash": "2789caef645d45bff6716333081153e0abcdca1b280055be67a93206d3f61efc"
   }
  }
 },
 "nbformat": 4,
 "nbformat_minor": 2
}
