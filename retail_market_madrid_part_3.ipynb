{
 "cells": [
  {
   "attachments": {},
   "cell_type": "markdown",
   "metadata": {},
   "source": [
    "# Analysis and insights Python script: Retail market analysis in Madrid\n",
    "## Part 3: Data preparation"
   ]
  },
  {
   "attachments": {},
   "cell_type": "markdown",
   "metadata": {},
   "source": [
    "### In this part we are going to create new variables or transform the current ones to carry out the actual analysis in Part 4."
   ]
  },
  {
   "cell_type": "markdown",
   "metadata": {},
   "source": [
    "## Import the libraries"
   ]
  },
  {
   "cell_type": "code",
   "execution_count": 22,
   "metadata": {},
   "outputs": [],
   "source": [
    "import numpy as np\n",
    "import pandas as pd\n",
    "import matplotlib.pyplot as plt\n",
    "import seaborn as sns\n",
    "import sqlalchemy as sa\n",
    "import folium"
   ]
  },
  {
   "attachments": {},
   "cell_type": "markdown",
   "metadata": {},
   "source": [
    "## Import the data"
   ]
  },
  {
   "cell_type": "code",
   "execution_count": 23,
   "metadata": {},
   "outputs": [
    {
     "data": {
      "text/html": [
       "<div>\n",
       "<style scoped>\n",
       "    .dataframe tbody tr th:only-of-type {\n",
       "        vertical-align: middle;\n",
       "    }\n",
       "\n",
       "    .dataframe tbody tr th {\n",
       "        vertical-align: top;\n",
       "    }\n",
       "\n",
       "    .dataframe thead th {\n",
       "        text-align: right;\n",
       "    }\n",
       "</style>\n",
       "<table border=\"1\" class=\"dataframe\">\n",
       "  <thead>\n",
       "    <tr style=\"text-align: right;\">\n",
       "      <th></th>\n",
       "      <th>index</th>\n",
       "      <th>id</th>\n",
       "      <th>name</th>\n",
       "      <th>host_id</th>\n",
       "      <th>neighbourhood_group</th>\n",
       "      <th>neighbourhood</th>\n",
       "      <th>latitude</th>\n",
       "      <th>longitude</th>\n",
       "      <th>room_type</th>\n",
       "      <th>price</th>\n",
       "      <th>...</th>\n",
       "      <th>description</th>\n",
       "      <th>host_is_superhost</th>\n",
       "      <th>accommodates</th>\n",
       "      <th>bedrooms</th>\n",
       "      <th>beds</th>\n",
       "      <th>number_of_reviews</th>\n",
       "      <th>review_scores_rating</th>\n",
       "      <th>review_scores_communication</th>\n",
       "      <th>review_scores_location</th>\n",
       "      <th>price_m2</th>\n",
       "    </tr>\n",
       "  </thead>\n",
       "  <tbody>\n",
       "    <tr>\n",
       "      <th>0</th>\n",
       "      <td>0</td>\n",
       "      <td>6369</td>\n",
       "      <td>Rooftop terrace room ,  ensuite bathroom</td>\n",
       "      <td>13660</td>\n",
       "      <td>Chamartín</td>\n",
       "      <td>Hispanoamérica</td>\n",
       "      <td>40.45724</td>\n",
       "      <td>-3.67688</td>\n",
       "      <td>Private room</td>\n",
       "      <td>90</td>\n",
       "      <td>...</td>\n",
       "      <td>Excellent connection with the AIRPORT and EXHI...</td>\n",
       "      <td>t</td>\n",
       "      <td>2</td>\n",
       "      <td>1.0</td>\n",
       "      <td>1.0</td>\n",
       "      <td>102</td>\n",
       "      <td>4.87</td>\n",
       "      <td>4.86</td>\n",
       "      <td>4.83</td>\n",
       "      <td>5590</td>\n",
       "    </tr>\n",
       "    <tr>\n",
       "      <th>1</th>\n",
       "      <td>1</td>\n",
       "      <td>21853</td>\n",
       "      <td>Bright and airy room</td>\n",
       "      <td>83531</td>\n",
       "      <td>Latina</td>\n",
       "      <td>Cármenes</td>\n",
       "      <td>40.40381</td>\n",
       "      <td>-3.74130</td>\n",
       "      <td>Private room</td>\n",
       "      <td>31</td>\n",
       "      <td>...</td>\n",
       "      <td>We have a quiet and sunny room with a good vie...</td>\n",
       "      <td>f</td>\n",
       "      <td>1</td>\n",
       "      <td>1.0</td>\n",
       "      <td>1.0</td>\n",
       "      <td>33</td>\n",
       "      <td>4.58</td>\n",
       "      <td>4.82</td>\n",
       "      <td>4.21</td>\n",
       "      <td>2476</td>\n",
       "    </tr>\n",
       "    <tr>\n",
       "      <th>2</th>\n",
       "      <td>2</td>\n",
       "      <td>24805</td>\n",
       "      <td>Gran Via Studio Madrid</td>\n",
       "      <td>346366726</td>\n",
       "      <td>Centro</td>\n",
       "      <td>Universidad</td>\n",
       "      <td>40.42183</td>\n",
       "      <td>-3.70529</td>\n",
       "      <td>Entire home/apt</td>\n",
       "      <td>92</td>\n",
       "      <td>...</td>\n",
       "      <td>Studio located 50 meters from Gran Via, next t...</td>\n",
       "      <td>f</td>\n",
       "      <td>3</td>\n",
       "      <td>1.0</td>\n",
       "      <td>1.0</td>\n",
       "      <td>25</td>\n",
       "      <td>4.88</td>\n",
       "      <td>5.00</td>\n",
       "      <td>5.00</td>\n",
       "      <td>5205</td>\n",
       "    </tr>\n",
       "    <tr>\n",
       "      <th>3</th>\n",
       "      <td>3</td>\n",
       "      <td>26825</td>\n",
       "      <td>Single Room whith private Bathroom</td>\n",
       "      <td>114340</td>\n",
       "      <td>Arganzuela</td>\n",
       "      <td>Legazpi</td>\n",
       "      <td>40.38975</td>\n",
       "      <td>-3.69018</td>\n",
       "      <td>Private room</td>\n",
       "      <td>29</td>\n",
       "      <td>...</td>\n",
       "      <td>Nice and cozy roon for one person with a priva...</td>\n",
       "      <td>t</td>\n",
       "      <td>1</td>\n",
       "      <td>1.0</td>\n",
       "      <td>1.0</td>\n",
       "      <td>173</td>\n",
       "      <td>4.70</td>\n",
       "      <td>4.71</td>\n",
       "      <td>4.74</td>\n",
       "      <td>4331</td>\n",
       "    </tr>\n",
       "    <tr>\n",
       "      <th>4</th>\n",
       "      <td>4</td>\n",
       "      <td>37921</td>\n",
       "      <td>Piso barrio de salamanca</td>\n",
       "      <td>162926</td>\n",
       "      <td>Salamanca</td>\n",
       "      <td>Recoletos</td>\n",
       "      <td>40.42325</td>\n",
       "      <td>-3.68281</td>\n",
       "      <td>Private room</td>\n",
       "      <td>20</td>\n",
       "      <td>...</td>\n",
       "      <td>&lt;b&gt;The space&lt;/b&gt;&lt;br /&gt;Piso de 3 habitaciones y...</td>\n",
       "      <td>f</td>\n",
       "      <td>8</td>\n",
       "      <td>3.0</td>\n",
       "      <td>6.0</td>\n",
       "      <td>0</td>\n",
       "      <td>NaN</td>\n",
       "      <td>NaN</td>\n",
       "      <td>NaN</td>\n",
       "      <td>6633</td>\n",
       "    </tr>\n",
       "  </tbody>\n",
       "</table>\n",
       "<p>5 rows × 22 columns</p>\n",
       "</div>"
      ],
      "text/plain": [
       "   index     id                                      name    host_id  \\\n",
       "0      0   6369  Rooftop terrace room ,  ensuite bathroom      13660   \n",
       "1      1  21853                      Bright and airy room      83531   \n",
       "2      2  24805                    Gran Via Studio Madrid  346366726   \n",
       "3      3  26825        Single Room whith private Bathroom     114340   \n",
       "4      4  37921                  Piso barrio de salamanca     162926   \n",
       "\n",
       "  neighbourhood_group   neighbourhood  latitude  longitude        room_type  \\\n",
       "0           Chamartín  Hispanoamérica  40.45724   -3.67688     Private room   \n",
       "1              Latina        Cármenes  40.40381   -3.74130     Private room   \n",
       "2              Centro     Universidad  40.42183   -3.70529  Entire home/apt   \n",
       "3          Arganzuela         Legazpi  40.38975   -3.69018     Private room   \n",
       "4           Salamanca       Recoletos  40.42325   -3.68281     Private room   \n",
       "\n",
       "   price  ...                                        description  \\\n",
       "0     90  ...  Excellent connection with the AIRPORT and EXHI...   \n",
       "1     31  ...  We have a quiet and sunny room with a good vie...   \n",
       "2     92  ...  Studio located 50 meters from Gran Via, next t...   \n",
       "3     29  ...  Nice and cozy roon for one person with a priva...   \n",
       "4     20  ...  <b>The space</b><br />Piso de 3 habitaciones y...   \n",
       "\n",
       "   host_is_superhost accommodates bedrooms  beds  number_of_reviews  \\\n",
       "0                  t            2      1.0   1.0                102   \n",
       "1                  f            1      1.0   1.0                 33   \n",
       "2                  f            3      1.0   1.0                 25   \n",
       "3                  t            1      1.0   1.0                173   \n",
       "4                  f            8      3.0   6.0                  0   \n",
       "\n",
       "   review_scores_rating  review_scores_communication  review_scores_location  \\\n",
       "0                  4.87                         4.86                    4.83   \n",
       "1                  4.58                         4.82                    4.21   \n",
       "2                  4.88                         5.00                    5.00   \n",
       "3                  4.70                         4.71                    4.74   \n",
       "4                   NaN                          NaN                     NaN   \n",
       "\n",
       "   price_m2  \n",
       "0      5590  \n",
       "1      2476  \n",
       "2      5205  \n",
       "3      4331  \n",
       "4      6633  \n",
       "\n",
       "[5 rows x 22 columns]"
      ]
     },
     "execution_count": 23,
     "metadata": {},
     "output_type": "execute_result"
    }
   ],
   "source": [
    "con = sa.create_engine('sqlite:///data/airbnb.db')\n",
    "\n",
    "df = pd.read_sql(\"df\", con = con)\n",
    "\n",
    "df.head()"
   ]
  },
  {
   "attachments": {},
   "cell_type": "markdown",
   "metadata": {},
   "source": [
    "## Preparing the variables"
   ]
  },
  {
   "attachments": {},
   "cell_type": "markdown",
   "metadata": {},
   "source": [
    "### Create the KPIs variables"
   ]
  },
  {
   "attachments": {},
   "cell_type": "markdown",
   "metadata": {},
   "source": [
    "First we are going to create the analysis variables, the ones we identified as KPIs and we are going to use as levers which affect the business.\n",
    "\n",
    "These were 3:\n",
    "- **Renting price**: we already have this one under the variable \"price\". But we are going to check it to make sure we understand it.\n",
    "- **Availability**: we have \"availability_365\" but we need to transform it.\n",
    "- **Property price**: we will have to create this one with external variables. It's going to be the last variable to be considered."
   ]
  },
  {
   "attachments": {},
   "cell_type": "markdown",
   "metadata": {},
   "source": [
    "**Let's start with the renting price**\n",
    "\n",
    "The dataset does not say if this price is for the whole property or if it is the renting price for a bedroom in case of a bedroom.\n",
    "\n",
    "This is very important, so we are going to analyse the average renting price by type of renting property.\n",
    "\n",
    "Let's look at the district with more data to make that analysis."
   ]
  },
  {
   "cell_type": "code",
   "execution_count": 24,
   "metadata": {},
   "outputs": [
    {
     "data": {
      "text/plain": [
       "Centro               8932\n",
       "Salamanca            1335\n",
       "Chamberí             1132\n",
       "Arganzuela           1022\n",
       "Tetuán                926\n",
       "Retiro                710\n",
       "Carabanchel           673\n",
       "Ciudad Lineal         589\n",
       "Chamartín             582\n",
       "Moncloa - Aravaca     566\n",
       "Name: neighbourhood_group, dtype: int64"
      ]
     },
     "execution_count": 24,
     "metadata": {},
     "output_type": "execute_result"
    }
   ],
   "source": [
    "df[\"neighbourhood_group\"].value_counts().head(10)"
   ]
  },
  {
   "cell_type": "code",
   "execution_count": 25,
   "metadata": {},
   "outputs": [
    {
     "data": {
      "text/plain": [
       "room_type\n",
       "Entire home/apt    176.730443\n",
       "Private room        97.631151\n",
       "Shared room        101.375000\n",
       "Name: price, dtype: float64"
      ]
     },
     "execution_count": 25,
     "metadata": {},
     "output_type": "execute_result"
    }
   ],
   "source": [
    "df.query('neighbourhood_group == \"Centro\"').groupby(\"room_type\")[\"price\"].agg(\"mean\")"
   ]
  },
  {
   "attachments": {},
   "cell_type": "markdown",
   "metadata": {},
   "source": [
    "Conclusions:\n",
    "- Renting an entire apartment in the city center the average price is 176.\n",
    "- Renting a private room or a shared room has an average price of 97€ and 101, respectively.\n",
    "- It is clear that to compute the income of a property we need to take into account the number of bedrooms when the room type is Private or Shared room."
   ]
  },
  {
   "attachments": {},
   "cell_type": "markdown",
   "metadata": {},
   "source": [
    "Multiplying the renting price by the number of bedrooms would not be accurate. You can have a property with more than one bedroom, but not being able to rent them all 100% of the time.\n",
    "\n",
    "We should take into account the average number of bedrooms rented for each property. But we don't know it!\n",
    "\n",
    "We are going to assume that we talked to the business owner and we have been told that such value is around 70%.\n",
    "\n",
    "Let's create the variable total_price applying a custom function."
   ]
  },
  {
   "cell_type": "code",
   "execution_count": 26,
   "metadata": {},
   "outputs": [],
   "source": [
    "def create_total_price(record):\n",
    "    if (record[\"beds\"] > 1) & ((record[\"room_type\"] == 'Private room') | (record[\"room_type\"] == 'Shared room')):\n",
    "        output = record[\"price\"] * record[\"beds\"] * 0.7\n",
    "    else:\n",
    "        output = record[\"price\"]\n",
    "    return(output)\n",
    "\n",
    "df['total_price'] = df.apply(create_total_price, axis = 1)"
   ]
  },
  {
   "attachments": {},
   "cell_type": "markdown",
   "metadata": {},
   "source": [
    "Check that it worked correctly."
   ]
  },
  {
   "cell_type": "code",
   "execution_count": 27,
   "metadata": {},
   "outputs": [
    {
     "data": {
      "text/html": [
       "<div>\n",
       "<style scoped>\n",
       "    .dataframe tbody tr th:only-of-type {\n",
       "        vertical-align: middle;\n",
       "    }\n",
       "\n",
       "    .dataframe tbody tr th {\n",
       "        vertical-align: top;\n",
       "    }\n",
       "\n",
       "    .dataframe thead th {\n",
       "        text-align: right;\n",
       "    }\n",
       "</style>\n",
       "<table border=\"1\" class=\"dataframe\">\n",
       "  <thead>\n",
       "    <tr style=\"text-align: right;\">\n",
       "      <th></th>\n",
       "      <th>room_type</th>\n",
       "      <th>price</th>\n",
       "      <th>beds</th>\n",
       "      <th>total_price</th>\n",
       "    </tr>\n",
       "  </thead>\n",
       "  <tbody>\n",
       "    <tr>\n",
       "      <th>4</th>\n",
       "      <td>Private room</td>\n",
       "      <td>20</td>\n",
       "      <td>6.0</td>\n",
       "      <td>84.0</td>\n",
       "    </tr>\n",
       "    <tr>\n",
       "      <th>8</th>\n",
       "      <td>Private room</td>\n",
       "      <td>64</td>\n",
       "      <td>2.0</td>\n",
       "      <td>89.6</td>\n",
       "    </tr>\n",
       "    <tr>\n",
       "      <th>21</th>\n",
       "      <td>Private room</td>\n",
       "      <td>30</td>\n",
       "      <td>2.0</td>\n",
       "      <td>42.0</td>\n",
       "    </tr>\n",
       "    <tr>\n",
       "      <th>27</th>\n",
       "      <td>Private room</td>\n",
       "      <td>28</td>\n",
       "      <td>2.0</td>\n",
       "      <td>39.2</td>\n",
       "    </tr>\n",
       "    <tr>\n",
       "      <th>35</th>\n",
       "      <td>Private room</td>\n",
       "      <td>42</td>\n",
       "      <td>2.0</td>\n",
       "      <td>58.8</td>\n",
       "    </tr>\n",
       "    <tr>\n",
       "      <th>...</th>\n",
       "      <td>...</td>\n",
       "      <td>...</td>\n",
       "      <td>...</td>\n",
       "      <td>...</td>\n",
       "    </tr>\n",
       "    <tr>\n",
       "      <th>19443</th>\n",
       "      <td>Private room</td>\n",
       "      <td>50</td>\n",
       "      <td>2.0</td>\n",
       "      <td>70.0</td>\n",
       "    </tr>\n",
       "    <tr>\n",
       "      <th>19444</th>\n",
       "      <td>Private room</td>\n",
       "      <td>50</td>\n",
       "      <td>3.0</td>\n",
       "      <td>105.0</td>\n",
       "    </tr>\n",
       "    <tr>\n",
       "      <th>19456</th>\n",
       "      <td>Private room</td>\n",
       "      <td>21</td>\n",
       "      <td>2.0</td>\n",
       "      <td>29.4</td>\n",
       "    </tr>\n",
       "    <tr>\n",
       "      <th>19460</th>\n",
       "      <td>Private room</td>\n",
       "      <td>32</td>\n",
       "      <td>2.0</td>\n",
       "      <td>44.8</td>\n",
       "    </tr>\n",
       "    <tr>\n",
       "      <th>19464</th>\n",
       "      <td>Private room</td>\n",
       "      <td>26</td>\n",
       "      <td>2.0</td>\n",
       "      <td>36.4</td>\n",
       "    </tr>\n",
       "  </tbody>\n",
       "</table>\n",
       "<p>1176 rows × 4 columns</p>\n",
       "</div>"
      ],
      "text/plain": [
       "          room_type  price  beds  total_price\n",
       "4      Private room     20   6.0         84.0\n",
       "8      Private room     64   2.0         89.6\n",
       "21     Private room     30   2.0         42.0\n",
       "27     Private room     28   2.0         39.2\n",
       "35     Private room     42   2.0         58.8\n",
       "...             ...    ...   ...          ...\n",
       "19443  Private room     50   2.0         70.0\n",
       "19444  Private room     50   3.0        105.0\n",
       "19456  Private room     21   2.0         29.4\n",
       "19460  Private room     32   2.0         44.8\n",
       "19464  Private room     26   2.0         36.4\n",
       "\n",
       "[1176 rows x 4 columns]"
      ]
     },
     "execution_count": 27,
     "metadata": {},
     "output_type": "execute_result"
    }
   ],
   "source": [
    "df[(df[\"room_type\"] == \"Private room\") & (df[\"beds\"] > 1)][[\"room_type\",\"price\",\"beds\",\"total_price\"]]"
   ]
  },
  {
   "attachments": {},
   "cell_type": "markdown",
   "metadata": {},
   "source": [
    "**Let's check the availability**\n",
    "\n",
    "The variable we use for that is availability_365. It says how many days in a year time the property is NOT occupied.\n",
    "\n",
    "We are going to transform it to the % of the year that it actually is occupied."
   ]
  },
  {
   "cell_type": "code",
   "execution_count": 28,
   "metadata": {},
   "outputs": [
    {
     "data": {
      "text/html": [
       "<div>\n",
       "<style scoped>\n",
       "    .dataframe tbody tr th:only-of-type {\n",
       "        vertical-align: middle;\n",
       "    }\n",
       "\n",
       "    .dataframe tbody tr th {\n",
       "        vertical-align: top;\n",
       "    }\n",
       "\n",
       "    .dataframe thead th {\n",
       "        text-align: right;\n",
       "    }\n",
       "</style>\n",
       "<table border=\"1\" class=\"dataframe\">\n",
       "  <thead>\n",
       "    <tr style=\"text-align: right;\">\n",
       "      <th></th>\n",
       "      <th>index</th>\n",
       "      <th>id</th>\n",
       "      <th>name</th>\n",
       "      <th>host_id</th>\n",
       "      <th>neighbourhood_group</th>\n",
       "      <th>neighbourhood</th>\n",
       "      <th>latitude</th>\n",
       "      <th>longitude</th>\n",
       "      <th>room_type</th>\n",
       "      <th>price</th>\n",
       "      <th>...</th>\n",
       "      <th>accommodates</th>\n",
       "      <th>bedrooms</th>\n",
       "      <th>beds</th>\n",
       "      <th>number_of_reviews</th>\n",
       "      <th>review_scores_rating</th>\n",
       "      <th>review_scores_communication</th>\n",
       "      <th>review_scores_location</th>\n",
       "      <th>price_m2</th>\n",
       "      <th>total_price</th>\n",
       "      <th>occupancy_rate</th>\n",
       "    </tr>\n",
       "  </thead>\n",
       "  <tbody>\n",
       "    <tr>\n",
       "      <th>0</th>\n",
       "      <td>0</td>\n",
       "      <td>6369</td>\n",
       "      <td>Rooftop terrace room ,  ensuite bathroom</td>\n",
       "      <td>13660</td>\n",
       "      <td>Chamartín</td>\n",
       "      <td>Hispanoamérica</td>\n",
       "      <td>40.45724</td>\n",
       "      <td>-3.67688</td>\n",
       "      <td>Private room</td>\n",
       "      <td>90</td>\n",
       "      <td>...</td>\n",
       "      <td>2</td>\n",
       "      <td>1.0</td>\n",
       "      <td>1.0</td>\n",
       "      <td>102</td>\n",
       "      <td>4.87</td>\n",
       "      <td>4.86</td>\n",
       "      <td>4.83</td>\n",
       "      <td>5590</td>\n",
       "      <td>90.0</td>\n",
       "      <td>83</td>\n",
       "    </tr>\n",
       "    <tr>\n",
       "      <th>1</th>\n",
       "      <td>1</td>\n",
       "      <td>21853</td>\n",
       "      <td>Bright and airy room</td>\n",
       "      <td>83531</td>\n",
       "      <td>Latina</td>\n",
       "      <td>Cármenes</td>\n",
       "      <td>40.40381</td>\n",
       "      <td>-3.74130</td>\n",
       "      <td>Private room</td>\n",
       "      <td>31</td>\n",
       "      <td>...</td>\n",
       "      <td>1</td>\n",
       "      <td>1.0</td>\n",
       "      <td>1.0</td>\n",
       "      <td>33</td>\n",
       "      <td>4.58</td>\n",
       "      <td>4.82</td>\n",
       "      <td>4.21</td>\n",
       "      <td>2476</td>\n",
       "      <td>31.0</td>\n",
       "      <td>5</td>\n",
       "    </tr>\n",
       "    <tr>\n",
       "      <th>2</th>\n",
       "      <td>2</td>\n",
       "      <td>24805</td>\n",
       "      <td>Gran Via Studio Madrid</td>\n",
       "      <td>346366726</td>\n",
       "      <td>Centro</td>\n",
       "      <td>Universidad</td>\n",
       "      <td>40.42183</td>\n",
       "      <td>-3.70529</td>\n",
       "      <td>Entire home/apt</td>\n",
       "      <td>92</td>\n",
       "      <td>...</td>\n",
       "      <td>3</td>\n",
       "      <td>1.0</td>\n",
       "      <td>1.0</td>\n",
       "      <td>25</td>\n",
       "      <td>4.88</td>\n",
       "      <td>5.00</td>\n",
       "      <td>5.00</td>\n",
       "      <td>5205</td>\n",
       "      <td>92.0</td>\n",
       "      <td>80</td>\n",
       "    </tr>\n",
       "    <tr>\n",
       "      <th>3</th>\n",
       "      <td>3</td>\n",
       "      <td>26825</td>\n",
       "      <td>Single Room whith private Bathroom</td>\n",
       "      <td>114340</td>\n",
       "      <td>Arganzuela</td>\n",
       "      <td>Legazpi</td>\n",
       "      <td>40.38975</td>\n",
       "      <td>-3.69018</td>\n",
       "      <td>Private room</td>\n",
       "      <td>29</td>\n",
       "      <td>...</td>\n",
       "      <td>1</td>\n",
       "      <td>1.0</td>\n",
       "      <td>1.0</td>\n",
       "      <td>173</td>\n",
       "      <td>4.70</td>\n",
       "      <td>4.71</td>\n",
       "      <td>4.74</td>\n",
       "      <td>4331</td>\n",
       "      <td>29.0</td>\n",
       "      <td>5</td>\n",
       "    </tr>\n",
       "    <tr>\n",
       "      <th>4</th>\n",
       "      <td>4</td>\n",
       "      <td>37921</td>\n",
       "      <td>Piso barrio de salamanca</td>\n",
       "      <td>162926</td>\n",
       "      <td>Salamanca</td>\n",
       "      <td>Recoletos</td>\n",
       "      <td>40.42325</td>\n",
       "      <td>-3.68281</td>\n",
       "      <td>Private room</td>\n",
       "      <td>20</td>\n",
       "      <td>...</td>\n",
       "      <td>8</td>\n",
       "      <td>3.0</td>\n",
       "      <td>6.0</td>\n",
       "      <td>0</td>\n",
       "      <td>NaN</td>\n",
       "      <td>NaN</td>\n",
       "      <td>NaN</td>\n",
       "      <td>6633</td>\n",
       "      <td>84.0</td>\n",
       "      <td>20</td>\n",
       "    </tr>\n",
       "  </tbody>\n",
       "</table>\n",
       "<p>5 rows × 24 columns</p>\n",
       "</div>"
      ],
      "text/plain": [
       "   index     id                                      name    host_id  \\\n",
       "0      0   6369  Rooftop terrace room ,  ensuite bathroom      13660   \n",
       "1      1  21853                      Bright and airy room      83531   \n",
       "2      2  24805                    Gran Via Studio Madrid  346366726   \n",
       "3      3  26825        Single Room whith private Bathroom     114340   \n",
       "4      4  37921                  Piso barrio de salamanca     162926   \n",
       "\n",
       "  neighbourhood_group   neighbourhood  latitude  longitude        room_type  \\\n",
       "0           Chamartín  Hispanoamérica  40.45724   -3.67688     Private room   \n",
       "1              Latina        Cármenes  40.40381   -3.74130     Private room   \n",
       "2              Centro     Universidad  40.42183   -3.70529  Entire home/apt   \n",
       "3          Arganzuela         Legazpi  40.38975   -3.69018     Private room   \n",
       "4           Salamanca       Recoletos  40.42325   -3.68281     Private room   \n",
       "\n",
       "   price  ...  accommodates  bedrooms beds number_of_reviews  \\\n",
       "0     90  ...             2       1.0  1.0               102   \n",
       "1     31  ...             1       1.0  1.0                33   \n",
       "2     92  ...             3       1.0  1.0                25   \n",
       "3     29  ...             1       1.0  1.0               173   \n",
       "4     20  ...             8       3.0  6.0                 0   \n",
       "\n",
       "   review_scores_rating  review_scores_communication  review_scores_location  \\\n",
       "0                  4.87                         4.86                    4.83   \n",
       "1                  4.58                         4.82                    4.21   \n",
       "2                  4.88                         5.00                    5.00   \n",
       "3                  4.70                         4.71                    4.74   \n",
       "4                   NaN                          NaN                     NaN   \n",
       "\n",
       "   price_m2  total_price  occupancy_rate  \n",
       "0      5590         90.0              83  \n",
       "1      2476         31.0               5  \n",
       "2      5205         92.0              80  \n",
       "3      4331         29.0               5  \n",
       "4      6633         84.0              20  \n",
       "\n",
       "[5 rows x 24 columns]"
      ]
     },
     "execution_count": 28,
     "metadata": {},
     "output_type": "execute_result"
    }
   ],
   "source": [
    "df[\"occupancy_rate\"] = ((365 - df[\"availability_365\"]) / 365 * 100).astype(\"int\")\n",
    "df.head()"
   ]
  },
  {
   "attachments": {},
   "cell_type": "markdown",
   "metadata": {},
   "source": [
    "### Tranformation of analysis variables"
   ]
  },
  {
   "attachments": {},
   "cell_type": "markdown",
   "metadata": {},
   "source": [
    "Some seed questions directly relate the renting price or the ocupancy rate with other variables such as the number of bedrooms, the average review score, etc.\n",
    "\n",
    "It is better to carry out these analyses with discretised variables. Then, we are going to discretise:\n",
    "\n",
    "- Accommodates\n",
    "- Bedrooms\n",
    "- Beds\n",
    "- Number of reviews"
   ]
  },
  {
   "attachments": {},
   "cell_type": "markdown",
   "metadata": {},
   "source": [
    "**Discretise bedrooms**\n",
    "\n",
    "First we evaluate the data distribution"
   ]
  },
  {
   "cell_type": "code",
   "execution_count": 29,
   "metadata": {},
   "outputs": [
    {
     "data": {
      "text/plain": [
       "<AxesSubplot:>"
      ]
     },
     "execution_count": 29,
     "metadata": {},
     "output_type": "execute_result"
    },
    {
     "data": {
      "image/png": "[encoded data removed]",
      "text/plain": [
       "<Figure size 432x288 with 1 Axes>"
      ]
     },
     "metadata": {
      "needs_background": "light"
     },
     "output_type": "display_data"
    }
   ],
   "source": [
    "df[\"bedrooms\"].value_counts().sort_values(ascending=False).plot.bar()"
   ]
  },
  {
   "attachments": {},
   "cell_type": "markdown",
   "metadata": {},
   "source": [
    "We are going to discretise for 1,2,3 and more than 3."
   ]
  },
  {
   "cell_type": "code",
   "execution_count": 30,
   "metadata": {},
   "outputs": [],
   "source": [
    "conditions = [df[\"bedrooms\"] == 1,\n",
    "                df[\"bedrooms\"] == 2,\n",
    "                df[\"bedrooms\"] == 3,\n",
    "                df[\"bedrooms\"] > 3]\n",
    "\n",
    "results = [\"01_One\", \"02_Two\", \"03_Three\", \"04_Four or more\"]\n",
    "\n",
    "df[\"bedrooms_disc\"] = np.select(conditions, results, default=-999)"
   ]
  },
  {
   "attachments": {},
   "cell_type": "markdown",
   "metadata": {},
   "source": [
    "Check it worked correctly"
   ]
  },
  {
   "cell_type": "code",
   "execution_count": 31,
   "metadata": {},
   "outputs": [
    {
     "data": {
      "image/png": "[encoded data removed]",
      "text/plain": [
       "<Figure size 432x288 with 1 Axes>"
      ]
     },
     "metadata": {
      "needs_background": "light"
     },
     "output_type": "display_data"
    }
   ],
   "source": [
    "df[\"bedrooms_disc\"].value_counts().plot.bar();"
   ]
  },
  {
   "attachments": {},
   "cell_type": "markdown",
   "metadata": {},
   "source": [
    "**Discretise accommodates, beds and number_of_reviews**\n",
    "\n",
    "We are going to automatically discretise these variables with qcut with percentiles 0.5, 0.8 and 1."
   ]
  },
  {
   "cell_type": "code",
   "execution_count": 32,
   "metadata": {},
   "outputs": [
    {
     "data": {
      "image/png": "[encoded data removed]",
      "text/plain": [
       "<Figure size 432x288 with 1 Axes>"
      ]
     },
     "metadata": {
      "needs_background": "light"
     },
     "output_type": "display_data"
    }
   ],
   "source": [
    "df[\"accommodates_disc\"] = pd.qcut(df[\"accommodates\"],[0, 0.5, 0.8, 1],\n",
    "                                 labels = ['1-3','4','5-16'])\n",
    "\n",
    "df[\"accommodates_disc\"].value_counts().sort_index(ascending = False).plot.barh();"
   ]
  },
  {
   "cell_type": "code",
   "execution_count": 33,
   "metadata": {},
   "outputs": [
    {
     "data": {
      "image/png": "[encoded data removed]",
      "text/plain": [
       "<Figure size 432x288 with 1 Axes>"
      ]
     },
     "metadata": {
      "needs_background": "light"
     },
     "output_type": "display_data"
    }
   ],
   "source": [
    "df[\"beds_disc\"] = pd.qcut(df[\"beds\"],[0, 0.5, 0.8, 1],\n",
    "                         labels = ['1','2','3-24'])\n",
    "\n",
    "df[\"beds_disc\"].value_counts().sort_index(ascending = False).plot.barh();"
   ]
  },
  {
   "cell_type": "code",
   "execution_count": 34,
   "metadata": {},
   "outputs": [
    {
     "data": {
      "image/png": "[encoded data removed]",
      "text/plain": [
       "<Figure size 432x288 with 1 Axes>"
      ]
     },
     "metadata": {
      "needs_background": "light"
     },
     "output_type": "display_data"
    }
   ],
   "source": [
    "df[\"number_of_reviews_disc\"] = pd.qcut(df[\"number_of_reviews\"],[0, 0.5, 0.8, 1],\n",
    "                                      labels = ['1-4','5-48','48-744'])\n",
    "\n",
    "df[\"number_of_reviews_disc\"].value_counts().sort_index(ascending = False).plot.barh();"
   ]
  },
  {
   "attachments": {},
   "cell_type": "markdown",
   "metadata": {},
   "source": [
    "### Create variables with external data"
   ]
  },
  {
   "attachments": {},
   "cell_type": "markdown",
   "metadata": {},
   "source": [
    "Here we are going to:\n",
    "- Estimate the property size in m<sup>2</sup>.\n",
    "- Compute the distance from each property to the city center."
   ]
  },
  {
   "attachments": {},
   "cell_type": "markdown",
   "metadata": {},
   "source": [
    "**Proerty size in m<sup>2</sup>**\n",
    "\n",
    "We already know the price per m<sup>2</sup>. Now we need to know the property size so we can compute the property price.\n",
    "\n",
    "A good approximation will be to estimate the property size for some given number of bedrooms.\n",
    "\n",
    "In this case:\n",
    "- 1 bedroom: 50m<sup>2</sup>\n",
    "- 2 bedroom: 70m<sup>2</sup>\n",
    "- 3 bedroom: 90m<sup>2</sup>\n",
    "- 4 bedroom: 120m<sup>2</sup>\n",
    "- 5 or more bedrooms: 150m<sup>2</sup>"
   ]
  },
  {
   "cell_type": "code",
   "execution_count": 35,
   "metadata": {},
   "outputs": [],
   "source": [
    "conditions = [df[\"bedrooms\"] == 1,\n",
    "                df[\"bedrooms\"] == 2,\n",
    "                df[\"bedrooms\"] == 3,\n",
    "                df[\"bedrooms\"] == 4,\n",
    "                df[\"bedrooms\"] >= 5]\n",
    "\n",
    "results = [50,70,90,120,150]\n",
    "\n",
    "df[\"m2\"] = np.select(conditions, results, default=-999)"
   ]
  },
  {
   "attachments": {},
   "cell_type": "markdown",
   "metadata": {},
   "source": [
    "Check it worked correctly:"
   ]
  },
  {
   "cell_type": "code",
   "execution_count": 36,
   "metadata": {},
   "outputs": [
    {
     "data": {
      "text/plain": [
       "50     13554\n",
       "70      4019\n",
       "90      1419\n",
       "120      328\n",
       "150      152\n",
       "Name: m2, dtype: int64"
      ]
     },
     "execution_count": 36,
     "metadata": {},
     "output_type": "execute_result"
    }
   ],
   "source": [
    "df[\"m2\"].value_counts().sort_index()"
   ]
  },
  {
   "attachments": {},
   "cell_type": "markdown",
   "metadata": {},
   "source": [
    "We can now estimate the property purchase price.\n",
    "\n",
    "Also note that we assumed a 25% discount to the final price since the business managers can negotiate and lower that price."
   ]
  },
  {
   "cell_type": "code",
   "execution_count": 37,
   "metadata": {},
   "outputs": [],
   "source": [
    "df[\"purchase_price\"] = df[\"price_m2\"] * df[\"m2\"] * 0.75"
   ]
  },
  {
   "cell_type": "code",
   "execution_count": 38,
   "metadata": {},
   "outputs": [
    {
     "data": {
      "text/html": [
       "<div>\n",
       "<style scoped>\n",
       "    .dataframe tbody tr th:only-of-type {\n",
       "        vertical-align: middle;\n",
       "    }\n",
       "\n",
       "    .dataframe tbody tr th {\n",
       "        vertical-align: top;\n",
       "    }\n",
       "\n",
       "    .dataframe thead th {\n",
       "        text-align: right;\n",
       "    }\n",
       "</style>\n",
       "<table border=\"1\" class=\"dataframe\">\n",
       "  <thead>\n",
       "    <tr style=\"text-align: right;\">\n",
       "      <th></th>\n",
       "      <th>bedrooms</th>\n",
       "      <th>m2</th>\n",
       "      <th>neighbourhood_group</th>\n",
       "      <th>price_m2</th>\n",
       "      <th>purchase_price</th>\n",
       "    </tr>\n",
       "  </thead>\n",
       "  <tbody>\n",
       "    <tr>\n",
       "      <th>0</th>\n",
       "      <td>1.0</td>\n",
       "      <td>50</td>\n",
       "      <td>Chamartín</td>\n",
       "      <td>5590</td>\n",
       "      <td>209625.0</td>\n",
       "    </tr>\n",
       "    <tr>\n",
       "      <th>1</th>\n",
       "      <td>1.0</td>\n",
       "      <td>50</td>\n",
       "      <td>Latina</td>\n",
       "      <td>2476</td>\n",
       "      <td>92850.0</td>\n",
       "    </tr>\n",
       "    <tr>\n",
       "      <th>2</th>\n",
       "      <td>1.0</td>\n",
       "      <td>50</td>\n",
       "      <td>Centro</td>\n",
       "      <td>5205</td>\n",
       "      <td>195187.5</td>\n",
       "    </tr>\n",
       "    <tr>\n",
       "      <th>3</th>\n",
       "      <td>1.0</td>\n",
       "      <td>50</td>\n",
       "      <td>Arganzuela</td>\n",
       "      <td>4331</td>\n",
       "      <td>162412.5</td>\n",
       "    </tr>\n",
       "    <tr>\n",
       "      <th>4</th>\n",
       "      <td>3.0</td>\n",
       "      <td>90</td>\n",
       "      <td>Salamanca</td>\n",
       "      <td>6633</td>\n",
       "      <td>447727.5</td>\n",
       "    </tr>\n",
       "    <tr>\n",
       "      <th>5</th>\n",
       "      <td>1.0</td>\n",
       "      <td>50</td>\n",
       "      <td>Centro</td>\n",
       "      <td>5205</td>\n",
       "      <td>195187.5</td>\n",
       "    </tr>\n",
       "    <tr>\n",
       "      <th>6</th>\n",
       "      <td>1.0</td>\n",
       "      <td>50</td>\n",
       "      <td>Centro</td>\n",
       "      <td>5205</td>\n",
       "      <td>195187.5</td>\n",
       "    </tr>\n",
       "    <tr>\n",
       "      <th>7</th>\n",
       "      <td>1.0</td>\n",
       "      <td>50</td>\n",
       "      <td>Centro</td>\n",
       "      <td>5205</td>\n",
       "      <td>195187.5</td>\n",
       "    </tr>\n",
       "    <tr>\n",
       "      <th>8</th>\n",
       "      <td>1.0</td>\n",
       "      <td>50</td>\n",
       "      <td>Centro</td>\n",
       "      <td>5205</td>\n",
       "      <td>195187.5</td>\n",
       "    </tr>\n",
       "    <tr>\n",
       "      <th>9</th>\n",
       "      <td>2.0</td>\n",
       "      <td>70</td>\n",
       "      <td>Salamanca</td>\n",
       "      <td>6633</td>\n",
       "      <td>348232.5</td>\n",
       "    </tr>\n",
       "    <tr>\n",
       "      <th>10</th>\n",
       "      <td>1.0</td>\n",
       "      <td>50</td>\n",
       "      <td>Centro</td>\n",
       "      <td>5205</td>\n",
       "      <td>195187.5</td>\n",
       "    </tr>\n",
       "    <tr>\n",
       "      <th>11</th>\n",
       "      <td>1.0</td>\n",
       "      <td>50</td>\n",
       "      <td>Centro</td>\n",
       "      <td>5205</td>\n",
       "      <td>195187.5</td>\n",
       "    </tr>\n",
       "    <tr>\n",
       "      <th>12</th>\n",
       "      <td>1.0</td>\n",
       "      <td>50</td>\n",
       "      <td>Centro</td>\n",
       "      <td>5205</td>\n",
       "      <td>195187.5</td>\n",
       "    </tr>\n",
       "    <tr>\n",
       "      <th>13</th>\n",
       "      <td>1.0</td>\n",
       "      <td>50</td>\n",
       "      <td>Centro</td>\n",
       "      <td>5205</td>\n",
       "      <td>195187.5</td>\n",
       "    </tr>\n",
       "    <tr>\n",
       "      <th>14</th>\n",
       "      <td>1.0</td>\n",
       "      <td>50</td>\n",
       "      <td>Centro</td>\n",
       "      <td>5205</td>\n",
       "      <td>195187.5</td>\n",
       "    </tr>\n",
       "    <tr>\n",
       "      <th>15</th>\n",
       "      <td>2.0</td>\n",
       "      <td>70</td>\n",
       "      <td>Centro</td>\n",
       "      <td>5205</td>\n",
       "      <td>273262.5</td>\n",
       "    </tr>\n",
       "    <tr>\n",
       "      <th>16</th>\n",
       "      <td>1.0</td>\n",
       "      <td>50</td>\n",
       "      <td>Centro</td>\n",
       "      <td>5205</td>\n",
       "      <td>195187.5</td>\n",
       "    </tr>\n",
       "    <tr>\n",
       "      <th>17</th>\n",
       "      <td>3.0</td>\n",
       "      <td>90</td>\n",
       "      <td>Centro</td>\n",
       "      <td>5205</td>\n",
       "      <td>351337.5</td>\n",
       "    </tr>\n",
       "    <tr>\n",
       "      <th>18</th>\n",
       "      <td>1.0</td>\n",
       "      <td>50</td>\n",
       "      <td>Centro</td>\n",
       "      <td>5205</td>\n",
       "      <td>195187.5</td>\n",
       "    </tr>\n",
       "    <tr>\n",
       "      <th>19</th>\n",
       "      <td>1.0</td>\n",
       "      <td>50</td>\n",
       "      <td>Centro</td>\n",
       "      <td>5205</td>\n",
       "      <td>195187.5</td>\n",
       "    </tr>\n",
       "  </tbody>\n",
       "</table>\n",
       "</div>"
      ],
      "text/plain": [
       "    bedrooms  m2 neighbourhood_group  price_m2  purchase_price\n",
       "0        1.0  50           Chamartín      5590        209625.0\n",
       "1        1.0  50              Latina      2476         92850.0\n",
       "2        1.0  50              Centro      5205        195187.5\n",
       "3        1.0  50          Arganzuela      4331        162412.5\n",
       "4        3.0  90           Salamanca      6633        447727.5\n",
       "5        1.0  50              Centro      5205        195187.5\n",
       "6        1.0  50              Centro      5205        195187.5\n",
       "7        1.0  50              Centro      5205        195187.5\n",
       "8        1.0  50              Centro      5205        195187.5\n",
       "9        2.0  70           Salamanca      6633        348232.5\n",
       "10       1.0  50              Centro      5205        195187.5\n",
       "11       1.0  50              Centro      5205        195187.5\n",
       "12       1.0  50              Centro      5205        195187.5\n",
       "13       1.0  50              Centro      5205        195187.5\n",
       "14       1.0  50              Centro      5205        195187.5\n",
       "15       2.0  70              Centro      5205        273262.5\n",
       "16       1.0  50              Centro      5205        195187.5\n",
       "17       3.0  90              Centro      5205        351337.5\n",
       "18       1.0  50              Centro      5205        195187.5\n",
       "19       1.0  50              Centro      5205        195187.5"
      ]
     },
     "execution_count": 38,
     "metadata": {},
     "output_type": "execute_result"
    }
   ],
   "source": [
    "df[[\"bedrooms\",\"m2\",\"neighbourhood_group\",\"price_m2\",\"purchase_price\"]].head(20)"
   ]
  },
  {
   "attachments": {},
   "cell_type": "markdown",
   "metadata": {},
   "source": [
    "**Distance from each town to the city center**\n",
    "\n"
   ]
  },
  {
   "attachments": {},
   "cell_type": "markdown",
   "metadata": {},
   "source": [
    "We are going to measure the distance of each property to the city center. The city center is going to be Puerta del Sol.\n",
    "\n",
    "It latitude and longitude are:\n",
    "\n",
    "- Latitude: 40.4167278 \n",
    "- Longitude: -3.7033387\n",
    "\n",
    "To compute the distance we are going to use the Haversine formula, which takes into account the spherical shape of Earth to measure distances.\n",
    "\n",
    "The formula is based on the one from [this](https://stackoverflow.com/questions/4913349/haversine-formula-in-python-bearing-and-distance-between-two-gps-points) link."
   ]
  },
  {
   "cell_type": "code",
   "execution_count": 39,
   "metadata": {},
   "outputs": [],
   "source": [
    "from math import radians, cos, sin, asin, sqrt\n",
    "\n",
    "def haversine(lat1, lon1, lat2, lon2):\n",
    "\n",
    "      R = 6372.8 # Earth radius in km. If we wanted to compute the distance in miles we should use 3959.87433.\n",
    "\n",
    "      dLat = radians(lat2 - lat1)\n",
    "      dLon = radians(lon2 - lon1)\n",
    "      lat1 = radians(lat1)\n",
    "      lat2 = radians(lat2)\n",
    "\n",
    "      a = sin(dLat/2)**2 + cos(lat1)*cos(lat2)*sin(dLon/2)**2\n",
    "      c = 2*asin(sqrt(a))\n",
    "\n",
    "      return R * c"
   ]
  },
  {
   "attachments": {},
   "cell_type": "markdown",
   "metadata": {},
   "source": [
    "We can now create the new variable."
   ]
  },
  {
   "cell_type": "code",
   "execution_count": 40,
   "metadata": {},
   "outputs": [],
   "source": [
    "# Coordinates from Plaza de España will be lat1 and lon1\n",
    "lat1 = 40.4167278\n",
    "lon1 = -3.7033387\n",
    "\n",
    "df[\"distance_center\"] = df.apply(lambda record: haversine(lat1,lon1,record[\"latitude\"],record[\"longitude\"]),axis = 1)"
   ]
  },
  {
   "attachments": {},
   "cell_type": "markdown",
   "metadata": {},
   "source": [
    "Check it works."
   ]
  },
  {
   "cell_type": "code",
   "execution_count": 41,
   "metadata": {},
   "outputs": [
    {
     "data": {
      "text/plain": [
       "neighbourhood_group\n",
       "Centro                    0.720685\n",
       "Arganzuela                1.914219\n",
       "Chamberí                  2.138527\n",
       "Retiro                    2.461257\n",
       "Salamanca                 2.714501\n",
       "Moncloa - Aravaca         3.149567\n",
       "Latina                    3.854300\n",
       "Usera                     3.919806\n",
       "Carabanchel               3.989676\n",
       "Chamartín                 4.420761\n",
       "Puente de Vallecas        4.434896\n",
       "Tetuán                    4.605550\n",
       "Moratalaz                 4.946966\n",
       "Ciudad Lineal             5.262423\n",
       "Villaverde                7.702260\n",
       "Fuencarral - El Pardo     7.958108\n",
       "Hortaleza                 8.079939\n",
       "San Blas - Canillejas     8.196266\n",
       "Vicálvaro                 8.953812\n",
       "Villa de Vallecas         9.172113\n",
       "Barajas                  11.450702\n",
       "Name: distance_center, dtype: float64"
      ]
     },
     "execution_count": 41,
     "metadata": {},
     "output_type": "execute_result"
    }
   ],
   "source": [
    "df.groupby(\"neighbourhood_group\")[\"distance_center\"].agg(\"mean\").sort_values()"
   ]
  },
  {
   "attachments": {},
   "cell_type": "markdown",
   "metadata": {},
   "source": [
    "## Save the data mart"
   ]
  },
  {
   "attachments": {},
   "cell_type": "markdown",
   "metadata": {},
   "source": [
    "We can now save the whole data set as df_final"
   ]
  },
  {
   "cell_type": "code",
   "execution_count": 42,
   "metadata": {},
   "outputs": [],
   "source": [
    "df.to_sql(\"df_final\", con = con, if_exists=\"replace\")"
   ]
  }
 ],
 "metadata": {
  "kernelspec": {
   "display_name": "Python 3",
   "language": "python",
   "name": "python3"
  },
  "language_info": {
   "codemirror_mode": {
    "name": "ipython",
    "version": 3
   },
   "file_extension": ".py",
   "mimetype": "text/x-python",
   "name": "python",
   "nbconvert_exporter": "python",
   "pygments_lexer": "ipython3",
   "version": "3.9.13"
  },
  "orig_nbformat": 4,
  "vscode": {
   "interpreter": {
    "hash": "2789caef645d45bff6716333081153e0abcdca1b280055be67a93206d3f61efc"
   }
  }
 },
 "nbformat": 4,
 "nbformat_minor": 2
}
