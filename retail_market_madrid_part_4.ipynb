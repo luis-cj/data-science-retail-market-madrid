{
 "cells": [
  {
   "attachments": {},
   "cell_type": "markdown",
   "metadata": {},
   "source": [
    "# Analysis and insights Python script: Retail market analysis in Madrid\n",
    "## Part 4: Analysis and insights"
   ]
  },
  {
   "attachments": {},
   "cell_type": "markdown",
   "metadata": {},
   "source": [
    "### In this part we are going to carry out the actual analysis of the data.\n",
    "\n",
    "### We are going to start answering the seed questions that were formulated at the beginning of the project."
   ]
  },
  {
   "attachments": {},
   "cell_type": "markdown",
   "metadata": {},
   "source": [
    "## Import the libraries"
   ]
  },
  {
   "cell_type": "code",
   "execution_count": 112,
   "metadata": {},
   "outputs": [],
   "source": [
    "import numpy as np\n",
    "import pandas as pd\n",
    "import matplotlib.pyplot as plt\n",
    "import seaborn as sns\n",
    "import sqlalchemy as sa\n",
    "import folium\n",
    "\n",
    "pd.options.display.max_columns = None"
   ]
  },
  {
   "attachments": {},
   "cell_type": "markdown",
   "metadata": {},
   "source": [
    "## Import the data"
   ]
  },
  {
   "cell_type": "code",
   "execution_count": 113,
   "metadata": {},
   "outputs": [
    {
     "data": {
      "text/html": [
       "<div>\n",
       "<style scoped>\n",
       "    .dataframe tbody tr th:only-of-type {\n",
       "        vertical-align: middle;\n",
       "    }\n",
       "\n",
       "    .dataframe tbody tr th {\n",
       "        vertical-align: top;\n",
       "    }\n",
       "\n",
       "    .dataframe thead th {\n",
       "        text-align: right;\n",
       "    }\n",
       "</style>\n",
       "<table border=\"1\" class=\"dataframe\">\n",
       "  <thead>\n",
       "    <tr style=\"text-align: right;\">\n",
       "      <th></th>\n",
       "      <th>level_0</th>\n",
       "      <th>index</th>\n",
       "      <th>id</th>\n",
       "      <th>name</th>\n",
       "      <th>host_id</th>\n",
       "      <th>neighbourhood_group</th>\n",
       "      <th>neighbourhood</th>\n",
       "      <th>latitude</th>\n",
       "      <th>longitude</th>\n",
       "      <th>room_type</th>\n",
       "      <th>price</th>\n",
       "      <th>minimum_nights</th>\n",
       "      <th>availability_365</th>\n",
       "      <th>description</th>\n",
       "      <th>host_is_superhost</th>\n",
       "      <th>accommodates</th>\n",
       "      <th>bedrooms</th>\n",
       "      <th>beds</th>\n",
       "      <th>number_of_reviews</th>\n",
       "      <th>review_scores_rating</th>\n",
       "      <th>review_scores_communication</th>\n",
       "      <th>review_scores_location</th>\n",
       "      <th>price_m2</th>\n",
       "      <th>total_price</th>\n",
       "      <th>occupancy_rate</th>\n",
       "      <th>bedrooms_disc</th>\n",
       "      <th>accommodates_disc</th>\n",
       "      <th>beds_disc</th>\n",
       "      <th>number_of_reviews_disc</th>\n",
       "      <th>m2</th>\n",
       "      <th>purchase_price</th>\n",
       "      <th>distance_center</th>\n",
       "    </tr>\n",
       "  </thead>\n",
       "  <tbody>\n",
       "    <tr>\n",
       "      <th>0</th>\n",
       "      <td>0</td>\n",
       "      <td>0</td>\n",
       "      <td>6369</td>\n",
       "      <td>Rooftop terrace room ,  ensuite bathroom</td>\n",
       "      <td>13660</td>\n",
       "      <td>Chamartín</td>\n",
       "      <td>Hispanoamérica</td>\n",
       "      <td>40.45724</td>\n",
       "      <td>-3.67688</td>\n",
       "      <td>Private room</td>\n",
       "      <td>90</td>\n",
       "      <td>4</td>\n",
       "      <td>61</td>\n",
       "      <td>Excellent connection with the AIRPORT and EXHI...</td>\n",
       "      <td>t</td>\n",
       "      <td>2</td>\n",
       "      <td>1.0</td>\n",
       "      <td>1.0</td>\n",
       "      <td>102</td>\n",
       "      <td>4.87</td>\n",
       "      <td>4.86</td>\n",
       "      <td>4.83</td>\n",
       "      <td>5590</td>\n",
       "      <td>90.0</td>\n",
       "      <td>83</td>\n",
       "      <td>01_One</td>\n",
       "      <td>1-3</td>\n",
       "      <td>1</td>\n",
       "      <td>48-744</td>\n",
       "      <td>50</td>\n",
       "      <td>209625.0</td>\n",
       "      <td>5.032039</td>\n",
       "    </tr>\n",
       "    <tr>\n",
       "      <th>1</th>\n",
       "      <td>1</td>\n",
       "      <td>1</td>\n",
       "      <td>21853</td>\n",
       "      <td>Bright and airy room</td>\n",
       "      <td>83531</td>\n",
       "      <td>Latina</td>\n",
       "      <td>Cármenes</td>\n",
       "      <td>40.40381</td>\n",
       "      <td>-3.74130</td>\n",
       "      <td>Private room</td>\n",
       "      <td>31</td>\n",
       "      <td>4</td>\n",
       "      <td>346</td>\n",
       "      <td>We have a quiet and sunny room with a good vie...</td>\n",
       "      <td>f</td>\n",
       "      <td>1</td>\n",
       "      <td>1.0</td>\n",
       "      <td>1.0</td>\n",
       "      <td>33</td>\n",
       "      <td>4.58</td>\n",
       "      <td>4.82</td>\n",
       "      <td>4.21</td>\n",
       "      <td>2476</td>\n",
       "      <td>31.0</td>\n",
       "      <td>5</td>\n",
       "      <td>01_One</td>\n",
       "      <td>1-3</td>\n",
       "      <td>1</td>\n",
       "      <td>5-48</td>\n",
       "      <td>50</td>\n",
       "      <td>92850.0</td>\n",
       "      <td>3.521406</td>\n",
       "    </tr>\n",
       "    <tr>\n",
       "      <th>2</th>\n",
       "      <td>2</td>\n",
       "      <td>2</td>\n",
       "      <td>24805</td>\n",
       "      <td>Gran Via Studio Madrid</td>\n",
       "      <td>346366726</td>\n",
       "      <td>Centro</td>\n",
       "      <td>Universidad</td>\n",
       "      <td>40.42183</td>\n",
       "      <td>-3.70529</td>\n",
       "      <td>Entire home/apt</td>\n",
       "      <td>92</td>\n",
       "      <td>5</td>\n",
       "      <td>73</td>\n",
       "      <td>Studio located 50 meters from Gran Via, next t...</td>\n",
       "      <td>f</td>\n",
       "      <td>3</td>\n",
       "      <td>1.0</td>\n",
       "      <td>1.0</td>\n",
       "      <td>25</td>\n",
       "      <td>4.88</td>\n",
       "      <td>5.00</td>\n",
       "      <td>5.00</td>\n",
       "      <td>5205</td>\n",
       "      <td>92.0</td>\n",
       "      <td>80</td>\n",
       "      <td>01_One</td>\n",
       "      <td>1-3</td>\n",
       "      <td>1</td>\n",
       "      <td>5-48</td>\n",
       "      <td>50</td>\n",
       "      <td>195187.5</td>\n",
       "      <td>0.591065</td>\n",
       "    </tr>\n",
       "    <tr>\n",
       "      <th>3</th>\n",
       "      <td>3</td>\n",
       "      <td>3</td>\n",
       "      <td>26825</td>\n",
       "      <td>Single Room whith private Bathroom</td>\n",
       "      <td>114340</td>\n",
       "      <td>Arganzuela</td>\n",
       "      <td>Legazpi</td>\n",
       "      <td>40.38975</td>\n",
       "      <td>-3.69018</td>\n",
       "      <td>Private room</td>\n",
       "      <td>29</td>\n",
       "      <td>2</td>\n",
       "      <td>345</td>\n",
       "      <td>Nice and cozy roon for one person with a priva...</td>\n",
       "      <td>t</td>\n",
       "      <td>1</td>\n",
       "      <td>1.0</td>\n",
       "      <td>1.0</td>\n",
       "      <td>173</td>\n",
       "      <td>4.70</td>\n",
       "      <td>4.71</td>\n",
       "      <td>4.74</td>\n",
       "      <td>4331</td>\n",
       "      <td>29.0</td>\n",
       "      <td>5</td>\n",
       "      <td>01_One</td>\n",
       "      <td>1-3</td>\n",
       "      <td>1</td>\n",
       "      <td>48-744</td>\n",
       "      <td>50</td>\n",
       "      <td>162412.5</td>\n",
       "      <td>3.200942</td>\n",
       "    </tr>\n",
       "    <tr>\n",
       "      <th>4</th>\n",
       "      <td>4</td>\n",
       "      <td>4</td>\n",
       "      <td>37921</td>\n",
       "      <td>Piso barrio de salamanca</td>\n",
       "      <td>162926</td>\n",
       "      <td>Salamanca</td>\n",
       "      <td>Recoletos</td>\n",
       "      <td>40.42325</td>\n",
       "      <td>-3.68281</td>\n",
       "      <td>Private room</td>\n",
       "      <td>20</td>\n",
       "      <td>3</td>\n",
       "      <td>291</td>\n",
       "      <td>&lt;b&gt;The space&lt;/b&gt;&lt;br /&gt;Piso de 3 habitaciones y...</td>\n",
       "      <td>f</td>\n",
       "      <td>8</td>\n",
       "      <td>3.0</td>\n",
       "      <td>6.0</td>\n",
       "      <td>0</td>\n",
       "      <td>NaN</td>\n",
       "      <td>NaN</td>\n",
       "      <td>NaN</td>\n",
       "      <td>6633</td>\n",
       "      <td>84.0</td>\n",
       "      <td>20</td>\n",
       "      <td>03_Three</td>\n",
       "      <td>5-16</td>\n",
       "      <td>3-24</td>\n",
       "      <td>1-4</td>\n",
       "      <td>90</td>\n",
       "      <td>447727.5</td>\n",
       "      <td>1.883627</td>\n",
       "    </tr>\n",
       "  </tbody>\n",
       "</table>\n",
       "</div>"
      ],
      "text/plain": [
       "   level_0  index     id                                      name    host_id  \\\n",
       "0        0      0   6369  Rooftop terrace room ,  ensuite bathroom      13660   \n",
       "1        1      1  21853                      Bright and airy room      83531   \n",
       "2        2      2  24805                    Gran Via Studio Madrid  346366726   \n",
       "3        3      3  26825        Single Room whith private Bathroom     114340   \n",
       "4        4      4  37921                  Piso barrio de salamanca     162926   \n",
       "\n",
       "  neighbourhood_group   neighbourhood  latitude  longitude        room_type  \\\n",
       "0           Chamartín  Hispanoamérica  40.45724   -3.67688     Private room   \n",
       "1              Latina        Cármenes  40.40381   -3.74130     Private room   \n",
       "2              Centro     Universidad  40.42183   -3.70529  Entire home/apt   \n",
       "3          Arganzuela         Legazpi  40.38975   -3.69018     Private room   \n",
       "4           Salamanca       Recoletos  40.42325   -3.68281     Private room   \n",
       "\n",
       "   price  minimum_nights  availability_365  \\\n",
       "0     90               4                61   \n",
       "1     31               4               346   \n",
       "2     92               5                73   \n",
       "3     29               2               345   \n",
       "4     20               3               291   \n",
       "\n",
       "                                         description host_is_superhost  \\\n",
       "0  Excellent connection with the AIRPORT and EXHI...                 t   \n",
       "1  We have a quiet and sunny room with a good vie...                 f   \n",
       "2  Studio located 50 meters from Gran Via, next t...                 f   \n",
       "3  Nice and cozy roon for one person with a priva...                 t   \n",
       "4  <b>The space</b><br />Piso de 3 habitaciones y...                 f   \n",
       "\n",
       "   accommodates  bedrooms  beds  number_of_reviews  review_scores_rating  \\\n",
       "0             2       1.0   1.0                102                  4.87   \n",
       "1             1       1.0   1.0                 33                  4.58   \n",
       "2             3       1.0   1.0                 25                  4.88   \n",
       "3             1       1.0   1.0                173                  4.70   \n",
       "4             8       3.0   6.0                  0                   NaN   \n",
       "\n",
       "   review_scores_communication  review_scores_location  price_m2  total_price  \\\n",
       "0                         4.86                    4.83      5590         90.0   \n",
       "1                         4.82                    4.21      2476         31.0   \n",
       "2                         5.00                    5.00      5205         92.0   \n",
       "3                         4.71                    4.74      4331         29.0   \n",
       "4                          NaN                     NaN      6633         84.0   \n",
       "\n",
       "   occupancy_rate bedrooms_disc accommodates_disc beds_disc  \\\n",
       "0              83        01_One               1-3         1   \n",
       "1               5        01_One               1-3         1   \n",
       "2              80        01_One               1-3         1   \n",
       "3               5        01_One               1-3         1   \n",
       "4              20      03_Three              5-16      3-24   \n",
       "\n",
       "  number_of_reviews_disc  m2  purchase_price  distance_center  \n",
       "0                 48-744  50        209625.0         5.032039  \n",
       "1                   5-48  50         92850.0         3.521406  \n",
       "2                   5-48  50        195187.5         0.591065  \n",
       "3                 48-744  50        162412.5         3.200942  \n",
       "4                    1-4  90        447727.5         1.883627  "
      ]
     },
     "execution_count": 113,
     "metadata": {},
     "output_type": "execute_result"
    }
   ],
   "source": [
    "con = sa.create_engine('sqlite:///data/airbnb.db')\n",
    "\n",
    "df = pd.read_sql(\"df_final\", con = con)\n",
    "\n",
    "df.head()"
   ]
  },
  {
   "attachments": {},
   "cell_type": "markdown",
   "metadata": {},
   "source": [
    "## Analysis"
   ]
  },
  {
   "attachments": {},
   "cell_type": "markdown",
   "metadata": {},
   "source": [
    "### Price analysis"
   ]
  },
  {
   "attachments": {},
   "cell_type": "markdown",
   "metadata": {},
   "source": [
    "**What is the average price? What about the price range? What is the variation among the different districts?**\n",
    "\n",
    "**What is the average renting price ranking for the different districts and neighbourhoods?**"
   ]
  },
  {
   "cell_type": "code",
   "execution_count": 114,
   "metadata": {},
   "outputs": [
    {
     "data": {
      "text/plain": [
       "count    19472.000000\n",
       "mean       174.683905\n",
       "std       1283.874565\n",
       "min         20.000000\n",
       "25%         53.000000\n",
       "50%         87.000000\n",
       "75%        135.000000\n",
       "max      95150.000000\n",
       "Name: total_price, dtype: float64"
      ]
     },
     "execution_count": 114,
     "metadata": {},
     "output_type": "execute_result"
    }
   ],
   "source": [
    "df[\"total_price\"].describe().T"
   ]
  },
  {
   "attachments": {},
   "cell_type": "markdown",
   "metadata": {},
   "source": [
    "There is at least one outlier that unbiases the mean value for the renting price. We are going to use the median instead."
   ]
  },
  {
   "cell_type": "code",
   "execution_count": 115,
   "metadata": {},
   "outputs": [
    {
     "data": {
      "text/plain": [
       "87.0"
      ]
     },
     "execution_count": 115,
     "metadata": {},
     "output_type": "execute_result"
    }
   ],
   "source": [
    "df[\"total_price\"].median()"
   ]
  },
  {
   "cell_type": "code",
   "execution_count": 116,
   "metadata": {},
   "outputs": [
    {
     "data": {
      "text/plain": [
       "195187.5"
      ]
     },
     "execution_count": 116,
     "metadata": {},
     "output_type": "execute_result"
    }
   ],
   "source": [
    "df[\"purchase_price\"].median()"
   ]
  },
  {
   "cell_type": "code",
   "execution_count": 117,
   "metadata": {},
   "outputs": [
    {
     "data": {
      "text/html": [
       "<div>\n",
       "<style scoped>\n",
       "    .dataframe tbody tr th:only-of-type {\n",
       "        vertical-align: middle;\n",
       "    }\n",
       "\n",
       "    .dataframe tbody tr th {\n",
       "        vertical-align: top;\n",
       "    }\n",
       "\n",
       "    .dataframe thead th {\n",
       "        text-align: right;\n",
       "    }\n",
       "</style>\n",
       "<table border=\"1\" class=\"dataframe\">\n",
       "  <thead>\n",
       "    <tr style=\"text-align: right;\">\n",
       "      <th></th>\n",
       "      <th>median</th>\n",
       "    </tr>\n",
       "    <tr>\n",
       "      <th>neighbourhood_group</th>\n",
       "      <th></th>\n",
       "    </tr>\n",
       "  </thead>\n",
       "  <tbody>\n",
       "    <tr>\n",
       "      <th>Salamanca</th>\n",
       "      <td>104.0</td>\n",
       "    </tr>\n",
       "    <tr>\n",
       "      <th>Centro</th>\n",
       "      <td>97.0</td>\n",
       "    </tr>\n",
       "    <tr>\n",
       "      <th>Chamberí</th>\n",
       "      <td>90.0</td>\n",
       "    </tr>\n",
       "    <tr>\n",
       "      <th>San Blas - Canillejas</th>\n",
       "      <td>90.0</td>\n",
       "    </tr>\n",
       "    <tr>\n",
       "      <th>Chamartín</th>\n",
       "      <td>89.0</td>\n",
       "    </tr>\n",
       "    <tr>\n",
       "      <th>Moncloa - Aravaca</th>\n",
       "      <td>87.5</td>\n",
       "    </tr>\n",
       "    <tr>\n",
       "      <th>Retiro</th>\n",
       "      <td>80.0</td>\n",
       "    </tr>\n",
       "    <tr>\n",
       "      <th>Tetuán</th>\n",
       "      <td>77.0</td>\n",
       "    </tr>\n",
       "    <tr>\n",
       "      <th>Arganzuela</th>\n",
       "      <td>74.0</td>\n",
       "    </tr>\n",
       "    <tr>\n",
       "      <th>Hortaleza</th>\n",
       "      <td>74.0</td>\n",
       "    </tr>\n",
       "    <tr>\n",
       "      <th>Fuencarral - El Pardo</th>\n",
       "      <td>65.0</td>\n",
       "    </tr>\n",
       "    <tr>\n",
       "      <th>Barajas</th>\n",
       "      <td>60.0</td>\n",
       "    </tr>\n",
       "    <tr>\n",
       "      <th>Ciudad Lineal</th>\n",
       "      <td>60.0</td>\n",
       "    </tr>\n",
       "    <tr>\n",
       "      <th>Carabanchel</th>\n",
       "      <td>60.0</td>\n",
       "    </tr>\n",
       "    <tr>\n",
       "      <th>Usera</th>\n",
       "      <td>60.0</td>\n",
       "    </tr>\n",
       "    <tr>\n",
       "      <th>Villaverde</th>\n",
       "      <td>58.0</td>\n",
       "    </tr>\n",
       "    <tr>\n",
       "      <th>Villa de Vallecas</th>\n",
       "      <td>55.0</td>\n",
       "    </tr>\n",
       "    <tr>\n",
       "      <th>Moratalaz</th>\n",
       "      <td>50.0</td>\n",
       "    </tr>\n",
       "    <tr>\n",
       "      <th>Puente de Vallecas</th>\n",
       "      <td>50.0</td>\n",
       "    </tr>\n",
       "    <tr>\n",
       "      <th>Latina</th>\n",
       "      <td>48.0</td>\n",
       "    </tr>\n",
       "    <tr>\n",
       "      <th>Vicálvaro</th>\n",
       "      <td>40.0</td>\n",
       "    </tr>\n",
       "  </tbody>\n",
       "</table>\n",
       "</div>"
      ],
      "text/plain": [
       "                       median\n",
       "neighbourhood_group          \n",
       "Salamanca               104.0\n",
       "Centro                   97.0\n",
       "Chamberí                 90.0\n",
       "San Blas - Canillejas    90.0\n",
       "Chamartín                89.0\n",
       "Moncloa - Aravaca        87.5\n",
       "Retiro                   80.0\n",
       "Tetuán                   77.0\n",
       "Arganzuela               74.0\n",
       "Hortaleza                74.0\n",
       "Fuencarral - El Pardo    65.0\n",
       "Barajas                  60.0\n",
       "Ciudad Lineal            60.0\n",
       "Carabanchel              60.0\n",
       "Usera                    60.0\n",
       "Villaverde               58.0\n",
       "Villa de Vallecas        55.0\n",
       "Moratalaz                50.0\n",
       "Puente de Vallecas       50.0\n",
       "Latina                   48.0\n",
       "Vicálvaro                40.0"
      ]
     },
     "execution_count": 117,
     "metadata": {},
     "output_type": "execute_result"
    }
   ],
   "source": [
    "df.groupby(\"neighbourhood_group\")[\"total_price\"].agg([\"median\",]).sort_values(by = \"median\",ascending=False)"
   ]
  },
  {
   "attachments": {},
   "cell_type": "markdown",
   "metadata": {},
   "source": [
    "The neighbourhood group of Salamanca appears to be the district with the highest median renting price in Madrid. \n",
    "\n",
    "While the lowest median belong to Vicálvaro.\n",
    "\n",
    "This makes sense for anyone with some knowledge of Madrid. Nothing strange."
   ]
  },
  {
   "attachments": {},
   "cell_type": "markdown",
   "metadata": {},
   "source": [
    "Let's compare now the renting price and purchase price."
   ]
  },
  {
   "cell_type": "code",
   "execution_count": 118,
   "metadata": {},
   "outputs": [
    {
     "data": {
      "text/html": [
       "<div>\n",
       "<style scoped>\n",
       "    .dataframe tbody tr th:only-of-type {\n",
       "        vertical-align: middle;\n",
       "    }\n",
       "\n",
       "    .dataframe tbody tr th {\n",
       "        vertical-align: top;\n",
       "    }\n",
       "\n",
       "    .dataframe thead th {\n",
       "        text-align: right;\n",
       "    }\n",
       "</style>\n",
       "<table border=\"1\" class=\"dataframe\">\n",
       "  <thead>\n",
       "    <tr style=\"text-align: right;\">\n",
       "      <th></th>\n",
       "      <th>total_price</th>\n",
       "      <th>purchase_price</th>\n",
       "    </tr>\n",
       "    <tr>\n",
       "      <th>neighbourhood_group</th>\n",
       "      <th></th>\n",
       "      <th></th>\n",
       "    </tr>\n",
       "  </thead>\n",
       "  <tbody>\n",
       "    <tr>\n",
       "      <th>Arganzuela</th>\n",
       "      <td>74.0</td>\n",
       "      <td>162412.5</td>\n",
       "    </tr>\n",
       "    <tr>\n",
       "      <th>Barajas</th>\n",
       "      <td>60.0</td>\n",
       "      <td>128025.0</td>\n",
       "    </tr>\n",
       "    <tr>\n",
       "      <th>Carabanchel</th>\n",
       "      <td>60.0</td>\n",
       "      <td>87487.5</td>\n",
       "    </tr>\n",
       "    <tr>\n",
       "      <th>Centro</th>\n",
       "      <td>97.0</td>\n",
       "      <td>195187.5</td>\n",
       "    </tr>\n",
       "    <tr>\n",
       "      <th>Chamartín</th>\n",
       "      <td>89.0</td>\n",
       "      <td>209625.0</td>\n",
       "    </tr>\n",
       "    <tr>\n",
       "      <th>Chamberí</th>\n",
       "      <td>90.0</td>\n",
       "      <td>220125.0</td>\n",
       "    </tr>\n",
       "    <tr>\n",
       "      <th>Ciudad Lineal</th>\n",
       "      <td>60.0</td>\n",
       "      <td>122062.5</td>\n",
       "    </tr>\n",
       "    <tr>\n",
       "      <th>Fuencarral - El Pardo</th>\n",
       "      <td>65.0</td>\n",
       "      <td>142762.5</td>\n",
       "    </tr>\n",
       "    <tr>\n",
       "      <th>Hortaleza</th>\n",
       "      <td>74.0</td>\n",
       "      <td>143400.0</td>\n",
       "    </tr>\n",
       "    <tr>\n",
       "      <th>Latina</th>\n",
       "      <td>48.0</td>\n",
       "      <td>92850.0</td>\n",
       "    </tr>\n",
       "    <tr>\n",
       "      <th>Moncloa - Aravaca</th>\n",
       "      <td>87.5</td>\n",
       "      <td>160912.5</td>\n",
       "    </tr>\n",
       "    <tr>\n",
       "      <th>Moratalaz</th>\n",
       "      <td>50.0</td>\n",
       "      <td>98025.0</td>\n",
       "    </tr>\n",
       "    <tr>\n",
       "      <th>Puente de Vallecas</th>\n",
       "      <td>50.0</td>\n",
       "      <td>79200.0</td>\n",
       "    </tr>\n",
       "    <tr>\n",
       "      <th>Retiro</th>\n",
       "      <td>80.0</td>\n",
       "      <td>188137.5</td>\n",
       "    </tr>\n",
       "    <tr>\n",
       "      <th>Salamanca</th>\n",
       "      <td>104.0</td>\n",
       "      <td>248737.5</td>\n",
       "    </tr>\n",
       "    <tr>\n",
       "      <th>San Blas - Canillejas</th>\n",
       "      <td>90.0</td>\n",
       "      <td>104100.0</td>\n",
       "    </tr>\n",
       "    <tr>\n",
       "      <th>Tetuán</th>\n",
       "      <td>77.0</td>\n",
       "      <td>151912.5</td>\n",
       "    </tr>\n",
       "    <tr>\n",
       "      <th>Usera</th>\n",
       "      <td>60.0</td>\n",
       "      <td>81825.0</td>\n",
       "    </tr>\n",
       "    <tr>\n",
       "      <th>Vicálvaro</th>\n",
       "      <td>40.0</td>\n",
       "      <td>101550.0</td>\n",
       "    </tr>\n",
       "    <tr>\n",
       "      <th>Villa de Vallecas</th>\n",
       "      <td>55.0</td>\n",
       "      <td>94837.5</td>\n",
       "    </tr>\n",
       "    <tr>\n",
       "      <th>Villaverde</th>\n",
       "      <td>58.0</td>\n",
       "      <td>68775.0</td>\n",
       "    </tr>\n",
       "  </tbody>\n",
       "</table>\n",
       "</div>"
      ],
      "text/plain": [
       "                       total_price  purchase_price\n",
       "neighbourhood_group                               \n",
       "Arganzuela                    74.0        162412.5\n",
       "Barajas                       60.0        128025.0\n",
       "Carabanchel                   60.0         87487.5\n",
       "Centro                        97.0        195187.5\n",
       "Chamartín                     89.0        209625.0\n",
       "Chamberí                      90.0        220125.0\n",
       "Ciudad Lineal                 60.0        122062.5\n",
       "Fuencarral - El Pardo         65.0        142762.5\n",
       "Hortaleza                     74.0        143400.0\n",
       "Latina                        48.0         92850.0\n",
       "Moncloa - Aravaca             87.5        160912.5\n",
       "Moratalaz                     50.0         98025.0\n",
       "Puente de Vallecas            50.0         79200.0\n",
       "Retiro                        80.0        188137.5\n",
       "Salamanca                    104.0        248737.5\n",
       "San Blas - Canillejas         90.0        104100.0\n",
       "Tetuán                        77.0        151912.5\n",
       "Usera                         60.0         81825.0\n",
       "Vicálvaro                     40.0        101550.0\n",
       "Villa de Vallecas             55.0         94837.5\n",
       "Villaverde                    58.0         68775.0"
      ]
     },
     "execution_count": 118,
     "metadata": {},
     "output_type": "execute_result"
    }
   ],
   "source": [
    "temp = df.groupby(\"neighbourhood_group\")[[\"total_price\",\"purchase_price\"]].agg(\"median\")\n",
    "temp"
   ]
  },
  {
   "cell_type": "code",
   "execution_count": 119,
   "metadata": {},
   "outputs": [
    {
     "data": {
      "image/png": "[encoded data removed]",
      "text/plain": [
       "<Figure size 1152x648 with 1 Axes>"
      ]
     },
     "metadata": {
      "needs_background": "light"
     },
     "output_type": "display_data"
    }
   ],
   "source": [
    "plt.figure(figsize = (16,9))\n",
    "sns.scatterplot(data = temp, x = \"purchase_price\", y = \"total_price\")\n",
    "\n",
    "# Put the labels\n",
    "for i in range(0,temp.shape[0]):\n",
    "    plt.text(temp.purchase_price[i], temp.total_price[i], temp.index[i])"
   ]
  },
  {
   "attachments": {},
   "cell_type": "markdown",
   "metadata": {},
   "source": [
    "This scatter plot helps us to identify which neighbourhood groups are most profitable and which ones are not.\n",
    "\n",
    "- It is clear that Salamanca presents the highest median renting price, but also the highest median purchase price.\n",
    "- Three different clusters can be observed, grouping by low, medium and high prices.\n",
    "- There is one particular group with relatively low purchase price and high renting price. This is San Blas - Canillejas. "
   ]
  },
  {
   "cell_type": "code",
   "execution_count": 120,
   "metadata": {},
   "outputs": [
    {
     "data": {
      "text/html": [
       "<div>\n",
       "<style scoped>\n",
       "    .dataframe tbody tr th:only-of-type {\n",
       "        vertical-align: middle;\n",
       "    }\n",
       "\n",
       "    .dataframe tbody tr th {\n",
       "        vertical-align: top;\n",
       "    }\n",
       "\n",
       "    .dataframe thead th {\n",
       "        text-align: right;\n",
       "    }\n",
       "</style>\n",
       "<table border=\"1\" class=\"dataframe\">\n",
       "  <thead>\n",
       "    <tr style=\"text-align: right;\">\n",
       "      <th></th>\n",
       "      <th>level_0</th>\n",
       "      <th>index</th>\n",
       "      <th>id</th>\n",
       "      <th>name</th>\n",
       "      <th>host_id</th>\n",
       "      <th>neighbourhood_group</th>\n",
       "      <th>neighbourhood</th>\n",
       "      <th>latitude</th>\n",
       "      <th>longitude</th>\n",
       "      <th>room_type</th>\n",
       "      <th>price</th>\n",
       "      <th>minimum_nights</th>\n",
       "      <th>availability_365</th>\n",
       "      <th>description</th>\n",
       "      <th>host_is_superhost</th>\n",
       "      <th>accommodates</th>\n",
       "      <th>bedrooms</th>\n",
       "      <th>beds</th>\n",
       "      <th>number_of_reviews</th>\n",
       "      <th>review_scores_rating</th>\n",
       "      <th>review_scores_communication</th>\n",
       "      <th>review_scores_location</th>\n",
       "      <th>price_m2</th>\n",
       "      <th>total_price</th>\n",
       "      <th>occupancy_rate</th>\n",
       "      <th>bedrooms_disc</th>\n",
       "      <th>accommodates_disc</th>\n",
       "      <th>beds_disc</th>\n",
       "      <th>number_of_reviews_disc</th>\n",
       "      <th>m2</th>\n",
       "      <th>purchase_price</th>\n",
       "      <th>distance_center</th>\n",
       "    </tr>\n",
       "  </thead>\n",
       "  <tbody>\n",
       "    <tr>\n",
       "      <th>5022</th>\n",
       "      <td>5022</td>\n",
       "      <td>5022</td>\n",
       "      <td>23969176</td>\n",
       "      <td>Modern and cozy apartment - Airport</td>\n",
       "      <td>63135524</td>\n",
       "      <td>San Blas - Canillejas</td>\n",
       "      <td>Rejas</td>\n",
       "      <td>40.44407</td>\n",
       "      <td>-3.58457</td>\n",
       "      <td>Entire home/apt</td>\n",
       "      <td>7806</td>\n",
       "      <td>4</td>\n",
       "      <td>0</td>\n",
       "      <td>We offer you our beautiful apartment with view...</td>\n",
       "      <td>f</td>\n",
       "      <td>2</td>\n",
       "      <td>1.0</td>\n",
       "      <td>1.0</td>\n",
       "      <td>17</td>\n",
       "      <td>4.94</td>\n",
       "      <td>5.0</td>\n",
       "      <td>4.88</td>\n",
       "      <td>2776</td>\n",
       "      <td>7806.0</td>\n",
       "      <td>100</td>\n",
       "      <td>01_One</td>\n",
       "      <td>1-3</td>\n",
       "      <td>1</td>\n",
       "      <td>5-48</td>\n",
       "      <td>50</td>\n",
       "      <td>104100.0</td>\n",
       "      <td>10.505356</td>\n",
       "    </tr>\n",
       "    <tr>\n",
       "      <th>7983</th>\n",
       "      <td>7983</td>\n",
       "      <td>7983</td>\n",
       "      <td>35149419</td>\n",
       "      <td>CHALET FOR THE FINAL CHAMPIONS LEAGUE MADRID</td>\n",
       "      <td>143732655</td>\n",
       "      <td>San Blas - Canillejas</td>\n",
       "      <td>Canillejas</td>\n",
       "      <td>40.44937</td>\n",
       "      <td>-3.61633</td>\n",
       "      <td>Entire home/apt</td>\n",
       "      <td>6000</td>\n",
       "      <td>1</td>\n",
       "      <td>365</td>\n",
       "      <td>We are talking about one of the last villas fo...</td>\n",
       "      <td>f</td>\n",
       "      <td>6</td>\n",
       "      <td>4.0</td>\n",
       "      <td>5.0</td>\n",
       "      <td>0</td>\n",
       "      <td>NaN</td>\n",
       "      <td>NaN</td>\n",
       "      <td>NaN</td>\n",
       "      <td>2776</td>\n",
       "      <td>6000.0</td>\n",
       "      <td>0</td>\n",
       "      <td>04_Four or more</td>\n",
       "      <td>5-16</td>\n",
       "      <td>3-24</td>\n",
       "      <td>1-4</td>\n",
       "      <td>120</td>\n",
       "      <td>249840.0</td>\n",
       "      <td>8.212429</td>\n",
       "    </tr>\n",
       "    <tr>\n",
       "      <th>8181</th>\n",
       "      <td>8181</td>\n",
       "      <td>8181</td>\n",
       "      <td>35251141</td>\n",
       "      <td>Se alquila para final de la champion league</td>\n",
       "      <td>265376740</td>\n",
       "      <td>San Blas - Canillejas</td>\n",
       "      <td>Canillejas</td>\n",
       "      <td>40.44292</td>\n",
       "      <td>-3.60764</td>\n",
       "      <td>Entire home/apt</td>\n",
       "      <td>3000</td>\n",
       "      <td>1</td>\n",
       "      <td>365</td>\n",
       "      <td>None</td>\n",
       "      <td>f</td>\n",
       "      <td>1</td>\n",
       "      <td>2.0</td>\n",
       "      <td>4.0</td>\n",
       "      <td>0</td>\n",
       "      <td>NaN</td>\n",
       "      <td>NaN</td>\n",
       "      <td>NaN</td>\n",
       "      <td>2776</td>\n",
       "      <td>3000.0</td>\n",
       "      <td>0</td>\n",
       "      <td>02_Two</td>\n",
       "      <td>1-3</td>\n",
       "      <td>3-24</td>\n",
       "      <td>1-4</td>\n",
       "      <td>70</td>\n",
       "      <td>145740.0</td>\n",
       "      <td>8.610212</td>\n",
       "    </tr>\n",
       "    <tr>\n",
       "      <th>7699</th>\n",
       "      <td>7699</td>\n",
       "      <td>7699</td>\n",
       "      <td>34836238</td>\n",
       "      <td>ALQUILER ÁTICO, CHAMPIONS, A 10min  DEL WANDA.</td>\n",
       "      <td>262622230</td>\n",
       "      <td>San Blas - Canillejas</td>\n",
       "      <td>Simancas</td>\n",
       "      <td>40.43879</td>\n",
       "      <td>-3.61425</td>\n",
       "      <td>Entire home/apt</td>\n",
       "      <td>3000</td>\n",
       "      <td>1</td>\n",
       "      <td>363</td>\n",
       "      <td>CHAMPION, Ático a 10 min del Wanda, metro Torr...</td>\n",
       "      <td>f</td>\n",
       "      <td>4</td>\n",
       "      <td>2.0</td>\n",
       "      <td>1.0</td>\n",
       "      <td>0</td>\n",
       "      <td>NaN</td>\n",
       "      <td>NaN</td>\n",
       "      <td>NaN</td>\n",
       "      <td>2776</td>\n",
       "      <td>3000.0</td>\n",
       "      <td>0</td>\n",
       "      <td>02_Two</td>\n",
       "      <td>4</td>\n",
       "      <td>1</td>\n",
       "      <td>1-4</td>\n",
       "      <td>70</td>\n",
       "      <td>145740.0</td>\n",
       "      <td>7.932095</td>\n",
       "    </tr>\n",
       "    <tr>\n",
       "      <th>7668</th>\n",
       "      <td>7668</td>\n",
       "      <td>7668</td>\n",
       "      <td>34826962</td>\n",
       "      <td>Pozos rooms</td>\n",
       "      <td>222068421</td>\n",
       "      <td>San Blas - Canillejas</td>\n",
       "      <td>Arcos</td>\n",
       "      <td>40.41927</td>\n",
       "      <td>-3.61555</td>\n",
       "      <td>Private room</td>\n",
       "      <td>3000</td>\n",
       "      <td>1</td>\n",
       "      <td>88</td>\n",
       "      <td>Cerca nos podemos encontrar un centro comercia...</td>\n",
       "      <td>f</td>\n",
       "      <td>4</td>\n",
       "      <td>2.0</td>\n",
       "      <td>3.0</td>\n",
       "      <td>0</td>\n",
       "      <td>NaN</td>\n",
       "      <td>NaN</td>\n",
       "      <td>NaN</td>\n",
       "      <td>2776</td>\n",
       "      <td>6300.0</td>\n",
       "      <td>75</td>\n",
       "      <td>02_Two</td>\n",
       "      <td>4</td>\n",
       "      <td>2</td>\n",
       "      <td>1-4</td>\n",
       "      <td>70</td>\n",
       "      <td>145740.0</td>\n",
       "      <td>7.439364</td>\n",
       "    </tr>\n",
       "    <tr>\n",
       "      <th>7380</th>\n",
       "      <td>7380</td>\n",
       "      <td>7380</td>\n",
       "      <td>34600594</td>\n",
       "      <td>3 rooms near Wanda</td>\n",
       "      <td>38951538</td>\n",
       "      <td>San Blas - Canillejas</td>\n",
       "      <td>Arcos</td>\n",
       "      <td>40.42105</td>\n",
       "      <td>-3.61457</td>\n",
       "      <td>Private room</td>\n",
       "      <td>2800</td>\n",
       "      <td>1</td>\n",
       "      <td>0</td>\n",
       "      <td>3 rooms 15´walking from Wanda.</td>\n",
       "      <td>f</td>\n",
       "      <td>6</td>\n",
       "      <td>3.0</td>\n",
       "      <td>5.0</td>\n",
       "      <td>0</td>\n",
       "      <td>NaN</td>\n",
       "      <td>NaN</td>\n",
       "      <td>NaN</td>\n",
       "      <td>2776</td>\n",
       "      <td>9800.0</td>\n",
       "      <td>100</td>\n",
       "      <td>03_Three</td>\n",
       "      <td>5-16</td>\n",
       "      <td>3-24</td>\n",
       "      <td>1-4</td>\n",
       "      <td>90</td>\n",
       "      <td>187380.0</td>\n",
       "      <td>7.532233</td>\n",
       "    </tr>\n",
       "    <tr>\n",
       "      <th>7234</th>\n",
       "      <td>7234</td>\n",
       "      <td>7234</td>\n",
       "      <td>34566381</td>\n",
       "      <td>Alquiler piso para final de la Champions league</td>\n",
       "      <td>260821774</td>\n",
       "      <td>San Blas - Canillejas</td>\n",
       "      <td>Simancas</td>\n",
       "      <td>40.43502</td>\n",
       "      <td>-3.62565</td>\n",
       "      <td>Entire home/apt</td>\n",
       "      <td>2600</td>\n",
       "      <td>2</td>\n",
       "      <td>0</td>\n",
       "      <td>Piso muy acogedor e iluminado con 2 habitacion...</td>\n",
       "      <td>f</td>\n",
       "      <td>4</td>\n",
       "      <td>2.0</td>\n",
       "      <td>1.0</td>\n",
       "      <td>0</td>\n",
       "      <td>NaN</td>\n",
       "      <td>NaN</td>\n",
       "      <td>NaN</td>\n",
       "      <td>2776</td>\n",
       "      <td>2600.0</td>\n",
       "      <td>100</td>\n",
       "      <td>02_Two</td>\n",
       "      <td>4</td>\n",
       "      <td>1</td>\n",
       "      <td>1-4</td>\n",
       "      <td>70</td>\n",
       "      <td>145740.0</td>\n",
       "      <td>6.885409</td>\n",
       "    </tr>\n",
       "    <tr>\n",
       "      <th>7471</th>\n",
       "      <td>7471</td>\n",
       "      <td>7471</td>\n",
       "      <td>34669854</td>\n",
       "      <td>¡FINAL CHAMPION! A 15 MINUTOS ANDANDO DEL ESTADIO</td>\n",
       "      <td>123178707</td>\n",
       "      <td>San Blas - Canillejas</td>\n",
       "      <td>Canillejas</td>\n",
       "      <td>40.44857</td>\n",
       "      <td>-3.61360</td>\n",
       "      <td>Entire home/apt</td>\n",
       "      <td>2300</td>\n",
       "      <td>1</td>\n",
       "      <td>90</td>\n",
       "      <td>Bonito chalet para pasar la noche de la final ...</td>\n",
       "      <td>f</td>\n",
       "      <td>4</td>\n",
       "      <td>3.0</td>\n",
       "      <td>3.0</td>\n",
       "      <td>0</td>\n",
       "      <td>NaN</td>\n",
       "      <td>NaN</td>\n",
       "      <td>NaN</td>\n",
       "      <td>2776</td>\n",
       "      <td>2300.0</td>\n",
       "      <td>75</td>\n",
       "      <td>03_Three</td>\n",
       "      <td>4</td>\n",
       "      <td>2</td>\n",
       "      <td>1-4</td>\n",
       "      <td>90</td>\n",
       "      <td>187380.0</td>\n",
       "      <td>8.382420</td>\n",
       "    </tr>\n",
       "    <tr>\n",
       "      <th>7763</th>\n",
       "      <td>7763</td>\n",
       "      <td>7763</td>\n",
       "      <td>34933116</td>\n",
       "      <td>FINAL CHAMPIONS LEAGUE MADRID</td>\n",
       "      <td>263232278</td>\n",
       "      <td>San Blas - Canillejas</td>\n",
       "      <td>Simancas</td>\n",
       "      <td>40.43968</td>\n",
       "      <td>-3.61933</td>\n",
       "      <td>Private room</td>\n",
       "      <td>2000</td>\n",
       "      <td>2</td>\n",
       "      <td>365</td>\n",
       "      <td>Near (15 minutes walking) to WANDA STADIUM.&lt;br...</td>\n",
       "      <td>f</td>\n",
       "      <td>5</td>\n",
       "      <td>3.0</td>\n",
       "      <td>3.0</td>\n",
       "      <td>0</td>\n",
       "      <td>NaN</td>\n",
       "      <td>NaN</td>\n",
       "      <td>NaN</td>\n",
       "      <td>2776</td>\n",
       "      <td>4200.0</td>\n",
       "      <td>0</td>\n",
       "      <td>03_Three</td>\n",
       "      <td>5-16</td>\n",
       "      <td>2</td>\n",
       "      <td>1-4</td>\n",
       "      <td>90</td>\n",
       "      <td>187380.0</td>\n",
       "      <td>7.557076</td>\n",
       "    </tr>\n",
       "    <tr>\n",
       "      <th>7246</th>\n",
       "      <td>7246</td>\n",
       "      <td>7246</td>\n",
       "      <td>34617940</td>\n",
       "      <td>~10 minutes on foot from the wanda stadium~</td>\n",
       "      <td>261166073</td>\n",
       "      <td>San Blas - Canillejas</td>\n",
       "      <td>Canillejas</td>\n",
       "      <td>40.44567</td>\n",
       "      <td>-3.60970</td>\n",
       "      <td>Entire home/apt</td>\n",
       "      <td>2000</td>\n",
       "      <td>2</td>\n",
       "      <td>0</td>\n",
       "      <td>Apartment with 2 bedrooms and swimming pool 10...</td>\n",
       "      <td>f</td>\n",
       "      <td>6</td>\n",
       "      <td>2.0</td>\n",
       "      <td>4.0</td>\n",
       "      <td>0</td>\n",
       "      <td>NaN</td>\n",
       "      <td>NaN</td>\n",
       "      <td>NaN</td>\n",
       "      <td>2776</td>\n",
       "      <td>2000.0</td>\n",
       "      <td>100</td>\n",
       "      <td>02_Two</td>\n",
       "      <td>5-16</td>\n",
       "      <td>3-24</td>\n",
       "      <td>1-4</td>\n",
       "      <td>70</td>\n",
       "      <td>145740.0</td>\n",
       "      <td>8.556462</td>\n",
       "    </tr>\n",
       "  </tbody>\n",
       "</table>\n",
       "</div>"
      ],
      "text/plain": [
       "      level_0  index        id  \\\n",
       "5022     5022   5022  23969176   \n",
       "7983     7983   7983  35149419   \n",
       "8181     8181   8181  35251141   \n",
       "7699     7699   7699  34836238   \n",
       "7668     7668   7668  34826962   \n",
       "7380     7380   7380  34600594   \n",
       "7234     7234   7234  34566381   \n",
       "7471     7471   7471  34669854   \n",
       "7763     7763   7763  34933116   \n",
       "7246     7246   7246  34617940   \n",
       "\n",
       "                                                   name    host_id  \\\n",
       "5022                Modern and cozy apartment - Airport   63135524   \n",
       "7983       CHALET FOR THE FINAL CHAMPIONS LEAGUE MADRID  143732655   \n",
       "8181        Se alquila para final de la champion league  265376740   \n",
       "7699     ALQUILER ÁTICO, CHAMPIONS, A 10min  DEL WANDA.  262622230   \n",
       "7668                                        Pozos rooms  222068421   \n",
       "7380                                 3 rooms near Wanda   38951538   \n",
       "7234    Alquiler piso para final de la Champions league  260821774   \n",
       "7471  ¡FINAL CHAMPION! A 15 MINUTOS ANDANDO DEL ESTADIO  123178707   \n",
       "7763                      FINAL CHAMPIONS LEAGUE MADRID  263232278   \n",
       "7246        ~10 minutes on foot from the wanda stadium~  261166073   \n",
       "\n",
       "        neighbourhood_group neighbourhood  latitude  longitude  \\\n",
       "5022  San Blas - Canillejas         Rejas  40.44407   -3.58457   \n",
       "7983  San Blas - Canillejas    Canillejas  40.44937   -3.61633   \n",
       "8181  San Blas - Canillejas    Canillejas  40.44292   -3.60764   \n",
       "7699  San Blas - Canillejas      Simancas  40.43879   -3.61425   \n",
       "7668  San Blas - Canillejas         Arcos  40.41927   -3.61555   \n",
       "7380  San Blas - Canillejas         Arcos  40.42105   -3.61457   \n",
       "7234  San Blas - Canillejas      Simancas  40.43502   -3.62565   \n",
       "7471  San Blas - Canillejas    Canillejas  40.44857   -3.61360   \n",
       "7763  San Blas - Canillejas      Simancas  40.43968   -3.61933   \n",
       "7246  San Blas - Canillejas    Canillejas  40.44567   -3.60970   \n",
       "\n",
       "            room_type  price  minimum_nights  availability_365  \\\n",
       "5022  Entire home/apt   7806               4                 0   \n",
       "7983  Entire home/apt   6000               1               365   \n",
       "8181  Entire home/apt   3000               1               365   \n",
       "7699  Entire home/apt   3000               1               363   \n",
       "7668     Private room   3000               1                88   \n",
       "7380     Private room   2800               1                 0   \n",
       "7234  Entire home/apt   2600               2                 0   \n",
       "7471  Entire home/apt   2300               1                90   \n",
       "7763     Private room   2000               2               365   \n",
       "7246  Entire home/apt   2000               2                 0   \n",
       "\n",
       "                                            description host_is_superhost  \\\n",
       "5022  We offer you our beautiful apartment with view...                 f   \n",
       "7983  We are talking about one of the last villas fo...                 f   \n",
       "8181                                               None                 f   \n",
       "7699  CHAMPION, Ático a 10 min del Wanda, metro Torr...                 f   \n",
       "7668  Cerca nos podemos encontrar un centro comercia...                 f   \n",
       "7380                     3 rooms 15´walking from Wanda.                 f   \n",
       "7234  Piso muy acogedor e iluminado con 2 habitacion...                 f   \n",
       "7471  Bonito chalet para pasar la noche de la final ...                 f   \n",
       "7763  Near (15 minutes walking) to WANDA STADIUM.<br...                 f   \n",
       "7246  Apartment with 2 bedrooms and swimming pool 10...                 f   \n",
       "\n",
       "      accommodates  bedrooms  beds  number_of_reviews  review_scores_rating  \\\n",
       "5022             2       1.0   1.0                 17                  4.94   \n",
       "7983             6       4.0   5.0                  0                   NaN   \n",
       "8181             1       2.0   4.0                  0                   NaN   \n",
       "7699             4       2.0   1.0                  0                   NaN   \n",
       "7668             4       2.0   3.0                  0                   NaN   \n",
       "7380             6       3.0   5.0                  0                   NaN   \n",
       "7234             4       2.0   1.0                  0                   NaN   \n",
       "7471             4       3.0   3.0                  0                   NaN   \n",
       "7763             5       3.0   3.0                  0                   NaN   \n",
       "7246             6       2.0   4.0                  0                   NaN   \n",
       "\n",
       "      review_scores_communication  review_scores_location  price_m2  \\\n",
       "5022                          5.0                    4.88      2776   \n",
       "7983                          NaN                     NaN      2776   \n",
       "8181                          NaN                     NaN      2776   \n",
       "7699                          NaN                     NaN      2776   \n",
       "7668                          NaN                     NaN      2776   \n",
       "7380                          NaN                     NaN      2776   \n",
       "7234                          NaN                     NaN      2776   \n",
       "7471                          NaN                     NaN      2776   \n",
       "7763                          NaN                     NaN      2776   \n",
       "7246                          NaN                     NaN      2776   \n",
       "\n",
       "      total_price  occupancy_rate    bedrooms_disc accommodates_disc  \\\n",
       "5022       7806.0             100           01_One               1-3   \n",
       "7983       6000.0               0  04_Four or more              5-16   \n",
       "8181       3000.0               0           02_Two               1-3   \n",
       "7699       3000.0               0           02_Two                 4   \n",
       "7668       6300.0              75           02_Two                 4   \n",
       "7380       9800.0             100         03_Three              5-16   \n",
       "7234       2600.0             100           02_Two                 4   \n",
       "7471       2300.0              75         03_Three                 4   \n",
       "7763       4200.0               0         03_Three              5-16   \n",
       "7246       2000.0             100           02_Two              5-16   \n",
       "\n",
       "     beds_disc number_of_reviews_disc   m2  purchase_price  distance_center  \n",
       "5022         1                   5-48   50        104100.0        10.505356  \n",
       "7983      3-24                    1-4  120        249840.0         8.212429  \n",
       "8181      3-24                    1-4   70        145740.0         8.610212  \n",
       "7699         1                    1-4   70        145740.0         7.932095  \n",
       "7668         2                    1-4   70        145740.0         7.439364  \n",
       "7380      3-24                    1-4   90        187380.0         7.532233  \n",
       "7234         1                    1-4   70        145740.0         6.885409  \n",
       "7471         2                    1-4   90        187380.0         8.382420  \n",
       "7763         2                    1-4   90        187380.0         7.557076  \n",
       "7246      3-24                    1-4   70        145740.0         8.556462  "
      ]
     },
     "execution_count": 120,
     "metadata": {},
     "output_type": "execute_result"
    }
   ],
   "source": [
    "df[df[\"neighbourhood_group\"] == \"San Blas - Canillejas\"].sort_values(by = \"price\", ascending=False).head(10)"
   ]
  },
  {
   "attachments": {},
   "cell_type": "markdown",
   "metadata": {},
   "source": [
    "There are very high renting prices between 2.000€ and 7.800€. That's a lot of money for San Blas.\n",
    "\n",
    "If we take a look at the description we see references to Champions League football match.\n",
    "\n",
    "This is already an insight:\n",
    "\n",
    "**Insight 1: there can exist properties with low purchase price but with very high renting prices for some specific sport events throughout the year.**\n",
    "\n",
    "We could think of a renting product in this region, with a considerably lower rent throughout the year for the tenant under the condition that the tenant leaves the property free for renting during these sport events."
   ]
  },
  {
   "attachments": {},
   "cell_type": "markdown",
   "metadata": {},
   "source": [
    "Let's repeat the analysis at neighbourhood level."
   ]
  },
  {
   "cell_type": "code",
   "execution_count": 121,
   "metadata": {},
   "outputs": [
    {
     "data": {
      "text/html": [
       "<div>\n",
       "<style scoped>\n",
       "    .dataframe tbody tr th:only-of-type {\n",
       "        vertical-align: middle;\n",
       "    }\n",
       "\n",
       "    .dataframe tbody tr th {\n",
       "        vertical-align: top;\n",
       "    }\n",
       "\n",
       "    .dataframe thead th {\n",
       "        text-align: right;\n",
       "    }\n",
       "</style>\n",
       "<table border=\"1\" class=\"dataframe\">\n",
       "  <thead>\n",
       "    <tr style=\"text-align: right;\">\n",
       "      <th></th>\n",
       "      <th>total_price</th>\n",
       "      <th>purchase_price</th>\n",
       "    </tr>\n",
       "    <tr>\n",
       "      <th>neighbourhood</th>\n",
       "      <th></th>\n",
       "      <th></th>\n",
       "    </tr>\n",
       "  </thead>\n",
       "  <tbody>\n",
       "    <tr>\n",
       "      <th>Rosas</th>\n",
       "      <td>400.0</td>\n",
       "      <td>104100.0</td>\n",
       "    </tr>\n",
       "    <tr>\n",
       "      <th>Amposta</th>\n",
       "      <td>350.0</td>\n",
       "      <td>104100.0</td>\n",
       "    </tr>\n",
       "    <tr>\n",
       "      <th>Recoletos</th>\n",
       "      <td>132.0</td>\n",
       "      <td>248737.5</td>\n",
       "    </tr>\n",
       "    <tr>\n",
       "      <th>Castellana</th>\n",
       "      <td>124.0</td>\n",
       "      <td>248737.5</td>\n",
       "    </tr>\n",
       "    <tr>\n",
       "      <th>Jerónimos</th>\n",
       "      <td>124.0</td>\n",
       "      <td>188137.5</td>\n",
       "    </tr>\n",
       "    <tr>\n",
       "      <th>...</th>\n",
       "      <td>...</td>\n",
       "      <td>...</td>\n",
       "    </tr>\n",
       "    <tr>\n",
       "      <th>Aluche</th>\n",
       "      <td>38.5</td>\n",
       "      <td>92850.0</td>\n",
       "    </tr>\n",
       "    <tr>\n",
       "      <th>Entrevías</th>\n",
       "      <td>38.0</td>\n",
       "      <td>79200.0</td>\n",
       "    </tr>\n",
       "    <tr>\n",
       "      <th>Ambroz</th>\n",
       "      <td>35.0</td>\n",
       "      <td>101550.0</td>\n",
       "    </tr>\n",
       "    <tr>\n",
       "      <th>Campamento</th>\n",
       "      <td>33.5</td>\n",
       "      <td>92850.0</td>\n",
       "    </tr>\n",
       "    <tr>\n",
       "      <th>Palomeras Bajas</th>\n",
       "      <td>31.0</td>\n",
       "      <td>79200.0</td>\n",
       "    </tr>\n",
       "  </tbody>\n",
       "</table>\n",
       "<p>125 rows × 2 columns</p>\n",
       "</div>"
      ],
      "text/plain": [
       "                 total_price  purchase_price\n",
       "neighbourhood                               \n",
       "Rosas                  400.0        104100.0\n",
       "Amposta                350.0        104100.0\n",
       "Recoletos              132.0        248737.5\n",
       "Castellana             124.0        248737.5\n",
       "Jerónimos              124.0        188137.5\n",
       "...                      ...             ...\n",
       "Aluche                  38.5         92850.0\n",
       "Entrevías               38.0         79200.0\n",
       "Ambroz                  35.0        101550.0\n",
       "Campamento              33.5         92850.0\n",
       "Palomeras Bajas         31.0         79200.0\n",
       "\n",
       "[125 rows x 2 columns]"
      ]
     },
     "execution_count": 121,
     "metadata": {},
     "output_type": "execute_result"
    }
   ],
   "source": [
    "temp = df.groupby(\"neighbourhood\")[[\"total_price\",\"purchase_price\"]].agg(\"median\")\n",
    "temp.sort_values(by = \"total_price\", ascending=False)"
   ]
  },
  {
   "cell_type": "code",
   "execution_count": 122,
   "metadata": {},
   "outputs": [
    {
     "data": {
      "text/html": [
       "<div>\n",
       "<style scoped>\n",
       "    .dataframe tbody tr th:only-of-type {\n",
       "        vertical-align: middle;\n",
       "    }\n",
       "\n",
       "    .dataframe tbody tr th {\n",
       "        vertical-align: top;\n",
       "    }\n",
       "\n",
       "    .dataframe thead th {\n",
       "        text-align: right;\n",
       "    }\n",
       "</style>\n",
       "<table border=\"1\" class=\"dataframe\">\n",
       "  <thead>\n",
       "    <tr style=\"text-align: right;\">\n",
       "      <th></th>\n",
       "      <th>total_price</th>\n",
       "      <th>purchase_price</th>\n",
       "    </tr>\n",
       "    <tr>\n",
       "      <th>neighbourhood</th>\n",
       "      <th></th>\n",
       "      <th></th>\n",
       "    </tr>\n",
       "  </thead>\n",
       "  <tbody>\n",
       "    <tr>\n",
       "      <th>Recoletos</th>\n",
       "      <td>132.0</td>\n",
       "      <td>248737.5</td>\n",
       "    </tr>\n",
       "    <tr>\n",
       "      <th>Jerónimos</th>\n",
       "      <td>124.0</td>\n",
       "      <td>188137.5</td>\n",
       "    </tr>\n",
       "    <tr>\n",
       "      <th>Castellana</th>\n",
       "      <td>124.0</td>\n",
       "      <td>248737.5</td>\n",
       "    </tr>\n",
       "    <tr>\n",
       "      <th>Goya</th>\n",
       "      <td>117.0</td>\n",
       "      <td>248737.5</td>\n",
       "    </tr>\n",
       "    <tr>\n",
       "      <th>El Viso</th>\n",
       "      <td>116.0</td>\n",
       "      <td>209625.0</td>\n",
       "    </tr>\n",
       "    <tr>\n",
       "      <th>...</th>\n",
       "      <td>...</td>\n",
       "      <td>...</td>\n",
       "    </tr>\n",
       "    <tr>\n",
       "      <th>Aluche</th>\n",
       "      <td>38.5</td>\n",
       "      <td>92850.0</td>\n",
       "    </tr>\n",
       "    <tr>\n",
       "      <th>Entrevías</th>\n",
       "      <td>38.0</td>\n",
       "      <td>79200.0</td>\n",
       "    </tr>\n",
       "    <tr>\n",
       "      <th>Ambroz</th>\n",
       "      <td>35.0</td>\n",
       "      <td>101550.0</td>\n",
       "    </tr>\n",
       "    <tr>\n",
       "      <th>Campamento</th>\n",
       "      <td>33.5</td>\n",
       "      <td>92850.0</td>\n",
       "    </tr>\n",
       "    <tr>\n",
       "      <th>Palomeras Bajas</th>\n",
       "      <td>31.0</td>\n",
       "      <td>79200.0</td>\n",
       "    </tr>\n",
       "  </tbody>\n",
       "</table>\n",
       "<p>123 rows × 2 columns</p>\n",
       "</div>"
      ],
      "text/plain": [
       "                 total_price  purchase_price\n",
       "neighbourhood                               \n",
       "Recoletos              132.0        248737.5\n",
       "Jerónimos              124.0        188137.5\n",
       "Castellana             124.0        248737.5\n",
       "Goya                   117.0        248737.5\n",
       "El Viso                116.0        209625.0\n",
       "...                      ...             ...\n",
       "Aluche                  38.5         92850.0\n",
       "Entrevías               38.0         79200.0\n",
       "Ambroz                  35.0        101550.0\n",
       "Campamento              33.5         92850.0\n",
       "Palomeras Bajas         31.0         79200.0\n",
       "\n",
       "[123 rows x 2 columns]"
      ]
     },
     "execution_count": 122,
     "metadata": {},
     "output_type": "execute_result"
    }
   ],
   "source": [
    "temp = df[(df[\"neighbourhood\"] != \"Rosas\") & (df[\"neighbourhood\"] != \"Amposta\")].groupby(\"neighbourhood\")[[\"total_price\",\"purchase_price\"]].agg(\"median\")\n",
    "temp.sort_values(by = \"total_price\", ascending=False)"
   ]
  },
  {
   "cell_type": "code",
   "execution_count": 123,
   "metadata": {},
   "outputs": [
    {
     "data": {
      "image/png": "[encoded data removed]",
      "text/plain": [
       "<Figure size 1440x1008 with 1 Axes>"
      ]
     },
     "metadata": {
      "needs_background": "light"
     },
     "output_type": "display_data"
    }
   ],
   "source": [
    "plt.figure(figsize = (20,14))\n",
    "sns.scatterplot(data = temp, x = \"purchase_price\", y = \"total_price\")\n",
    "\n",
    "# Put the labels\n",
    "for i in range(0,temp.shape[0]):\n",
    "    plt.text(temp.purchase_price[i], temp.total_price[i], temp.index[i])"
   ]
  },
  {
   "attachments": {},
   "cell_type": "markdown",
   "metadata": {},
   "source": [
    "At neighbourhood level we can observe more things:\n",
    "\n",
    "- 2 outstanding neighbourhoods (Rosas and Canillejas), probably from San Blas - Canillejas\n",
    "- Inside each cluster we can separate\n",
    "    * Low level: Hellín, Simancas, Rejas, Marroquina\n",
    "    * Mid level: Piovera, Valdefuentes, Argüelles\n",
    "    * Mid-high level: Jerónimos, El Viso, Estrella\n",
    "    * High level: Recoletos\n",
    "\n",
    "**Insight 2: There are some neighbourhoods that can maximise the cost-revenue relationship, and we can classify them according to the quality level we might be interested in investing.**"
   ]
  },
  {
   "cell_type": "code",
   "execution_count": 124,
   "metadata": {},
   "outputs": [
    {
     "data": {
      "text/plain": [
       "array(['San Blas - Canillejas'], dtype=object)"
      ]
     },
     "execution_count": 124,
     "metadata": {},
     "output_type": "execute_result"
    }
   ],
   "source": [
    "df.loc[df[\"neighbourhood\"].isin(['Rosas','Canillejas']),\"neighbourhood_group\"].unique()"
   ]
  },
  {
   "attachments": {},
   "cell_type": "markdown",
   "metadata": {},
   "source": [
    "**Are there other factors that determine the renting price?**"
   ]
  },
  {
   "attachments": {},
   "cell_type": "markdown",
   "metadata": {},
   "source": [
    "Let's analyse this by grouping the renting and purchase price by the following relevant dimensions:\n",
    "\n",
    "- bedrooms_disc\n",
    "- accomodates_disc\n",
    "- beds_disc\n",
    "- number_of_reviews_disc"
   ]
  },
  {
   "cell_type": "code",
   "execution_count": 125,
   "metadata": {},
   "outputs": [
    {
     "data": {
      "text/html": [
       "<div>\n",
       "<style scoped>\n",
       "    .dataframe tbody tr th:only-of-type {\n",
       "        vertical-align: middle;\n",
       "    }\n",
       "\n",
       "    .dataframe tbody tr th {\n",
       "        vertical-align: top;\n",
       "    }\n",
       "\n",
       "    .dataframe thead th {\n",
       "        text-align: right;\n",
       "    }\n",
       "</style>\n",
       "<table border=\"1\" class=\"dataframe\">\n",
       "  <thead>\n",
       "    <tr style=\"text-align: right;\">\n",
       "      <th></th>\n",
       "      <th>bedrooms_disc</th>\n",
       "      <th>accommodates_disc</th>\n",
       "      <th>beds_disc</th>\n",
       "      <th>number_of_reviews_disc</th>\n",
       "      <th>total_price</th>\n",
       "      <th>purchase_price</th>\n",
       "    </tr>\n",
       "  </thead>\n",
       "  <tbody>\n",
       "    <tr>\n",
       "      <th>0</th>\n",
       "      <td>01_One</td>\n",
       "      <td>1-3</td>\n",
       "      <td>1</td>\n",
       "      <td>48-744</td>\n",
       "      <td>90.0</td>\n",
       "      <td>209625.0</td>\n",
       "    </tr>\n",
       "    <tr>\n",
       "      <th>1</th>\n",
       "      <td>01_One</td>\n",
       "      <td>1-3</td>\n",
       "      <td>1</td>\n",
       "      <td>5-48</td>\n",
       "      <td>31.0</td>\n",
       "      <td>92850.0</td>\n",
       "    </tr>\n",
       "    <tr>\n",
       "      <th>2</th>\n",
       "      <td>01_One</td>\n",
       "      <td>1-3</td>\n",
       "      <td>1</td>\n",
       "      <td>5-48</td>\n",
       "      <td>92.0</td>\n",
       "      <td>195187.5</td>\n",
       "    </tr>\n",
       "    <tr>\n",
       "      <th>3</th>\n",
       "      <td>01_One</td>\n",
       "      <td>1-3</td>\n",
       "      <td>1</td>\n",
       "      <td>48-744</td>\n",
       "      <td>29.0</td>\n",
       "      <td>162412.5</td>\n",
       "    </tr>\n",
       "    <tr>\n",
       "      <th>4</th>\n",
       "      <td>03_Three</td>\n",
       "      <td>5-16</td>\n",
       "      <td>3-24</td>\n",
       "      <td>1-4</td>\n",
       "      <td>84.0</td>\n",
       "      <td>447727.5</td>\n",
       "    </tr>\n",
       "    <tr>\n",
       "      <th>...</th>\n",
       "      <td>...</td>\n",
       "      <td>...</td>\n",
       "      <td>...</td>\n",
       "      <td>...</td>\n",
       "      <td>...</td>\n",
       "      <td>...</td>\n",
       "    </tr>\n",
       "    <tr>\n",
       "      <th>19467</th>\n",
       "      <td>01_One</td>\n",
       "      <td>1-3</td>\n",
       "      <td>1</td>\n",
       "      <td>1-4</td>\n",
       "      <td>42.0</td>\n",
       "      <td>128025.0</td>\n",
       "    </tr>\n",
       "    <tr>\n",
       "      <th>19468</th>\n",
       "      <td>02_Two</td>\n",
       "      <td>4</td>\n",
       "      <td>1</td>\n",
       "      <td>1-4</td>\n",
       "      <td>112.0</td>\n",
       "      <td>273262.5</td>\n",
       "    </tr>\n",
       "    <tr>\n",
       "      <th>19469</th>\n",
       "      <td>02_Two</td>\n",
       "      <td>5-16</td>\n",
       "      <td>2</td>\n",
       "      <td>1-4</td>\n",
       "      <td>117.0</td>\n",
       "      <td>293475.0</td>\n",
       "    </tr>\n",
       "    <tr>\n",
       "      <th>19470</th>\n",
       "      <td>01_One</td>\n",
       "      <td>1-3</td>\n",
       "      <td>1</td>\n",
       "      <td>1-4</td>\n",
       "      <td>75.0</td>\n",
       "      <td>122062.5</td>\n",
       "    </tr>\n",
       "    <tr>\n",
       "      <th>19471</th>\n",
       "      <td>01_One</td>\n",
       "      <td>1-3</td>\n",
       "      <td>1</td>\n",
       "      <td>1-4</td>\n",
       "      <td>73.0</td>\n",
       "      <td>209625.0</td>\n",
       "    </tr>\n",
       "  </tbody>\n",
       "</table>\n",
       "<p>19472 rows × 6 columns</p>\n",
       "</div>"
      ],
      "text/plain": [
       "      bedrooms_disc accommodates_disc beds_disc number_of_reviews_disc  \\\n",
       "0            01_One               1-3         1                 48-744   \n",
       "1            01_One               1-3         1                   5-48   \n",
       "2            01_One               1-3         1                   5-48   \n",
       "3            01_One               1-3         1                 48-744   \n",
       "4          03_Three              5-16      3-24                    1-4   \n",
       "...             ...               ...       ...                    ...   \n",
       "19467        01_One               1-3         1                    1-4   \n",
       "19468        02_Two                 4         1                    1-4   \n",
       "19469        02_Two              5-16         2                    1-4   \n",
       "19470        01_One               1-3         1                    1-4   \n",
       "19471        01_One               1-3         1                    1-4   \n",
       "\n",
       "       total_price  purchase_price  \n",
       "0             90.0        209625.0  \n",
       "1             31.0         92850.0  \n",
       "2             92.0        195187.5  \n",
       "3             29.0        162412.5  \n",
       "4             84.0        447727.5  \n",
       "...            ...             ...  \n",
       "19467         42.0        128025.0  \n",
       "19468        112.0        273262.5  \n",
       "19469        117.0        293475.0  \n",
       "19470         75.0        122062.5  \n",
       "19471         73.0        209625.0  \n",
       "\n",
       "[19472 rows x 6 columns]"
      ]
     },
     "execution_count": 125,
     "metadata": {},
     "output_type": "execute_result"
    }
   ],
   "source": [
    "metrics = ['total_price','purchase_price']\n",
    "dimensions = ['bedrooms_disc','accommodates_disc','beds_disc','number_of_reviews_disc']\n",
    "\n",
    "minicube_price = df[dimensions + metrics]\n",
    "minicube_price"
   ]
  },
  {
   "cell_type": "code",
   "execution_count": 126,
   "metadata": {},
   "outputs": [
    {
     "data": {
      "text/html": [
       "<div>\n",
       "<style scoped>\n",
       "    .dataframe tbody tr th:only-of-type {\n",
       "        vertical-align: middle;\n",
       "    }\n",
       "\n",
       "    .dataframe tbody tr th {\n",
       "        vertical-align: top;\n",
       "    }\n",
       "\n",
       "    .dataframe thead th {\n",
       "        text-align: right;\n",
       "    }\n",
       "</style>\n",
       "<table border=\"1\" class=\"dataframe\">\n",
       "  <thead>\n",
       "    <tr style=\"text-align: right;\">\n",
       "      <th></th>\n",
       "      <th>total_price</th>\n",
       "      <th>purchase_price</th>\n",
       "      <th>variable</th>\n",
       "      <th>value</th>\n",
       "    </tr>\n",
       "  </thead>\n",
       "  <tbody>\n",
       "    <tr>\n",
       "      <th>0</th>\n",
       "      <td>90.0</td>\n",
       "      <td>209625.0</td>\n",
       "      <td>bedrooms_disc</td>\n",
       "      <td>01_One</td>\n",
       "    </tr>\n",
       "    <tr>\n",
       "      <th>1</th>\n",
       "      <td>31.0</td>\n",
       "      <td>92850.0</td>\n",
       "      <td>bedrooms_disc</td>\n",
       "      <td>01_One</td>\n",
       "    </tr>\n",
       "    <tr>\n",
       "      <th>2</th>\n",
       "      <td>92.0</td>\n",
       "      <td>195187.5</td>\n",
       "      <td>bedrooms_disc</td>\n",
       "      <td>01_One</td>\n",
       "    </tr>\n",
       "    <tr>\n",
       "      <th>3</th>\n",
       "      <td>29.0</td>\n",
       "      <td>162412.5</td>\n",
       "      <td>bedrooms_disc</td>\n",
       "      <td>01_One</td>\n",
       "    </tr>\n",
       "    <tr>\n",
       "      <th>4</th>\n",
       "      <td>84.0</td>\n",
       "      <td>447727.5</td>\n",
       "      <td>bedrooms_disc</td>\n",
       "      <td>03_Three</td>\n",
       "    </tr>\n",
       "    <tr>\n",
       "      <th>...</th>\n",
       "      <td>...</td>\n",
       "      <td>...</td>\n",
       "      <td>...</td>\n",
       "      <td>...</td>\n",
       "    </tr>\n",
       "    <tr>\n",
       "      <th>77883</th>\n",
       "      <td>42.0</td>\n",
       "      <td>128025.0</td>\n",
       "      <td>number_of_reviews_disc</td>\n",
       "      <td>1-4</td>\n",
       "    </tr>\n",
       "    <tr>\n",
       "      <th>77884</th>\n",
       "      <td>112.0</td>\n",
       "      <td>273262.5</td>\n",
       "      <td>number_of_reviews_disc</td>\n",
       "      <td>1-4</td>\n",
       "    </tr>\n",
       "    <tr>\n",
       "      <th>77885</th>\n",
       "      <td>117.0</td>\n",
       "      <td>293475.0</td>\n",
       "      <td>number_of_reviews_disc</td>\n",
       "      <td>1-4</td>\n",
       "    </tr>\n",
       "    <tr>\n",
       "      <th>77886</th>\n",
       "      <td>75.0</td>\n",
       "      <td>122062.5</td>\n",
       "      <td>number_of_reviews_disc</td>\n",
       "      <td>1-4</td>\n",
       "    </tr>\n",
       "    <tr>\n",
       "      <th>77887</th>\n",
       "      <td>73.0</td>\n",
       "      <td>209625.0</td>\n",
       "      <td>number_of_reviews_disc</td>\n",
       "      <td>1-4</td>\n",
       "    </tr>\n",
       "  </tbody>\n",
       "</table>\n",
       "<p>77888 rows × 4 columns</p>\n",
       "</div>"
      ],
      "text/plain": [
       "       total_price  purchase_price                variable     value\n",
       "0             90.0        209625.0           bedrooms_disc    01_One\n",
       "1             31.0         92850.0           bedrooms_disc    01_One\n",
       "2             92.0        195187.5           bedrooms_disc    01_One\n",
       "3             29.0        162412.5           bedrooms_disc    01_One\n",
       "4             84.0        447727.5           bedrooms_disc  03_Three\n",
       "...            ...             ...                     ...       ...\n",
       "77883         42.0        128025.0  number_of_reviews_disc       1-4\n",
       "77884        112.0        273262.5  number_of_reviews_disc       1-4\n",
       "77885        117.0        293475.0  number_of_reviews_disc       1-4\n",
       "77886         75.0        122062.5  number_of_reviews_disc       1-4\n",
       "77887         73.0        209625.0  number_of_reviews_disc       1-4\n",
       "\n",
       "[77888 rows x 4 columns]"
      ]
     },
     "execution_count": 126,
     "metadata": {},
     "output_type": "execute_result"
    }
   ],
   "source": [
    "minicube_price = minicube_price.melt(id_vars=[\"total_price\",\"purchase_price\"])\n",
    "minicube_price"
   ]
  },
  {
   "cell_type": "code",
   "execution_count": 127,
   "metadata": {},
   "outputs": [
    {
     "data": {
      "text/html": [
       "<div>\n",
       "<style scoped>\n",
       "    .dataframe tbody tr th:only-of-type {\n",
       "        vertical-align: middle;\n",
       "    }\n",
       "\n",
       "    .dataframe tbody tr th {\n",
       "        vertical-align: top;\n",
       "    }\n",
       "\n",
       "    .dataframe thead th {\n",
       "        text-align: right;\n",
       "    }\n",
       "</style>\n",
       "<table border=\"1\" class=\"dataframe\">\n",
       "  <thead>\n",
       "    <tr style=\"text-align: right;\">\n",
       "      <th></th>\n",
       "      <th></th>\n",
       "      <th>total_price</th>\n",
       "      <th>purchase_price</th>\n",
       "    </tr>\n",
       "    <tr>\n",
       "      <th>variable</th>\n",
       "      <th>value</th>\n",
       "      <th></th>\n",
       "      <th></th>\n",
       "    </tr>\n",
       "  </thead>\n",
       "  <tbody>\n",
       "    <tr>\n",
       "      <th rowspan=\"3\" valign=\"top\">accommodates_disc</th>\n",
       "      <th>1-3</th>\n",
       "      <td>63.0</td>\n",
       "      <td>195187.5</td>\n",
       "    </tr>\n",
       "    <tr>\n",
       "      <th>4</th>\n",
       "      <td>104.0</td>\n",
       "      <td>195187.5</td>\n",
       "    </tr>\n",
       "    <tr>\n",
       "      <th>5-16</th>\n",
       "      <td>156.0</td>\n",
       "      <td>273262.5</td>\n",
       "    </tr>\n",
       "    <tr>\n",
       "      <th rowspan=\"4\" valign=\"top\">bedrooms_disc</th>\n",
       "      <th>01_One</th>\n",
       "      <td>70.0</td>\n",
       "      <td>195187.5</td>\n",
       "    </tr>\n",
       "    <tr>\n",
       "      <th>02_Two</th>\n",
       "      <td>123.0</td>\n",
       "      <td>273262.5</td>\n",
       "    </tr>\n",
       "    <tr>\n",
       "      <th>03_Three</th>\n",
       "      <td>170.0</td>\n",
       "      <td>351337.5</td>\n",
       "    </tr>\n",
       "    <tr>\n",
       "      <th>04_Four or more</th>\n",
       "      <td>250.0</td>\n",
       "      <td>468450.0</td>\n",
       "    </tr>\n",
       "    <tr>\n",
       "      <th rowspan=\"3\" valign=\"top\">beds_disc</th>\n",
       "      <th>1</th>\n",
       "      <td>73.0</td>\n",
       "      <td>195187.5</td>\n",
       "    </tr>\n",
       "    <tr>\n",
       "      <th>2</th>\n",
       "      <td>126.0</td>\n",
       "      <td>273262.5</td>\n",
       "    </tr>\n",
       "    <tr>\n",
       "      <th>3-24</th>\n",
       "      <td>170.0</td>\n",
       "      <td>292342.5</td>\n",
       "    </tr>\n",
       "    <tr>\n",
       "      <th rowspan=\"3\" valign=\"top\">number_of_reviews_disc</th>\n",
       "      <th>1-4</th>\n",
       "      <td>88.0</td>\n",
       "      <td>195187.5</td>\n",
       "    </tr>\n",
       "    <tr>\n",
       "      <th>48-744</th>\n",
       "      <td>85.0</td>\n",
       "      <td>195187.5</td>\n",
       "    </tr>\n",
       "    <tr>\n",
       "      <th>5-48</th>\n",
       "      <td>86.0</td>\n",
       "      <td>195187.5</td>\n",
       "    </tr>\n",
       "  </tbody>\n",
       "</table>\n",
       "</div>"
      ],
      "text/plain": [
       "                                        total_price  purchase_price\n",
       "variable               value                                       \n",
       "accommodates_disc      1-3                     63.0        195187.5\n",
       "                       4                      104.0        195187.5\n",
       "                       5-16                   156.0        273262.5\n",
       "bedrooms_disc          01_One                  70.0        195187.5\n",
       "                       02_Two                 123.0        273262.5\n",
       "                       03_Three               170.0        351337.5\n",
       "                       04_Four or more        250.0        468450.0\n",
       "beds_disc              1                       73.0        195187.5\n",
       "                       2                      126.0        273262.5\n",
       "                       3-24                   170.0        292342.5\n",
       "number_of_reviews_disc 1-4                     88.0        195187.5\n",
       "                       48-744                  85.0        195187.5\n",
       "                       5-48                    86.0        195187.5"
      ]
     },
     "execution_count": 127,
     "metadata": {},
     "output_type": "execute_result"
    }
   ],
   "source": [
    "minicube_price = minicube_price.groupby([\"variable\",\"value\"])[[\"total_price\",\"purchase_price\"]].agg(\"median\")\n",
    "minicube_price"
   ]
  },
  {
   "attachments": {},
   "cell_type": "markdown",
   "metadata": {},
   "source": [
    "The price is ready to be analysed by the different relevant dimensions. \n",
    "\n",
    "Let's start with bedrooms_disc."
   ]
  },
  {
   "cell_type": "code",
   "execution_count": 128,
   "metadata": {},
   "outputs": [
    {
     "data": {
      "text/html": [
       "<div>\n",
       "<style scoped>\n",
       "    .dataframe tbody tr th:only-of-type {\n",
       "        vertical-align: middle;\n",
       "    }\n",
       "\n",
       "    .dataframe tbody tr th {\n",
       "        vertical-align: top;\n",
       "    }\n",
       "\n",
       "    .dataframe thead th {\n",
       "        text-align: right;\n",
       "    }\n",
       "</style>\n",
       "<table border=\"1\" class=\"dataframe\">\n",
       "  <thead>\n",
       "    <tr style=\"text-align: right;\">\n",
       "      <th></th>\n",
       "      <th>total_price</th>\n",
       "      <th>purchase_price</th>\n",
       "    </tr>\n",
       "    <tr>\n",
       "      <th>value</th>\n",
       "      <th></th>\n",
       "      <th></th>\n",
       "    </tr>\n",
       "  </thead>\n",
       "  <tbody>\n",
       "    <tr>\n",
       "      <th>01_One</th>\n",
       "      <td>70.0</td>\n",
       "      <td>195187.5</td>\n",
       "    </tr>\n",
       "    <tr>\n",
       "      <th>02_Two</th>\n",
       "      <td>123.0</td>\n",
       "      <td>273262.5</td>\n",
       "    </tr>\n",
       "    <tr>\n",
       "      <th>03_Three</th>\n",
       "      <td>170.0</td>\n",
       "      <td>351337.5</td>\n",
       "    </tr>\n",
       "    <tr>\n",
       "      <th>04_Four or more</th>\n",
       "      <td>250.0</td>\n",
       "      <td>468450.0</td>\n",
       "    </tr>\n",
       "  </tbody>\n",
       "</table>\n",
       "</div>"
      ],
      "text/plain": [
       "                 total_price  purchase_price\n",
       "value                                       \n",
       "01_One                  70.0        195187.5\n",
       "02_Two                 123.0        273262.5\n",
       "03_Three               170.0        351337.5\n",
       "04_Four or more        250.0        468450.0"
      ]
     },
     "execution_count": 128,
     "metadata": {},
     "output_type": "execute_result"
    }
   ],
   "source": [
    "minicube_price.loc[\"bedrooms_disc\"]"
   ]
  },
  {
   "cell_type": "code",
   "execution_count": 129,
   "metadata": {},
   "outputs": [
    {
     "data": {
      "image/png": "[encoded data removed]",
      "text/plain": [
       "<Figure size 576x360 with 2 Axes>"
      ]
     },
     "metadata": {
      "needs_background": "light"
     },
     "output_type": "display_data"
    }
   ],
   "source": [
    "f, ax = plt.subplots(figsize=(8,5))\n",
    "ax.plot(minicube_price.loc['bedrooms_disc'][\"total_price\"], label=\"Renting price\")\n",
    "ax2 = ax.twinx()\n",
    "ax2.plot(minicube_price.loc['bedrooms_disc'][\"purchase_price\"], color =\"g\", label=\"Purchase price\")\n",
    "ax2.legend();"
   ]
  },
  {
   "attachments": {},
   "cell_type": "markdown",
   "metadata": {},
   "source": [
    "Regarding the number of bedrooms there is nothing to highlight.\n",
    "\n",
    "The more bedrooms the more expensive it is to rent and to buy the property."
   ]
  },
  {
   "attachments": {},
   "cell_type": "markdown",
   "metadata": {},
   "source": [
    "Let's see with the number of beds."
   ]
  },
  {
   "cell_type": "code",
   "execution_count": 130,
   "metadata": {},
   "outputs": [
    {
     "data": {
      "text/html": [
       "<div>\n",
       "<style scoped>\n",
       "    .dataframe tbody tr th:only-of-type {\n",
       "        vertical-align: middle;\n",
       "    }\n",
       "\n",
       "    .dataframe tbody tr th {\n",
       "        vertical-align: top;\n",
       "    }\n",
       "\n",
       "    .dataframe thead th {\n",
       "        text-align: right;\n",
       "    }\n",
       "</style>\n",
       "<table border=\"1\" class=\"dataframe\">\n",
       "  <thead>\n",
       "    <tr style=\"text-align: right;\">\n",
       "      <th></th>\n",
       "      <th>total_price</th>\n",
       "      <th>purchase_price</th>\n",
       "    </tr>\n",
       "    <tr>\n",
       "      <th>value</th>\n",
       "      <th></th>\n",
       "      <th></th>\n",
       "    </tr>\n",
       "  </thead>\n",
       "  <tbody>\n",
       "    <tr>\n",
       "      <th>1</th>\n",
       "      <td>73.0</td>\n",
       "      <td>195187.5</td>\n",
       "    </tr>\n",
       "    <tr>\n",
       "      <th>2</th>\n",
       "      <td>126.0</td>\n",
       "      <td>273262.5</td>\n",
       "    </tr>\n",
       "    <tr>\n",
       "      <th>3-24</th>\n",
       "      <td>170.0</td>\n",
       "      <td>292342.5</td>\n",
       "    </tr>\n",
       "  </tbody>\n",
       "</table>\n",
       "</div>"
      ],
      "text/plain": [
       "       total_price  purchase_price\n",
       "value                             \n",
       "1             73.0        195187.5\n",
       "2            126.0        273262.5\n",
       "3-24         170.0        292342.5"
      ]
     },
     "execution_count": 130,
     "metadata": {},
     "output_type": "execute_result"
    }
   ],
   "source": [
    "minicube_price.loc[\"beds_disc\"]"
   ]
  },
  {
   "cell_type": "code",
   "execution_count": 131,
   "metadata": {},
   "outputs": [
    {
     "data": {
      "image/png": "[encoded data removed]",
      "text/plain": [
       "<Figure size 576x360 with 2 Axes>"
      ]
     },
     "metadata": {
      "needs_background": "light"
     },
     "output_type": "display_data"
    }
   ],
   "source": [
    "f, ax = plt.subplots(figsize=(8,5))\n",
    "ax.plot(minicube_price.loc['beds_disc'][\"total_price\"], label=\"Renting price\")\n",
    "ax2 = ax.twinx()\n",
    "ax2.plot(minicube_price.loc['beds_disc'][\"purchase_price\"], color =\"g\", label=\"Purchase price\")\n",
    "ax2.legend(loc=4);"
   ]
  },
  {
   "attachments": {},
   "cell_type": "markdown",
   "metadata": {},
   "source": [
    "Here is a clear conclusion:\n",
    "\n",
    "**Insight 3: we should avoid 2 beds.** Either we put 1 bed or we try to fit as many as possible.\n",
    "\n",
    "Since this effect was not visible with the number of bedrooms, maybe the property owners are trying to put as many beds as possible.\n",
    "\n",
    "Let's see what is going on with properties with 1 bedroom."
   ]
  },
  {
   "cell_type": "code",
   "execution_count": 132,
   "metadata": {},
   "outputs": [
    {
     "data": {
      "image/png": "[encoded data removed]",
      "text/plain": [
       "<Figure size 432x288 with 1 Axes>"
      ]
     },
     "metadata": {
      "needs_background": "light"
     },
     "output_type": "display_data"
    }
   ],
   "source": [
    "df[df[\"bedrooms\"] == 1].groupby(\"beds\")[\"total_price\"].median().plot();"
   ]
  },
  {
   "attachments": {},
   "cell_type": "markdown",
   "metadata": {},
   "source": [
    "There are 1 bedroom properties with many beds, up to 40. Of course these high numbers might belong to some special building or hostel.\n",
    "\n",
    "This is a topic we should discuss with someone with more knowledge about the business."
   ]
  },
  {
   "attachments": {},
   "cell_type": "markdown",
   "metadata": {},
   "source": [
    "Let's analyse the number of accommodates."
   ]
  },
  {
   "cell_type": "code",
   "execution_count": 133,
   "metadata": {},
   "outputs": [
    {
     "data": {
      "text/html": [
       "<div>\n",
       "<style scoped>\n",
       "    .dataframe tbody tr th:only-of-type {\n",
       "        vertical-align: middle;\n",
       "    }\n",
       "\n",
       "    .dataframe tbody tr th {\n",
       "        vertical-align: top;\n",
       "    }\n",
       "\n",
       "    .dataframe thead th {\n",
       "        text-align: right;\n",
       "    }\n",
       "</style>\n",
       "<table border=\"1\" class=\"dataframe\">\n",
       "  <thead>\n",
       "    <tr style=\"text-align: right;\">\n",
       "      <th></th>\n",
       "      <th>total_price</th>\n",
       "      <th>purchase_price</th>\n",
       "    </tr>\n",
       "    <tr>\n",
       "      <th>value</th>\n",
       "      <th></th>\n",
       "      <th></th>\n",
       "    </tr>\n",
       "  </thead>\n",
       "  <tbody>\n",
       "    <tr>\n",
       "      <th>1-3</th>\n",
       "      <td>63.0</td>\n",
       "      <td>195187.5</td>\n",
       "    </tr>\n",
       "    <tr>\n",
       "      <th>4</th>\n",
       "      <td>104.0</td>\n",
       "      <td>195187.5</td>\n",
       "    </tr>\n",
       "    <tr>\n",
       "      <th>5-16</th>\n",
       "      <td>156.0</td>\n",
       "      <td>273262.5</td>\n",
       "    </tr>\n",
       "  </tbody>\n",
       "</table>\n",
       "</div>"
      ],
      "text/plain": [
       "       total_price  purchase_price\n",
       "value                             \n",
       "1-3           63.0        195187.5\n",
       "4            104.0        195187.5\n",
       "5-16         156.0        273262.5"
      ]
     },
     "execution_count": 133,
     "metadata": {},
     "output_type": "execute_result"
    }
   ],
   "source": [
    "minicube_price.loc[\"accommodates_disc\"]"
   ]
  },
  {
   "cell_type": "code",
   "execution_count": 134,
   "metadata": {},
   "outputs": [
    {
     "data": {
      "image/png": "[encoded data removed]",
      "text/plain": [
       "<Figure size 576x360 with 2 Axes>"
      ]
     },
     "metadata": {
      "needs_background": "light"
     },
     "output_type": "display_data"
    }
   ],
   "source": [
    "f, ax = plt.subplots(figsize=(8,5))\n",
    "ax.plot(minicube_price.loc['accommodates_disc'][\"total_price\"], label=\"Renting price\")\n",
    "ax2 = ax.twinx()\n",
    "ax2.plot(minicube_price.loc['accommodates_disc'][\"purchase_price\"], color =\"g\", label=\"Purchase price\")\n",
    "ax2.legend(loc=4);"
   ]
  },
  {
   "attachments": {},
   "cell_type": "markdown",
   "metadata": {},
   "source": [
    "**Insight 4: the optimum number of accommodates is 4, because the property price for hosting 4 people is the same as for hosting 1, 2 or 3 people. From 5 people the property needs to be larger and the purchase price considerably increases.**"
   ]
  },
  {
   "attachments": {},
   "cell_type": "markdown",
   "metadata": {},
   "source": [
    "Let's analyse now the distance variable to Puerta del Sol and how it influences the renting and purchase price."
   ]
  },
  {
   "cell_type": "code",
   "execution_count": 135,
   "metadata": {},
   "outputs": [
    {
     "data": {
      "text/plain": [
       "neighbourhood_group\n",
       "Centro                    0.717885\n",
       "Arganzuela                1.799559\n",
       "Moncloa - Aravaca         2.039764\n",
       "Chamberí                  2.066546\n",
       "Retiro                    2.425713\n",
       "Salamanca                 2.726696\n",
       "Latina                    3.357823\n",
       "Carabanchel               3.622128\n",
       "Usera                     3.659065\n",
       "Puente de Vallecas        4.209178\n",
       "Chamartín                 4.209356\n",
       "Tetuán                    4.573343\n",
       "Moratalaz                 4.988318\n",
       "Ciudad Lineal             5.223777\n",
       "Villaverde                7.636224\n",
       "Fuencarral - El Pardo     7.705474\n",
       "San Blas - Canillejas     8.000888\n",
       "Hortaleza                 8.043008\n",
       "Vicálvaro                 8.613504\n",
       "Villa de Vallecas         8.744664\n",
       "Barajas                  11.581542\n",
       "Name: distance_center, dtype: float64"
      ]
     },
     "execution_count": 135,
     "metadata": {},
     "output_type": "execute_result"
    }
   ],
   "source": [
    "df.groupby(\"neighbourhood_group\")[\"distance_center\"].agg(\"median\").sort_values()"
   ]
  },
  {
   "attachments": {},
   "cell_type": "markdown",
   "metadata": {},
   "source": [
    "We are going to keep the first 7 neighbourhood groups (up to Latina)."
   ]
  },
  {
   "cell_type": "code",
   "execution_count": 136,
   "metadata": {},
   "outputs": [
    {
     "data": {
      "text/plain": [
       "neighbourhood_group\n",
       "Centro               0.717885\n",
       "Arganzuela           1.799559\n",
       "Moncloa - Aravaca    2.039764\n",
       "Chamberí             2.066546\n",
       "Retiro               2.425713\n",
       "Salamanca            2.726696\n",
       "Latina               3.357823\n",
       "Name: distance_center, dtype: float64"
      ]
     },
     "execution_count": 136,
     "metadata": {},
     "output_type": "execute_result"
    }
   ],
   "source": [
    "df.groupby(\"neighbourhood_group\")[\"distance_center\"].agg(\"median\").sort_values()[0:7]"
   ]
  },
  {
   "cell_type": "code",
   "execution_count": 137,
   "metadata": {},
   "outputs": [
    {
     "data": {
      "image/png": "[encoded data removed]",
      "text/plain": [
       "<Figure size 1152x864 with 1 Axes>"
      ]
     },
     "metadata": {
      "needs_background": "light"
     },
     "output_type": "display_data"
    }
   ],
   "source": [
    "seleccion = df.groupby(\"neighbourhood_group\")[\"distance_center\"].median().sort_values()[0:7].index.to_list()\n",
    "\n",
    "plt.figure(figsize = (16,12))\n",
    "sns.scatterplot(data = df.loc[df[\"neighbourhood_group\"].isin(seleccion)], x = \"distance_center\", y = \"total_price\");"
   ]
  },
  {
   "attachments": {},
   "cell_type": "markdown",
   "metadata": {},
   "source": [
    "Apart from the outliers that refer to prices higher than 20.000€, there is no a clear relantionship between the distance to the city center and the renting price.\n",
    "\n",
    "**Insight 5: being close to the city center does not have a big influence on the renting price. This opens the door to look for properties in a centric neighbourhood but not next to the city center and we can expect a lower purchase price.**"
   ]
  },
  {
   "attachments": {},
   "cell_type": "markdown",
   "metadata": {},
   "source": [
    "### Availability analysis"
   ]
  },
  {
   "attachments": {},
   "cell_type": "markdown",
   "metadata": {},
   "source": [
    "**What is the mean availability? What is the variation among the different districts?**\n",
    "\n",
    "**What is the average availability ranking for the different districts and neighbourhoods?**"
   ]
  },
  {
   "cell_type": "code",
   "execution_count": 138,
   "metadata": {},
   "outputs": [
    {
     "data": {
      "text/plain": [
       "count    19472.000000\n",
       "mean        53.158279\n",
       "std         38.603002\n",
       "min          0.000000\n",
       "25%         10.000000\n",
       "50%         56.000000\n",
       "75%         94.000000\n",
       "max        100.000000\n",
       "Name: occupancy_rate, dtype: float64"
      ]
     },
     "execution_count": 138,
     "metadata": {},
     "output_type": "execute_result"
    }
   ],
   "source": [
    "df[\"occupancy_rate\"].describe()"
   ]
  },
  {
   "attachments": {},
   "cell_type": "markdown",
   "metadata": {},
   "source": [
    "The mean occupancy rate is 53% of the year."
   ]
  },
  {
   "cell_type": "code",
   "execution_count": 139,
   "metadata": {},
   "outputs": [
    {
     "data": {
      "text/plain": [
       "neighbourhood_group\n",
       "Arganzuela               61.749511\n",
       "Moncloa - Aravaca        57.932862\n",
       "Chamberí                 55.862191\n",
       "Retiro                   55.680282\n",
       "Chamartín                55.460481\n",
       "Latina                   54.173196\n",
       "Barajas                  53.968153\n",
       "Salamanca                53.408989\n",
       "Ciudad Lineal            53.329372\n",
       "Villaverde               53.136691\n",
       "Centro                   52.908531\n",
       "Moratalaz                52.702970\n",
       "Hortaleza                51.207547\n",
       "Fuencarral - El Pardo    50.630350\n",
       "Tetuán                   50.456803\n",
       "San Blas - Canillejas    49.494600\n",
       "Carabanchel              48.147103\n",
       "Villa de Vallecas        47.333333\n",
       "Vicálvaro                47.266667\n",
       "Usera                    45.842900\n",
       "Puente de Vallecas       44.934132\n",
       "Name: occupancy_rate, dtype: float64"
      ]
     },
     "execution_count": 139,
     "metadata": {},
     "output_type": "execute_result"
    }
   ],
   "source": [
    "df.groupby(\"neighbourhood_group\")[\"occupancy_rate\"].mean().sort_values(ascending=False)"
   ]
  },
  {
   "cell_type": "code",
   "execution_count": 140,
   "metadata": {},
   "outputs": [
    {
     "data": {
      "image/png": "[encoded data removed]",
      "text/plain": [
       "<Figure size 432x288 with 1 Axes>"
      ]
     },
     "metadata": {
      "needs_background": "light"
     },
     "output_type": "display_data"
    }
   ],
   "source": [
    "df.groupby(\"neighbourhood_group\")[\"occupancy_rate\"].mean().sort_values(ascending=False).plot(kind=\"bar\");"
   ]
  },
  {
   "attachments": {},
   "cell_type": "markdown",
   "metadata": {},
   "source": [
    "The largest demand is for Arganzuela, but there is nothing to highlight from here.\n",
    "\n",
    "**What other factors determine the availability?**"
   ]
  },
  {
   "cell_type": "code",
   "execution_count": 141,
   "metadata": {},
   "outputs": [
    {
     "data": {
      "text/html": [
       "<div>\n",
       "<style scoped>\n",
       "    .dataframe tbody tr th:only-of-type {\n",
       "        vertical-align: middle;\n",
       "    }\n",
       "\n",
       "    .dataframe tbody tr th {\n",
       "        vertical-align: top;\n",
       "    }\n",
       "\n",
       "    .dataframe thead th {\n",
       "        text-align: right;\n",
       "    }\n",
       "</style>\n",
       "<table border=\"1\" class=\"dataframe\">\n",
       "  <thead>\n",
       "    <tr style=\"text-align: right;\">\n",
       "      <th></th>\n",
       "      <th></th>\n",
       "      <th>occupancy_rate</th>\n",
       "    </tr>\n",
       "    <tr>\n",
       "      <th>variable</th>\n",
       "      <th>value</th>\n",
       "      <th></th>\n",
       "    </tr>\n",
       "  </thead>\n",
       "  <tbody>\n",
       "    <tr>\n",
       "      <th rowspan=\"3\" valign=\"top\">accommodates_disc</th>\n",
       "      <th>1-3</th>\n",
       "      <td>55.643044</td>\n",
       "    </tr>\n",
       "    <tr>\n",
       "      <th>4</th>\n",
       "      <td>50.028479</td>\n",
       "    </tr>\n",
       "    <tr>\n",
       "      <th>5-16</th>\n",
       "      <td>48.970457</td>\n",
       "    </tr>\n",
       "    <tr>\n",
       "      <th rowspan=\"4\" valign=\"top\">bedrooms_disc</th>\n",
       "      <th>01_One</th>\n",
       "      <td>53.834514</td>\n",
       "    </tr>\n",
       "    <tr>\n",
       "      <th>02_Two</th>\n",
       "      <td>52.329186</td>\n",
       "    </tr>\n",
       "    <tr>\n",
       "      <th>03_Three</th>\n",
       "      <td>50.604651</td>\n",
       "    </tr>\n",
       "    <tr>\n",
       "      <th>04_Four or more</th>\n",
       "      <td>48.554167</td>\n",
       "    </tr>\n",
       "    <tr>\n",
       "      <th rowspan=\"3\" valign=\"top\">beds_disc</th>\n",
       "      <th>1</th>\n",
       "      <td>54.051404</td>\n",
       "    </tr>\n",
       "    <tr>\n",
       "      <th>2</th>\n",
       "      <td>51.727820</td>\n",
       "    </tr>\n",
       "    <tr>\n",
       "      <th>3-24</th>\n",
       "      <td>48.948989</td>\n",
       "    </tr>\n",
       "    <tr>\n",
       "      <th rowspan=\"3\" valign=\"top\">number_of_reviews_disc</th>\n",
       "      <th>1-4</th>\n",
       "      <td>54.342124</td>\n",
       "    </tr>\n",
       "    <tr>\n",
       "      <th>48-744</th>\n",
       "      <td>54.623457</td>\n",
       "    </tr>\n",
       "    <tr>\n",
       "      <th>5-48</th>\n",
       "      <td>50.096360</td>\n",
       "    </tr>\n",
       "  </tbody>\n",
       "</table>\n",
       "</div>"
      ],
      "text/plain": [
       "                                        occupancy_rate\n",
       "variable               value                          \n",
       "accommodates_disc      1-3                   55.643044\n",
       "                       4                     50.028479\n",
       "                       5-16                  48.970457\n",
       "bedrooms_disc          01_One                53.834514\n",
       "                       02_Two                52.329186\n",
       "                       03_Three              50.604651\n",
       "                       04_Four or more       48.554167\n",
       "beds_disc              1                     54.051404\n",
       "                       2                     51.727820\n",
       "                       3-24                  48.948989\n",
       "number_of_reviews_disc 1-4                   54.342124\n",
       "                       48-744                54.623457\n",
       "                       5-48                  50.096360"
      ]
     },
     "execution_count": 141,
     "metadata": {},
     "output_type": "execute_result"
    }
   ],
   "source": [
    "metrics = [\"occupancy_rate\"]\n",
    "dimensions = ['bedrooms_disc','accommodates_disc','beds_disc','number_of_reviews_disc']\n",
    "minicube_price = df[dimensions + metrics]\n",
    "\n",
    "minicube_price = minicube_price.melt(id_vars=[\"occupancy_rate\"])\n",
    "minicube_price = minicube_price.groupby([\"variable\",\"value\"])[[\"occupancy_rate\"]].agg(\"mean\")\n",
    "minicube_price"
   ]
  },
  {
   "attachments": {},
   "cell_type": "markdown",
   "metadata": {},
   "source": [
    "Let's analyse by bedrooms."
   ]
  },
  {
   "cell_type": "code",
   "execution_count": 142,
   "metadata": {},
   "outputs": [
    {
     "data": {
      "text/html": [
       "<div>\n",
       "<style scoped>\n",
       "    .dataframe tbody tr th:only-of-type {\n",
       "        vertical-align: middle;\n",
       "    }\n",
       "\n",
       "    .dataframe tbody tr th {\n",
       "        vertical-align: top;\n",
       "    }\n",
       "\n",
       "    .dataframe thead th {\n",
       "        text-align: right;\n",
       "    }\n",
       "</style>\n",
       "<table border=\"1\" class=\"dataframe\">\n",
       "  <thead>\n",
       "    <tr style=\"text-align: right;\">\n",
       "      <th></th>\n",
       "      <th>occupancy_rate</th>\n",
       "    </tr>\n",
       "    <tr>\n",
       "      <th>value</th>\n",
       "      <th></th>\n",
       "    </tr>\n",
       "  </thead>\n",
       "  <tbody>\n",
       "    <tr>\n",
       "      <th>01_One</th>\n",
       "      <td>53.834514</td>\n",
       "    </tr>\n",
       "    <tr>\n",
       "      <th>02_Two</th>\n",
       "      <td>52.329186</td>\n",
       "    </tr>\n",
       "    <tr>\n",
       "      <th>03_Three</th>\n",
       "      <td>50.604651</td>\n",
       "    </tr>\n",
       "    <tr>\n",
       "      <th>04_Four or more</th>\n",
       "      <td>48.554167</td>\n",
       "    </tr>\n",
       "  </tbody>\n",
       "</table>\n",
       "</div>"
      ],
      "text/plain": [
       "                 occupancy_rate\n",
       "value                          \n",
       "01_One                53.834514\n",
       "02_Two                52.329186\n",
       "03_Three              50.604651\n",
       "04_Four or more       48.554167"
      ]
     },
     "execution_count": 142,
     "metadata": {},
     "output_type": "execute_result"
    }
   ],
   "source": [
    "minicube_price.loc[\"bedrooms_disc\"]"
   ]
  },
  {
   "cell_type": "code",
   "execution_count": 143,
   "metadata": {},
   "outputs": [
    {
     "data": {
      "image/png": "[encoded data removed]",
      "text/plain": [
       "<Figure size 432x288 with 1 Axes>"
      ]
     },
     "metadata": {
      "needs_background": "light"
     },
     "output_type": "display_data"
    }
   ],
   "source": [
    "minicube_price.loc[\"bedrooms_disc\"].plot();"
   ]
  },
  {
   "attachments": {},
   "cell_type": "markdown",
   "metadata": {},
   "source": [
    "One bedroom properties are the most demanded ones. Probably that might be because one bedroom apartments have the lowest renting prices, so people prefer renting small apartments even if there are more tenants than allowed accommodates. \n",
    "\n",
    "Let's see if that's true."
   ]
  },
  {
   "cell_type": "code",
   "execution_count": 144,
   "metadata": {},
   "outputs": [
    {
     "data": {
      "text/html": [
       "<div>\n",
       "<style scoped>\n",
       "    .dataframe tbody tr th:only-of-type {\n",
       "        vertical-align: middle;\n",
       "    }\n",
       "\n",
       "    .dataframe tbody tr th {\n",
       "        vertical-align: top;\n",
       "    }\n",
       "\n",
       "    .dataframe thead th {\n",
       "        text-align: right;\n",
       "    }\n",
       "</style>\n",
       "<table border=\"1\" class=\"dataframe\">\n",
       "  <thead>\n",
       "    <tr style=\"text-align: right;\">\n",
       "      <th></th>\n",
       "      <th>occupancy_rate</th>\n",
       "    </tr>\n",
       "    <tr>\n",
       "      <th>value</th>\n",
       "      <th></th>\n",
       "    </tr>\n",
       "  </thead>\n",
       "  <tbody>\n",
       "    <tr>\n",
       "      <th>1-3</th>\n",
       "      <td>55.643044</td>\n",
       "    </tr>\n",
       "    <tr>\n",
       "      <th>4</th>\n",
       "      <td>50.028479</td>\n",
       "    </tr>\n",
       "    <tr>\n",
       "      <th>5-16</th>\n",
       "      <td>48.970457</td>\n",
       "    </tr>\n",
       "  </tbody>\n",
       "</table>\n",
       "</div>"
      ],
      "text/plain": [
       "       occupancy_rate\n",
       "value                \n",
       "1-3         55.643044\n",
       "4           50.028479\n",
       "5-16        48.970457"
      ]
     },
     "execution_count": 144,
     "metadata": {},
     "output_type": "execute_result"
    }
   ],
   "source": [
    "minicube_price.loc[\"accommodates_disc\"]"
   ]
  },
  {
   "cell_type": "code",
   "execution_count": 145,
   "metadata": {},
   "outputs": [
    {
     "data": {
      "image/png": "[encoded data removed]",
      "text/plain": [
       "<Figure size 432x288 with 1 Axes>"
      ]
     },
     "metadata": {
      "needs_background": "light"
     },
     "output_type": "display_data"
    }
   ],
   "source": [
    "minicube_price.loc[\"accommodates_disc\"].plot();"
   ]
  },
  {
   "attachments": {},
   "cell_type": "markdown",
   "metadata": {},
   "source": [
    "Indeed the most demanded properties are the ones for less accommodates. Then for 5-16 accommodates are the least demanded, but their renting price is also higher.\n",
    "\n",
    "**Insight 6: the market demands smaller apartments that can fit up to 3 guests.**"
   ]
  },
  {
   "attachments": {},
   "cell_type": "markdown",
   "metadata": {},
   "source": [
    "Is there anything relevant for the number of beds?"
   ]
  },
  {
   "cell_type": "code",
   "execution_count": 146,
   "metadata": {},
   "outputs": [
    {
     "data": {
      "text/html": [
       "<div>\n",
       "<style scoped>\n",
       "    .dataframe tbody tr th:only-of-type {\n",
       "        vertical-align: middle;\n",
       "    }\n",
       "\n",
       "    .dataframe tbody tr th {\n",
       "        vertical-align: top;\n",
       "    }\n",
       "\n",
       "    .dataframe thead th {\n",
       "        text-align: right;\n",
       "    }\n",
       "</style>\n",
       "<table border=\"1\" class=\"dataframe\">\n",
       "  <thead>\n",
       "    <tr style=\"text-align: right;\">\n",
       "      <th></th>\n",
       "      <th>occupancy_rate</th>\n",
       "    </tr>\n",
       "    <tr>\n",
       "      <th>value</th>\n",
       "      <th></th>\n",
       "    </tr>\n",
       "  </thead>\n",
       "  <tbody>\n",
       "    <tr>\n",
       "      <th>1</th>\n",
       "      <td>54.051404</td>\n",
       "    </tr>\n",
       "    <tr>\n",
       "      <th>2</th>\n",
       "      <td>51.727820</td>\n",
       "    </tr>\n",
       "    <tr>\n",
       "      <th>3-24</th>\n",
       "      <td>48.948989</td>\n",
       "    </tr>\n",
       "  </tbody>\n",
       "</table>\n",
       "</div>"
      ],
      "text/plain": [
       "       occupancy_rate\n",
       "value                \n",
       "1           54.051404\n",
       "2           51.727820\n",
       "3-24        48.948989"
      ]
     },
     "execution_count": 146,
     "metadata": {},
     "output_type": "execute_result"
    }
   ],
   "source": [
    "minicube_price.loc[\"beds_disc\"]"
   ]
  },
  {
   "cell_type": "code",
   "execution_count": 147,
   "metadata": {},
   "outputs": [
    {
     "data": {
      "image/png": "[encoded data removed]",
      "text/plain": [
       "<Figure size 432x288 with 1 Axes>"
      ]
     },
     "metadata": {
      "needs_background": "light"
     },
     "output_type": "display_data"
    }
   ],
   "source": [
    "minicube_price.loc[\"beds_disc\"].plot();"
   ]
  },
  {
   "attachments": {},
   "cell_type": "markdown",
   "metadata": {},
   "source": [
    "This reinforces insight 6. One bed properties are more demanded than with more beds."
   ]
  },
  {
   "attachments": {},
   "cell_type": "markdown",
   "metadata": {},
   "source": [
    "Let's see if there is any relationship with the number of reviews:"
   ]
  },
  {
   "cell_type": "code",
   "execution_count": 148,
   "metadata": {},
   "outputs": [
    {
     "data": {
      "text/html": [
       "<div>\n",
       "<style scoped>\n",
       "    .dataframe tbody tr th:only-of-type {\n",
       "        vertical-align: middle;\n",
       "    }\n",
       "\n",
       "    .dataframe tbody tr th {\n",
       "        vertical-align: top;\n",
       "    }\n",
       "\n",
       "    .dataframe thead th {\n",
       "        text-align: right;\n",
       "    }\n",
       "</style>\n",
       "<table border=\"1\" class=\"dataframe\">\n",
       "  <thead>\n",
       "    <tr style=\"text-align: right;\">\n",
       "      <th></th>\n",
       "      <th>occupancy_rate</th>\n",
       "    </tr>\n",
       "    <tr>\n",
       "      <th>value</th>\n",
       "      <th></th>\n",
       "    </tr>\n",
       "  </thead>\n",
       "  <tbody>\n",
       "    <tr>\n",
       "      <th>1-4</th>\n",
       "      <td>54.342124</td>\n",
       "    </tr>\n",
       "    <tr>\n",
       "      <th>48-744</th>\n",
       "      <td>54.623457</td>\n",
       "    </tr>\n",
       "    <tr>\n",
       "      <th>5-48</th>\n",
       "      <td>50.096360</td>\n",
       "    </tr>\n",
       "  </tbody>\n",
       "</table>\n",
       "</div>"
      ],
      "text/plain": [
       "        occupancy_rate\n",
       "value                 \n",
       "1-4          54.342124\n",
       "48-744       54.623457\n",
       "5-48         50.096360"
      ]
     },
     "execution_count": 148,
     "metadata": {},
     "output_type": "execute_result"
    }
   ],
   "source": [
    "minicube_price.loc[\"number_of_reviews_disc\"]"
   ]
  },
  {
   "cell_type": "code",
   "execution_count": 149,
   "metadata": {},
   "outputs": [
    {
     "data": {
      "image/png": "[encoded data removed]",
      "text/plain": [
       "<Figure size 432x288 with 1 Axes>"
      ]
     },
     "metadata": {
      "needs_background": "light"
     },
     "output_type": "display_data"
    }
   ],
   "source": [
    "minicube_price.loc[\"number_of_reviews_disc\"].sort_values(by = \"occupancy_rate\").plot();"
   ]
  },
  {
   "attachments": {},
   "cell_type": "markdown",
   "metadata": {},
   "source": [
    "Apparently, the more reviews the higher the occupancy rate. But if the number of reviews is between 5 and 48, the demand decreases. "
   ]
  },
  {
   "attachments": {},
   "cell_type": "markdown",
   "metadata": {},
   "source": [
    "### Property price analysis"
   ]
  },
  {
   "attachments": {},
   "cell_type": "markdown",
   "metadata": {},
   "source": [
    "**What is the property price ranking by m<sup>2</sup> by district?**\n",
    "\n",
    "**What is the relationship between the property price and the renting price by district?**\n",
    "\n",
    "**What is the relationship between the property price and the availability by district?**"
   ]
  },
  {
   "cell_type": "code",
   "execution_count": 153,
   "metadata": {},
   "outputs": [
    {
     "data": {
      "text/plain": [
       "count     19472.000000\n",
       "mean     208119.237495\n",
       "std       83247.017354\n",
       "min       68775.000000\n",
       "25%      162412.500000\n",
       "50%      195187.500000\n",
       "75%      248737.500000\n",
       "max      746212.500000\n",
       "Name: purchase_price, dtype: float64"
      ]
     },
     "execution_count": 153,
     "metadata": {},
     "output_type": "execute_result"
    }
   ],
   "source": [
    "df[\"purchase_price\"].describe()"
   ]
  },
  {
   "attachments": {},
   "cell_type": "markdown",
   "metadata": {},
   "source": [
    "The mean price of a property is around 208.000€. How does the price vary per district?"
   ]
  },
  {
   "cell_type": "code",
   "execution_count": 156,
   "metadata": {},
   "outputs": [
    {
     "data": {
      "text/plain": [
       "neighbourhood_group\n",
       "Salamanca                305937.808989\n",
       "Chamberí                 265627.871025\n",
       "Chamartín                248956.701031\n",
       "Retiro                   233131.510563\n",
       "Centro                   230383.311408\n",
       "Moncloa - Aravaca        191446.073322\n",
       "Arganzuela               188633.696184\n",
       "Tetuán                   175831.336393\n",
       "Fuencarral - El Pardo    171870.496109\n",
       "Hortaleza                167142.169811\n",
       "Barajas                  146617.165605\n",
       "Ciudad Lineal            140216.447368\n",
       "San Blas - Canillejas    120827.948164\n",
       "Vicálvaro                120167.500000\n",
       "Moratalaz                116853.564356\n",
       "Villa de Vallecas        105520.344828\n",
       "Latina                   104757.773196\n",
       "Carabanchel              101761.092125\n",
       "Usera                     94828.006042\n",
       "Puente de Vallecas        89380.598802\n",
       "Villaverde                78967.553957\n",
       "Name: purchase_price, dtype: float64"
      ]
     },
     "execution_count": 156,
     "metadata": {},
     "output_type": "execute_result"
    }
   ],
   "source": [
    "df.groupby(\"neighbourhood_group\")[\"purchase_price\"].mean().sort_values(ascending=False)"
   ]
  },
  {
   "cell_type": "code",
   "execution_count": 159,
   "metadata": {},
   "outputs": [
    {
     "data": {
      "image/png": "[encoded data removed]",
      "text/plain": [
       "<Figure size 432x288 with 1 Axes>"
      ]
     },
     "metadata": {
      "needs_background": "light"
     },
     "output_type": "display_data"
    }
   ],
   "source": [
    "df.groupby(\"neighbourhood_group\")[\"purchase_price\"].mean().sort_values(ascending=False).plot(kind=\"bar\");"
   ]
  }
 ],
 "metadata": {
  "kernelspec": {
   "display_name": "Python 3",
   "language": "python",
   "name": "python3"
  },
  "language_info": {
   "codemirror_mode": {
    "name": "ipython",
    "version": 3
   },
   "file_extension": ".py",
   "mimetype": "text/x-python",
   "name": "python",
   "nbconvert_exporter": "python",
   "pygments_lexer": "ipython3",
   "version": "3.9.13"
  },
  "orig_nbformat": 4,
  "vscode": {
   "interpreter": {
    "hash": "2789caef645d45bff6716333081153e0abcdca1b280055be67a93206d3f61efc"
   }
  }
 },
 "nbformat": 4,
 "nbformat_minor": 2
}
